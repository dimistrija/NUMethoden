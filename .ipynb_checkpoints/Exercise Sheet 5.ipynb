


import numpy as np
import matplotlib.pyplot as plt
from numpy import exp, cos
import scipy
from scipy.integrate import simpson





N = 50
x_values = np.linspace(1,5, N)

dx = x_values[1] - x_values[0]
def f1(x):
    return x**2 + np.cos(x)
def f2(x):
    return np.exp(x) - x**3

f1_values = f1(x_values)
f2_values = f2(x_values) 
def num_derivative(values, dx):
    derivative = np.zeros_like(values)
    derivative[:-1] = (values[1:] - values[:-1]) / dx
    derivative[-1] = (values[-1] - values[-2]) / dx
    return derivative

f1_der = num_derivative(f1_values, dx)
f2_der = num_derivative(f2_values, dx) 
print(f1_der, f2_der)

plt.figure(figsize=(10,5))
plt.subplot(1,2,1)
plt.plot(x_values, f1_values, label="f1(x) = x^2 + cos(x)")
plt.plot(x_values, f1_der, label="f1'(x)", linestyle='--')
plt.legend()
plt.subplot(1,2,2)
plt.plot(x_values, f2_values, label="f2(x) = exp(x) - x^3")
plt.plot(x_values, f2_der, label="f2'(x)", linestyle='--')
plt.legend()
plt.tight_layout()
plt.show()


N = 50
x_values = np.linspace(1, 5, N)
def f1(x):
    return x**2 + np.cos(x)
def f2(x):
    return np.exp(x) - x**3
def f1_prime(x):
    return 2*x - np.sin(x)
def f2_prime(x):
    return np.exp(x) - 3 * x**2
def num_derivative(values, dx):
    derivative = np.zeros_like(values)
    derivative[:-1] = (values[1:] - values[:-1]) / dx
    derivative[-1] = (values[-1] - values[-2]) / dx
    return derivative
    
def compute_q(num_derivative, ana_derivative):
    return np.sum(np.abs(num_derivative - ana_derivative) / np.abs(ana_derivative))

dx_values = [0.2, 0.1, 0.05, 0.01]
q_values_f1 = []
q_values_f2 = []

for dx in dx_values:
    #function values
    f1_values = f1(x_values)
    f2_values = f2(x_values)
    #numerical values
    f1_num_der = num_derivative(f1_values, dx)
    f2_num_der = num_derivative(f2_values, dx)
    #analytical values
    f1_ana_der = f1_prime(x_values)
    f2_ana_der = f2_prime(x_values)
    #q for each func
    q_f1 = compute_q(f1_num_der, f1_ana_der)
    q_f2 = compute_q(f2_num_der, f2_ana_der)
    q_values_f1.append((dx, q_f1))
    q_values_f2.append((dx, q_f2))

print("q values for f1(x) for dx values")
for dx, q in q_values_f1:
    print(f"dx = {dx}: q = {q}")

print("q values for f2(x) for dx values")
for dx, q in q_values_f2:
    print(f"dx = {dx}: q = {q}")








from scipy.integrate import simpson

data = np.loadtxt('surface_luminosity.txt')
R = data[:, 0]
L = data[:, 1]

f_R = L * 2 * np.pi * R
integral_trapz = np.sum((f_R[:-1] + f_R[1:]) * np.diff(R) / 2)

print("Total Luminosity L using the Trapezoidal Rule:", integral_trapz)

integral_simpson = simpson(f_R, x=R) #x=R to handle unevenly spaced points
print("Total Luminosity L using Simpson's rule with scipy:", integral_simpson)








def f(x):
    return np.cos(x)
nodes_weights = {
    4: (np.array([-0.861136, -0.339981, 0.339981, 0.861136]), np.array([0.347855, 0.652145, 0.652145, 0.347855])),
    3: (np.array([-0.774597, 0, 0.774597]), np.array([0.555556, 0.888889, 0.555556])),
    2: (np.array([-0.57735, 0.57735]), np.array([1, 1])),
    1: (np.array([0]), np.array([2]))
}

I_exact = 2 * np.sin(1)
results = {}
for degree, (nodes, weights) in nodes_weights.items():
    integral = np.sum(weights * f(nodes))
    results[degree] = integral
    print(f"Approximate value using Gaussian quadrature with degree {degree}: {integral}")

print(f"\nExact value of the integral: {I_exact}")
print("\nDifferences from the exact value:")
for degree, integral in results.items():
    difference = abs(I_exact - integral)
    print(f"Degree {degree}: Difference = {difference}")









def f(x):
    return np.cos(np.pi * x / 2)
N = 99999
x_random = np.random.uniform(0, 1, N)
f_values = f(x_random)

I_mc = np.mean(f_values)
variance = np.var(f_values) / N

print("Monte Carlo Estimate of the Integral:", I_mc)
print("Variance of the Estimate:", variance)
print("Exact Value of the Integral:", 2 / np.pi)
print("Difference from Exact Value:", abs((2 / np.pi) - I_mc))







