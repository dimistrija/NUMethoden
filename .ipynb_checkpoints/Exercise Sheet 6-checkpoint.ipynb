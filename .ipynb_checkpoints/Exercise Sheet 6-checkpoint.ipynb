{
 "cells": [
  {
   "cell_type": "markdown",
   "metadata": {},
   "source": [
    "---\n",
    "---\n",
    "\n",
    "<h1><center><ins>Exercise Sheet 6</ins></center></h1>\n",
    "<h2><center>Numerical Methods <br>\n",
    "\n",
    "---\n",
    "---"
   ]
  },
  {
   "cell_type": "code",
   "execution_count": 7,
   "metadata": {},
   "outputs": [],
   "source": [
    "import matplotlib.pyplot as plt\n",
    "import numpy as np\n",
    "from numpy import log"
   ]
  },
  {
   "cell_type": "markdown",
   "metadata": {},
   "source": [
    "## Exercise 1 - Radioactive decay\n",
    "\n",
    "Radioactive decay is the process by which an unstable atomic nucleus loses energy by radiation. The fundamental law of radioactive decay is based on the fact that the decay, i.e. the transition of a parent nucleus to a daughter nucleus is a purely statistical process. The disintegration (decay) probability is a fundamental property of an atomic nucleus and remains equal in time. Mathematically this law is expressed as: \n",
    "\n",
    "$$ \\frac{d N}{dt} = - \\lambda N \\ , $$\n",
    "\n",
    "where $N$ is the number of radioactive nuclei, $dN/dt$ the variation of this number per unit of time, and $\\lambda$ is thus the probability of decay per nucleus per unit of time. A more intuitive representation of exponential decay is the time required for the decaying quantity to fall to one half of its initial value. This time, $t_{1/2}$, is called \"half-life\", and can be written in terms of the decay constant as:\n",
    "\n",
    "$$ t_{1/2} = \\frac{\\ln(2)}{\\lambda} \\ . $$\n",
    "\n",
    "Let's consider here Carbon-14, for which the decay constant is $\\lambda \\sim 1.21 \\times 10^{-4}$ yr$^{-1}$, and which has a half-life $t_{1/2} \\sim 5728$ yr. Its presence in organic materials is the basis of the radiocarbon dating method to date archaeological, geological and hydrogeological samples.\n",
    "\n",
    "**(A)** Implement _**your own version**_ of the **Euler and Runge Kutta (order 2) algorithms**, and solve the differential equation above by using these methods. Compare the results you obtain to the analytic solution, which can be calculated as:\n",
    "\n",
    "$$ N = N_0 \\exp(-\\lambda t) \\ ,$$\n",
    "\n",
    "where $N_0$ is the initial amount of the nuclei $[$i.e., $N(t = 0) = N_0]$.\n",
    "\n",
    "**(B)** Compute your solution for a sufficient number of steps so that you can determine the **half-life** of Carbon-14. Pay attention to the size of the time-step you are using, and discuss your results when using different time-steps. Which method recovers a value of the half-life that is closer to the real one?"
   ]
  },
  {
   "cell_type": "code",
   "execution_count": null,
   "metadata": {},
   "outputs": [],
   "source": [
    "lamb = 1.21 * 10**(-4)\n",
    "halflife = log(2)/lamb\n",
    "\n"
   ]
  },
  {
   "cell_type": "code",
   "execution_count": null,
   "metadata": {},
   "outputs": [
    {
     "ename": "SyntaxError",
     "evalue": "invalid character '−' (U+2212) (306767160.py, line 5)",
     "output_type": "error",
     "traceback": [
      "\u001b[0;36m  Cell \u001b[0;32mIn[10], line 5\u001b[0;36m\u001b[0m\n\u001b[0;31m    d e l t a x = ( xf−x0 ) / ( n−1)\u001b[0m\n\u001b[0m                      ^\u001b[0m\n\u001b[0;31mSyntaxError\u001b[0m\u001b[0;31m:\u001b[0m invalid character '−' (U+2212)\n"
     ]
    }
   ],
   "source": []
  },
  {
   "cell_type": "markdown",
   "metadata": {},
   "source": [
    "## Exercise 2 - The motion of a pendulum\n",
    "\n",
    "The differential equation describing the motion of a simple pendulum of length $l$ is\n",
    "\n",
    "$$ \\frac{d^2 \\theta}{dt} = - \\frac{g}{l} \\sin(\\theta) \\ , $$\n",
    "\n",
    "where $g$ is the local acceleration of gravity (on Earth, $g = 9.8$ m/s$^2$). For this exercise, consider $l = 10$ m. Here we will consider the simple case in which the maximal displacement of the pendulum is small, so that we can use the approximation $\\sin(\\theta) \\approx \\theta$ and consider the following, simplified, equation:\n",
    "\n",
    "$$ \\frac{d^2 \\theta}{dt} = - \\frac{g}{l} \\theta \\ . $$\n",
    "\n",
    "This equation can be solved analytically, giving the following expression for $\\theta(t)$:\n",
    "\n",
    "$$ \\theta(t) = \\theta_0 \\cos \\left(\\sqrt{\\frac{g}{l}} \\, t \\right) \\ .$$\n",
    "\n",
    "**(A)** Rewrite the above differential equation as a system of first-order differential equations, and solve it numerically by implementing _**your own version**_ of the **Euler method**. Consider that at a time $t = 0$ the pendulum is at $\\theta = 0.1$ radians, and it is not moving. \n",
    "\n",
    "**(B)** What is the displacement ($\\theta$) of the pendulum at a time $t = 20$ s, if you consider a time step $\\tau = 0.2$ s in your ODE integrator? How different is the value you obtain from the true one (calculated with the above equation)? How small should the time step be, if you want to have a discrepancy of at most 0.01 in the value of $\\theta(t = 20$ s$)$?\n",
    "\n",
    "**(C)** Implement _**your own version**_ of the **Euler-Cromer and Runge Kutta (order 4) algorithms**, and solve the differential equation again by using these methods. How big is the discrepancy from the real solution for these methods, at a time $t = 20$ s, if you consider a time step $\\tau = 0.2$ s?"
   ]
  },
  {
   "cell_type": "code",
   "execution_count": 9,
   "metadata": {},
   "outputs": [],
   "source": [
    "g, l = 9.8,10"
   ]
  },
  {
   "cell_type": "markdown",
   "metadata": {},
   "source": [
    "## Exercise 3 - Motion of a mass attached to a spring\n",
    "\n",
    "The differential equation describing the motion of a particle attached to a spring can be obtained by putting together Newton's 2nd law and Hooke's law, and it can be written as:\n",
    "\n",
    "$$ \\frac{d^2 x}{dt^2} = - \\frac{k}{m} x \\ , $$\n",
    "\n",
    "where $m$ is the mass of your particle, $k$ is the spring constant, and $x$ is the displacement from the equilibrium position.\n",
    "\n",
    "**(A)** Choose some reasonable values for $k$ and $m$, define the initial conditions of your problem, and compute the analytic solution of your specific system, considering that the general solution is given by:\n",
    "\n",
    "$$ x(t) = x_0 \\cos\\left(\\sqrt{\\frac{k}{m}} \\, t\\right) + v_0 \\sqrt{\\frac{m}{k}} \\sin \\left(\\sqrt{\\frac{k}{m}} \\, t\\right) \\ , $$\n",
    "\n",
    "where $x_0$ and $v_0$ are the position and velocity of the particle at time $t = 0$.\n",
    "\n",
    "**(B)** Rewrite the above differential equation as a system of first-order differential equations, and solve it numerically _**by using one of the built-in python methods**_ (take a look at the available methods in the `scipy` package).\n",
    "\n",
    "**(C)** Plot your solution and compare it to the analytical solution."
   ]
  },
  {
   "cell_type": "code",
   "execution_count": null,
   "metadata": {},
   "outputs": [],
   "source": []
  }
 ],
 "metadata": {
  "kernelspec": {
   "display_name": "base",
   "language": "python",
   "name": "python3"
  },
  "language_info": {
   "codemirror_mode": {
    "name": "ipython",
    "version": 3
   },
   "file_extension": ".py",
   "mimetype": "text/x-python",
   "name": "python",
   "nbconvert_exporter": "python",
   "pygments_lexer": "ipython3",
   "version": "3.11.10"
  }
 },
 "nbformat": 4,
 "nbformat_minor": 4
}
