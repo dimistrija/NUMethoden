{
 "cells": [
  {
   "cell_type": "markdown",
   "metadata": {},
   "source": [
    "---\n",
    "---\n",
    "\n",
    "<h1><center><ins>Exercise Sheet 1</ins></center></h1>\n",
    "<h2><center>Numerical Methods <br><br> Deadline: 17 October 2024</center></h2>\n",
    "\n",
    "---\n",
    "---"
   ]
  },
  {
   "cell_type": "markdown",
   "metadata": {},
   "source": [
    "## Exercise 1 - FizzBuzz\n",
    "\n",
    "Write a program that prints integer numbers from 1 to 25. For multiples of 3 print `\"Fizz\"` instead of the number, and for multiples of 5 print `\"Buzz\"`.\n",
    "\n",
    "**Careful:** for multiples of 3 and 5, you should print `\"FizzBuzz\"`!"
   ]
  },
  {
   "cell_type": "code",
   "execution_count": 30,
   "metadata": {},
   "outputs": [
    {
     "name": "stdout",
     "output_type": "stream",
     "text": [
      "1\n",
      "2\n",
      "Fizz\n",
      "4\n",
      "Buzz\n",
      "Fizz\n",
      "7\n",
      "8\n",
      "Fizz\n",
      "Buzz\n",
      "11\n",
      "Fizz\n",
      "13\n",
      "14\n",
      "FizzBuzz\n",
      "16\n",
      "17\n",
      "Fizz\n",
      "19\n",
      "Buzz\n",
      "Fizz\n",
      "22\n",
      "23\n",
      "Fizz\n",
      "Buzz\n"
     ]
    }
   ],
   "source": [
    "for i in range(1,26):\n",
    "    if i % 15 == 0:\n",
    "        print(\"FizzBuzz\")\n",
    "    elif i % 3 == 0:\n",
    "        print(\"Fizz\")\n",
    "    elif i % 5 == 0:\n",
    "        print(\"Buzz\")\n",
    "    else:\n",
    "        print(i)\n"
   ]
  },
  {
   "cell_type": "markdown",
   "metadata": {},
   "source": [
    "## Exercise 2 - Leap years\n",
    "\n",
    "**(a)** Write a function that, given a year, reports if it is a [leap year](https://en.wikipedia.org/wiki/Leap_year). The tricky thing is that a leap year in the Gregorian calendar occurs:\n",
    " * on every year that is evenly divisible by 4\n",
    " * except every year that is evenly divisible by 100\n",
    " * unless the year is also evenly divisible by 400\n",
    " \n",
    "For example, 1995 is not a leap year, but 1996 is. 1900 is not a leap year, but 2000 is.\n",
    "\n",
    "**(b)** Test your function on some selected years that allow you to check if it provides the correct solution."
   ]
  },
  {
   "cell_type": "code",
   "execution_count": 38,
   "metadata": {},
   "outputs": [
    {
     "name": "stdin",
     "output_type": "stream",
     "text": [
      "Please enter the year in question:  981\n"
     ]
    },
    {
     "name": "stdout",
     "output_type": "stream",
     "text": [
      "The year 981 is not a leap year.\n"
     ]
    }
   ],
   "source": [
    "def leap_machine9000(year):\n",
    "    if year % 4 == 0:\n",
    "        if year % 100 == 0:\n",
    "            if year % 400 == 0:\n",
    "                return True\n",
    "            else:\n",
    "                return False\n",
    "        else:\n",
    "            return True \n",
    "    else:\n",
    "        return False\n",
    "while True:\n",
    "    try:\n",
    "        year = int(input(\"Please enter the year in question: \"))\n",
    "        break\n",
    "    except ValueError:\n",
    "        print(\"Invalid input. Please enter a valid year.\")\n",
    "if leap_machine9000(year):\n",
    "    print(f\"The year {year} is a leap year.\")\n",
    "else:\n",
    "    print(f\"The year {year} is not a leap year.\")\n"
   ]
  },
  {
   "cell_type": "markdown",
   "metadata": {},
   "source": [
    "## Exercise 3 - Rigged dice\n",
    "\n",
    "**(a)** Create a rigged dice function that 25% of the time returns the number 6. The rest of the time it returns the integers 1,2,3,4,5 uniformly.\n",
    "\n",
    "**(b)** Test your function, by calling it 100k times and checking that 6 is returned in the range of 24700-25300 (inclusive) times. You do not need to check that numbers 1 to 5 are returned uniformly or randomly, but you need to check that your function returns integers in the range 1-6 (inclusive). Such a test works roughly 98% of the time, so you might want to run it twice if you are confident your solution is correct."
   ]
  },
  {
   "cell_type": "code",
   "execution_count": 59,
   "metadata": {},
   "outputs": [
    {
     "name": "stdout",
     "output_type": "stream",
     "text": [
      "6\n",
      "Test passed! The number 6 appeared 25117 times.\n"
     ]
    }
   ],
   "source": [
    "import numpy as np\n",
    "\n",
    "def rigged_dice():\n",
    "    choices = [1, 2, 3, 4, 5, 6]\n",
    "    probabilities = [0.15, 0.15, 0.15, 0.15, 0.15, 0.25]\n",
    "    return np.random.choice(choices, p=probabilities)\n",
    "print(rigged_dice())\n",
    "\n",
    "#100k test\n",
    "trials = 100000\n",
    "test = [rigged_dice() for i in range(trials)]\n",
    "six_count = test.count(6)\n",
    "\n",
    "if 24700 <= six_count <= 25300:\n",
    "    print(f\"Test passed! The number 6 appeared {six_count} times.\")\n",
    "else:\n",
    "    print(f\"Test failed! The number 6 appeared {six_count} times.\")"
   ]
  },
  {
   "cell_type": "markdown",
   "metadata": {},
   "source": [
    "## Exercise 4 - Find the fake coin\n",
    "\n",
    "Consider this famous puzzle: _\"You have 8 coins: all the coins have equal weight, except one. The odd one weights less than the others, not being of pure gold. In the worst case, how many iterations do you need to find the odd one out on a two plates scale?\"_\n",
    "\n",
    "Write a function that returns the minimum amount of weighing it will take to measure `N` coins in every possible occurrence (including worst case scenario, i.e.: without relying on luck at all!). The number `N` is guaranteed to be a positive integer.\n",
    "\n",
    "**Tip:** being able to think recursively might help here!\n",
    "\n",
    "**Note:** this is clearly a logical problem, because a good coder is a master of pattern recognition and subsequent optimization! ;)"
   ]
  },
  {
   "cell_type": "code",
   "execution_count": 64,
   "metadata": {},
   "outputs": [
    {
     "name": "stdout",
     "output_type": "stream",
     "text": [
      "Minimum number of weighings to find the fake coin among 8 coins: 2\n"
     ]
    }
   ],
   "source": [
    "import math\n",
    "\n",
    "def scale(n):\n",
    "    if n == 1:\n",
    "        return 0\n",
    "    return 1 + scale(math.ceil(n / 3))\n",
    "#group up the coins was not the idea i had myself...\n",
    "n = 8\n",
    "print(f\"Minimum number of weighings to find the fake coin among {n} coins: {scale(n)}\")\n"
   ]
  },
  {
   "cell_type": "markdown",
   "metadata": {},
   "source": [
    "## [Optional Exercise] - Syntax debug and a challenge\n",
    "\n",
    "While programming a video game, your friend Elliot decided to create a function to check if the user is still alive, called `check_alive`. Unfortunately, Elliot made some errors while creating the function. The function `check_alive` should return a _boolean_, which has true value if the player's health is greater than 0 and false value if it is 0 or below. The function receives one parameter, `health`, which will always be a whole number between `-10` and `10`.\n",
    "\n",
    "**(a)** Fix the function by correcting Elliot's mistakes.\n",
    "\n",
    "**(b)** Write a test to make sure that after your changes the function indeed does what it should. \n",
    "\n",
    "_CAREFUL: you cannot use the same condition in the function and in the test! You need to define another condition to check whether your function works as it should!_\n",
    "\n",
    "**(c)** When you are satisfied with your solution, take another look at your function: can you simplify it further by making it shorter?"
   ]
  },
  {
   "cell_type": "code",
   "execution_count": 84,
   "metadata": {},
   "outputs": [
    {
     "data": {
      "text/plain": [
       "True"
      ]
     },
     "execution_count": 84,
     "metadata": {},
     "output_type": "execute_result"
    }
   ],
   "source": [
    "# eps1.0_hellofriend.mov\n",
    "\n",
    "def check_alive(health):\n",
    "    return health > 0\n",
    "\n",
    "check_alive(3)"
   ]
  }
 ],
 "metadata": {
  "kernelspec": {
   "display_name": "Python 3 (ipykernel)",
   "language": "python",
   "name": "python3"
  },
  "language_info": {
   "codemirror_mode": {
    "name": "ipython",
    "version": 3
   },
   "file_extension": ".py",
   "mimetype": "text/x-python",
   "name": "python",
   "nbconvert_exporter": "python",
   "pygments_lexer": "ipython3",
   "version": "3.11.10"
  },
  "panel-cell-order": [
   "825b7bef",
   "203d647e",
   "be967f7f",
   "4bb55265",
   "5cc893ce",
   "3b87da33"
  ]
 },
 "nbformat": 4,
 "nbformat_minor": 4
}
