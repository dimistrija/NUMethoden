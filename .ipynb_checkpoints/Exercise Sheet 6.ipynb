


import matplotlib.pyplot as plt
import numpy as np
from numpy import log





lamb = 1.21 * 10**(-4)
halflife = log(2)/lamb










g, l = 9.8,10






