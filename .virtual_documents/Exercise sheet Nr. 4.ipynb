


#load some python packages you will need
import numpy as np                 #this helps compute things
import matplotlib.pyplot as plt    #this helps plot things
import scipy as sci
from scipy.interpolate import interp1d
from scipy.interpolate import lagrange






sid = 12136245  #  *** change this to your student number ***
seed = np.random.seed(sid)








x = np.arange(7,8,0.001)   #dummy range for function
y = np.cos(-2*np.pi*x) +0.4*x**2  #function f(x)

xi = np.array((7.2,7.4,7.6,7.8))   # points for interpolation
yi = y[np.digitize(xi,x)]

x_int = np.arange(7.2,7.8,0.001)
y_int = np.interp(x_int, xi, yi)

fig, ax = plt.subplots(1, 1, figsize=(10,7))
ax.plot(x,y,label='f(x)')  
ax.plot(xi,yi,'o',markersize=10)
ax.plot(x_int,y_int,label='linear int')  
ax.set_xlabel('x',fontsize=17)
ax.set_ylabel('y',fontsize=17)
ax.legend(loc='best',fontsize=15)


x = np.arange(7,8,0.001)  # Dummy range for function
y1 = np.cos(-2*np.pi*x) +0.4*x**2  # function f(x)

xi = np.array([7.2, 7.4, 7.6, 7.8])  # Points for interpolation
yi = y1[np.digitize(xi,x)]

# lagrange polynomial coeffs
coeffs = np.polyfit(xi, yi, deg=len(xi) - 1) 
p = np.poly1d(coeffs)  

plt.figure(figsize=(10, 10))
plt.plot(x, y1, label='f(x)')
plt.plot(xi, yi, 'o', markersize=10, label='Interpolation Points')  # interpolation points
plt.plot(x, p(x), label='Lagrange Polynomial', linestyle='--')  # Lagrange polynomial

plt.xlabel('x', fontsize=17)
plt.ylabel('y', fontsize=17)
plt.legend(loc='best', fontsize=15)
plt.title('Lagrange Polynomial Interpolation', fontsize=20)
plt.grid(True)
plt.show()






x_pts = np.linspace(7.2, 7.8, 1000) #fine grid
f_x_pts = np.cos(-2 * np.pi * x_pts) + 0.4 * x_pts**2 
p_x_pts = p(x_pts) 

abs_errors = np.abs(f_x_pts - p_x_pts)
max_abs_error = np.max(abs_errors)

print(f"Maximum absolute error over [7.2, 7.8]: {max_abs_error:.6f}")








def y(x):
    return np.pi * x**7

def linear_interpolation_error(d, func, interval, num_points=100000):
    x_nodes = np.arange(0, interval + d, d)
    y_nodes = func(x_nodes)
    
    #fine grid 
    x_fine = np.linspace(0, interval, num_points)
    y_true = func(x_fine)
    y_interp = np.interp(x_fine, x_nodes, y_nodes)
    
    return np.max(np.abs(y_true - y_interp))


def find_min_step(E_max_target, func, interval):
    d = interval #biggest step
    while True:
        error = linear_interpolation_error(d, func, interval)
        if error < E_max_target:
            return d
        d /= 2  # halve the step size and retry

E_max_target = 1e-6
interval = 2

required_step_size = find_min_step(E_max_target, y, interval)
print(f"Required step size for E_max < {E_max_target}: {required_step_size:.6e}")









xi = np.arange(-0.25,1,0.01)
xdum = np.arange(-0.25,0.25,0.01)
x = np.array([-0.25,-0.125,0,0.125,0.25])
y2 = np.cos(-3*np.pi*x) + 3*x
ydum = np.cos(-3*np.pi*xdum) + 3*xdum
yi = np.cos(-3*np.pi*xi) + 3*xi
plt.figure(figsize=(10,10))
plt.plot(xdum,ydum)
plt.plot(xi,yi,'--')
plt.plot(x,y2,'o',c='black')
plt.xlabel('x',fontsize=17)
plt.ylabel('y',fontsize=17)


from math import factorial
xi = np.linspace(-0.25, 0.25, 1000)
y_actual = np.cos(3 * np.pi * xi) + 3 * xi

y_taylor = 3 * xi
k = 0 
max_error = np.max(np.abs(y_actual - y_taylor))
j = 1 

# Iterate to find the required order j
while max_error > 1e-6:
    # Compute the k-th term of the cosine Taylor series
    term = ((-1)**k) * (3 * np.pi * xi)**(2 * k) / factorial(2 * k)
    y_taylor += term
    k += 1
    j = 2 * k + 1  # j represents the highest power in the polynomial
    max_error = np.max(np.abs(y_actual - y_taylor))
    if j > 21:  # prevent infinite loops
        print("no luck")
        break

print(f"Required Taylor polynomial order j: {j}")









#Known data points and function values.  Listed clockwise from the x_1,y_1 = (0,0) point.
xi = np.array([0,0,1,1])  #x_1,x_1,x_2,x_2
yi = np.array([0,1,1,0])  #y_1,y_2,y_2,y_1
zi = np.array([-0.7,0.3,2.4,2.6])  

#Randomly generate coordinates to find function value (z = f(x,y)) at 
xr = np.random.uniform()
yr = np.random.uniform()

z_r = zi[0]*(1 - xr)*(1 - yr) + zi[3]*xr*(1 - yr) + zi[2]*xr*yr + zi[1]*(1 - xr)*yr
    # f(0,0)                    f(1,0)             f(1,1)          f(0,1)
#weighted average based on the relative distances of xrxr​ and yryr​ within the unit square

#Visualize
plt.figure(figsize=(10,10))
scatter = plt.scatter(xi, yi, c=zi, s=170, marker='o', cmap='jet', edgecolor='black')
plt.colorbar(scatter, label='z = f(x,y)')
plt.xlabel('X', fontsize=17)
plt.ylabel('Y', fontsize=17)

# Plot the random point
plt.scatter(xr, yr, edgecolor='black', marker='s', s=290, c='white')
plt.text(0.05, 0.05, '($x_1,y_1)$', fontsize=12)
plt.text(0.05, 0.95, '($x_1,y_2)$', fontsize=12)
plt.text(0.9, 0.95, '($x_2,y_2)$', fontsize=12)
plt.text(0.9, 0.05, '($x_2,y_1)$', fontsize=12)
plt.text(xr, yr - 0.1, f'($x_r,y_r)$\nz = {z_r:.2f}', fontsize=12, ha='center')

plt.title('Bilinear Interpolation of f(x, y)', fontsize=16)
plt.grid(True)
plt.show()
print(f"Interpolated value at (x_r, y_r) = ({xr:.3f}, {yr:.3f}) is z = {z_r:.3f}")





