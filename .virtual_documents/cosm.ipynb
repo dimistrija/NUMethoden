import numpy as np
from scipy.integrate import quad
import matplotlib.pyplot as plt

def dA_of_z_( z, H0, Om, Ol ):
    """Angular diameter distance to redshift z in Mpc"""
# H0=H0 in km/s/Mpc, Om=Ωm, Ol=ΩΛ

    def E_z( zp ): # E(z) = H(z)/H0
        return np.sqrt(Om*(1+zp)**3 + Ol + Ok*(1+zp)**2)

    dH = 4428.24901 * (67.7 / H0)
    Ok = 1 - Om - Ol # Ωk
    dC, _ = quad( lambda zp: 1 / E_z( zp ), 0, z ) # dC /dH

    if np.abs(Ok) < 1e-6:
        Sk = dC
    elif Ok < 0.0:
        Sk = 1/np.sqrt(-Ok) * np.sin( np.sqrt(-Ok) * dC )
    elif Ok > 0.0:
        Sk = 1/np.sqrt(Ok) * np.sinh( np.sqrt(Ok) * dC )
    return dH * Sk / (1+z)

# vectorize the function so that it can be called with arrays as argument for z
dA_of_z = np.vectorize( dA_of_z_, excluded=[1,2,3] )
z = np.linspace(0, 2, 100) # create an array of 100 redshifts between 0 and 2
dA = dA_of_z( z, 67.7, 0.3, 0.7 ) # compute dA for the given cosmology for all z at once

plt.plot( z, dA )


from scipy.integrate import quad
import numpy as np
import matplotlib.pyplot as plt

def dA_of_z_( z, H0, Om, Ol ):
    """Angular diameter distance to redshift z in Mpc"""
    # H0 in km/s/Mpc, Om=Omega_matter, Ol=Omega_Lambda
    def E_z( zp ):  # E(z) = H(z)/H0
        return np.sqrt(Om*(1+zp)**3 + Ol + Ok*(1+zp)**2)
    
    dH = 2997.92458 / (H0/100.0)  # Hubble distance in Mpc
    Ok = 1.0 - Om - Ol            # Omega_k (curvature)
    integral, _ = quad(lambda zp: 1.0 / E_z(zp), 0, z)
    dC = dH * integral            # Comoving distance
    if np.abs(Ok) < 1e-6:
        Sk = dC
    elif Ok > 0.0:
        Sk = dH / np.sqrt(Ok) * np.sinh(np.sqrt(Ok) * dC / dH)
    else:
        Sk = dH / np.sqrt(-Ok) * np.sin(np.sqrt(-Ok) * dC / dH)
    dA = Sk / (1+z)
    return dA

# Vectorize the function to accept array inputs for z
dA_of_z = np.vectorize(dA_of_z_, excluded=[1,2,3])

# z range
z = np.linspace(0.01, 10, 500)

# Standard flat universe (ΛCDM)
H0_1, Om_1, Ol_1 = 67.7, 0.3, 0.7
dA1 = dA_of_z(z, H0_1, Om_1, Ol_1)

# Open universe (Ω_m=0.3, Ω_Λ=0)
H0_2, Om_2, Ol_2 = 67.7, 0.3, 0.0
dA2 = dA_of_z(z, H0_2, Om_2, Ol_2)

# Einstein–de Sitter universe (Ω_m=1, Ω_Λ=0)
H0_3, Om_3, Ol_3 = 67.7, 1.0, 0.0
dA3 = dA_of_z(z, H0_3, Om_3, Ol_3)

plt.figure(figsize=(12, 8))
plt.plot(z, dA1, label='Flat ΛCDM (Ω_m=0.3, Ω_Λ=0.7)')
plt.plot(z, dA2, label='Open Universe (Ω_m=0.3, Ω_Λ=0)')
plt.plot(z, dA3, label='Einstein–de Sitter (Ω_m=1, Ω_Λ=0)')
plt.xlabel('Redshift z')
plt.ylabel('Angular Diameter Distance d_A (Mpc)')
plt.title('Angular Diameter Distance vs Redshift for Different Cosmologies')
plt.legend()
plt.grid(True)

plt.show()









from scipy.integrate import quad
import numpy as np

def dA_of_z_( z, H0, Om, Ol ):
    """Angular diameter distance to redshift z in Mpc"""
    # H0=$H_0$ in km/s/Mpc, Om=$\Omega_m$, Ol=$\Omega_\Lambda$
    Ok = 1 - Om - Ol  # $\Omega_k$
    def E_z( zp ):  # $E(z) = H(z)/H_0$
        return np.sqrt(Om*(1+zp)**3 + Ol + Ok*(1+zp)**2)
    dH = 4428.24901 * (67.7 / H0)  # Hubble distance in Mpc
    dC, _ = quad( lambda zp: 1 / E_z( zp ), 0, z )  # $d_C / d_H$
    if np.abs(Ok) < 1e-6:
        Sk = dC
    elif Ok < 0.0:
        Sk = 1/np.sqrt(-Ok) * np.sin( np.sqrt(-Ok) * dC )
    elif Ok > 0.0:
        Sk = 1/np.sqrt(Ok) * np.sinh( np.sqrt(Ok) * dC )
    return dH * Sk / (1+z)

#  ΛCDM universe
H0, Om, Ol = 67.7, 0.3, 0.7


D = 10  # kpc

z_values = [1, 3]

for z in z_values:
    dA = dA_of_z_( z, H0, Om, Ol ) * 1e3  # Convert dA from Mpc to kpc
    theta_rad = D / dA  # Angular size in radians
    theta_arcsec = theta_rad * (206265)  # Convert radians to arcseconds
    print(f"At z = {z}, angular size θ = {theta_arcsec:.4f} arcseconds")




