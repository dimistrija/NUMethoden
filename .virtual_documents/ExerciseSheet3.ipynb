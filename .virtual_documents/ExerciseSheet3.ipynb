


import numpy as np
import matplotlib.pyplot as plt
from numpy import exp
import math





def bisect(f,a,b,N):
    if f(a)*f(b) >= 0:
        print("Bisection method fails.")
        return None
    a_n = a
    b_n = b
    for n in range(1,N+1):
        m_n = (a_n + b_n)/2
        f_m_n = f(m_n)
        if f(a_n)*f_m_n < 0:
            a_n = a_n
            b_n = m_n
        elif f(b_n)*f_m_n < 0:
            a_n = m_n
            b_n = b_n
        elif f_m_n == 0:
            print(f"Found exact solution at iteration {n}.")
            return m_n
        else:
            print("Bisection method fails.")
            return None
    return (a_n + b_n)/2
    
f = lambda x: math.exp(x) - 1 - x - (x**2 / 2)

approx_bi = bisect(f,-1,2,100)
print(approx_bi)
#seems hella fast and not too complicated and straight forward


def secant(f,a,b,N):
    if f(a)*f(b) >= 0:
        print("Secant method fails.")
        return None
    a_n = a
    b_n = b
    for n in range(1,N+1):
        m_n = a_n - f(a_n)*(b_n - a_n)/(f(b_n) - f(a_n))
        f_m_n = f(m_n)
        if f(a_n)*f_m_n < 0:
            a_n = a_n
            b_n = m_n
        elif f(b_n)*f_m_n < 0:
            a_n = m_n
            b_n = b_n
        elif f_m_n == 0:
            print(f"Found exact solution at iteration {n}.")
            return m_n
        else:
            print("Secant method fails.")
            return None
    return a_n - f(a_n)*(b_n - a_n)/(f(b_n) - f(a_n))

f = lambda x: math.exp(x) - 1 - x - (x**2 / 2)
aprox_sec = secant(f, -1,2,9999999)
print(aprox_sec)
# i tried very big numbers and it takes a while to get the the decent aproximation but time consuiming


def newton(f,Df,x0,epsilon,max_iter):
    xn = x0
    for n in range(0,max_iter):
        fxn = f(xn)
        if abs(fxn) < epsilon:
            print('Found solution after',n,'iterations.')
            return xn
        Dfxn = Df(xn)
        if Dfxn == 0:
            print('Zero derivative. No solution found.')
            return None
        xn = xn - fxn/Dfxn
    print('Exceeded maximum iterations. No solution found.')
    return None

f = lambda x: math.exp(x) - 1 - x - (x**2 / 2)
Df = lambda x: math.exp(x) - 1 - x
approx_new = newton(f,Df,0.1,1e-10,99999)
print(approx_new)
#very fast but not as accurate I think also it changes the value a lot depending on my x0 which is a bit weird but stil lgets the job done


def f(x):
    return math.exp(x) - 1 - x - (x**2 / 2)

def falsePosition(x0,x1,e):
    step = 1
    print('\n\n*** False Position ***')
    condition = True
    while condition:
        x2 = x0 - (x1-x0) * f(x0)/( f(x1) - f(x0) )
        print('Iteration-%d, x2 = %0.6f and f(x2) = %0.6f' % (step, x2, f(x2)))

        if f(x0) * f(x2) < 0:
            x1 = x2
        else:
            x0 = x2

        step = step + 1
        condition = abs(f(x2)) > e

    print('\nRequired root is: %0.8f' % x2)

x0 = input('First Guess: ')
x1 = input('Second Guess: ')
e = input('Tolerable Error: ')

x0 = float(x0)
x1 = float(x1)
e = float(e)

if f(x0) * f(x1) > 0.0:
    print('Given guess values do not bracket the root.')
    print('Try Again with different guess values.')
else:
    falsePosition(x0,x1,e)

#confusing and more complex than others I think not my favourite, even the code I found online was kinda ahrd to understand idk





A = np.array([[5, 3],
              [1, -4]])
b = np.array([15, -2])
x = np.linalg.solve(A, b)

print("Solution for x:", x)



from scipy.linalg import lu

P, L, U = lu(A)
A = np.array([[5, 3],
              [1, -4]])
b = np.array([15, -2])
print("L matrix:")
print(L)
print("\nU matrix:")
print(U)

Pb = np.dot(P, b)
y = np.linalg.solve(L, Pb)
x1 = np.linalg.solve(U, y)

print("\nSolution for x:", x1)
is_solution = np.allclose(np.dot(A, x1), b)
print("\nIs the solution valid?", is_solution)



A2 = np.array([[1, -4],
              [5, 3]])
b2 = np.array([3, -7])
x2 = np.linalg.solve(A2, b2)

print("Solution for x:", x2)














from scipy.optimize import fsolve, root, newton_krylov

data = np.loadtxt('om_2009.txt')
velocities = data[:, 0]
delta_v = data[:, 1]
N = len(velocities)

def equations(vars, velocities, delta_v):
    v_bar, sigma = vars
    if sigma <= 0:
        return [1e10, 1e10]
    
    term = sigma**2 + delta_v**2
    eq1 = np.sum(velocities / term) - v_bar * np.sum(1 / term)
    eq2 = np.sum((velocities - v_bar)**2 / term**2) - np.sum(1 / term)
    return [eq1, eq2]

initial_v_bar = np.mean(velocities)
initial_sigma = np.std(velocities)
initial_guess = [initial_v_bar, initial_sigma]

solutions = {}
#  fsolve
solution_fsolve, info_fsolve, ier_fsolve, mesg_fsolve = fsolve(
    equations, 
    initial_guess, 
    args=(velocities, delta_v), 
    full_output=True
)
solutions['fsolve'] = solution_fsolve

# broyden1
sol_root_broyden1 = root(
    equations, 
    initial_guess, 
    args=(velocities, delta_v), 
    method='broyden1'
)
solutions['root_broyden1'] = sol_root_broyden1.x

# newton_krylov
sol_newton_krylov = newton_krylov(
    lambda vars: equations(vars, velocities, delta_v), 
    initial_guess, 
    f_tol=1e-8
)
solutions['newton_krylov'] = sol_newton_krylov

for method, sol in solutions.items():
    print(f"Solution using {method}:")
    print(f"  Mean Velocity (v_bar) = {sol[0]:.4f} km/s")
    print(f"  Velocity Dispersion (sigma) = {sol[1]:.4f} km/s\n")

print("Verification of Solutions (Residuals):\n")
for method, sol in solutions.items():
    res = equations(sol, velocities, delta_v)
    res_norm = np.linalg.norm(res)
    print(f"Residuals for {method}:")
    print(f"  Equation 1 Residual: {res[0]:.6e}")
    print(f"  Equation 2 Residual: {res[1]:.6e}")
    print(f"  Norm of Residuals: {res_norm:.6e}\n")





def equations(vars, velocities, delta_v):
    v_bar, sigma = vars
    if sigma <= 0:
        return [1e10, 1e10]
    term = sigma**2 + delta_v**2
    eq1 = np.sum(velocities / term) - v_bar * np.sum(1 / term)
    eq2 = np.sum((velocities - v_bar)**2 / term**2) - np.sum(1 / term)
    return [eq1, eq2]

#  initial guesses
initial_guesses = {
    'Good': [np.mean(velocities), np.std(velocities)],
    'Negative Sigma': [np.mean(velocities), -5],
    'Extreme Values': [0, 1000]
}

solvers = ['fsolve', 'root_broyden1', 'newton_krylov']

for label, guess in initial_guesses.items():
    print(f"\nInitial Guess: {label}")
    solutions = {}
    
    try:
        # fsolve
        sol_f = fsolve(equations, guess, args=(velocities, delta_v))
        solutions['fsolve'] = sol_f
    except Exception as e:
        solutions['fsolve'] = str(e)
    
    try:
        # root with 'broyden1'
        sol_broy1 = root(equations, guess, args=(velocities, delta_v), method='broyden1')
        solutions['root_broyden1'] = sol_broy1.x if sol_broy1.success else sol_broy1.message
    except Exception as e:
        solutions['root_broyden1'] = str(e)
    try:
        # newton_krylov
        sol_newton = newton_krylov(lambda vars: equations(vars, velocities, delta_v), guess, f_tol=1e-8)
        solutions['newton_krylov'] = sol_newton
    except Exception as e:
        solutions['newton_krylov'] = str(e)
    
    for solver, result in solutions.items():
        print(f"  {solver}: {result}")




