


import numpy as np
import matplotlib.pyplot as plt
%matplotlib inline
from astropy.io import fits
import os
import pandas as pd

ROOT = os.path.dirname(os.path.realpath("__file__"))
PATH = '/Daten/'
BONUS = '/Bonusdaten/'
FILTER = '/Filterkurven/'
REF = '/Referenzspektren/'








with fits.open(ROOT+PATH+'1.fits') as file:
    header = file[0].header
    data = file[0].data
print(header)








print("NAXIS:", header["NAXIS"])
print("NAXIS1:", header["NAXIS1"])
print("WCSDIM:", header["WCSDIM"])
print("CTYPE1:", header["CTYPE1"])
print("CRPIX1:", header["CRPIX1"])
print("CRVAL1:", header["CRVAL1"])
print("CDELT1:", header["CDELT1"])








wavelength_end = header["CRVAL1"]+(header["NAXIS1"]-1)*header["CDELT1"]
print(wavelength_end)





x = np.arange(header["CRVAL1"], wavelength_end + header["CDELT1"], header["CDELT1"])
y = data






print("x:", len(x))
print(f"y: {len(y)}")






yMin = 0
yMax = 2.75

fig = plt.figure(figsize=(10, 8))
ax = plt.subplot(111)
ax.plot(x, y, label='Spectrum 1')
ax.set_xlabel('Wavelength')
ax.set_ylabel('Intensity')
ax.set_xlim([3500, 7000])
ax.set_ylim([yMin, yMax])

ax.vlines(4861, yMin, yMax, linestyles='dashed', colors='red', label='H-beta')

ax.vlines(4338, yMin, yMax, linestyles=':', colors='green', label='TBD', linewidth=1.5)
ax.vlines(4100, yMin, yMax, linestyles=':', colors='green', label='TBD', linewidth=1.5)
ax.vlines(3971, yMin, yMax, linestyles=':', colors='green', label='TBD', linewidth=1.5)
ax.vlines(3885, yMin, yMax, linestyles=':', colors='green', label='TBD', linewidth=1.5)

plt.legend()
plt.minorticks_on()  
plt.grid(visible=True, which='major', linestyle='-', linewidth=1)
plt.grid(visible=True, which='minor', linestyle=':', linewidth=0.5)
#plt.semilogy()




















#Calc end of Wave-Band
def calcRangeEnd(head):
    return head["CRVAL1"]+(head["NAXIS1"]-1)*head["CDELT1"]

#calc X Axis
def calcXVals(header):
    return np.arange(header["CRVAL1"], calcRangeEnd(header) + header["CDELT1"], header["CDELT1"])


#Fetch Data-Files
files = [file for file in os.listdir(ROOT+PATH) if file.endswith('fits')]

#Split Filenames for Sorting and def Sorting-Frame
tempArr = []
for file in files:
    nr = file.split('.')[0]
    if file.endswith('fits') == True:
        tempArr.append(int(nr))
    else:
        tempArr.append(None)

#Lookup DF Nr-File
fileFrame = pd.DataFrame({'Nr': tempArr, 'Files': files})
fileFrame.sort_values(['Nr', 'Files'], inplace=True)

#Fetch Data
def openFit(fileName):
    with fits.open(ROOT+PATH+fileName) as fit:
        header = fit[0].header
        data = fit[0].data.flatten()
    return (header, data)

#Extract Header and Data from Files and prep plotable axis
Headers = pd.DataFrame(columns=['Nr', 'Header'])
Spectra = pd.DataFrame(columns=['Nr', 'Data'])
Axes = pd.DataFrame(columns=['X', 'Y'])

for idx, row in fileFrame.iterrows():
    nr = row['Nr']
    file = row['Files']
    fitData = openFit(file)

    Headers.loc[len(Headers)] = [nr, fitData[0]]
    Spectra.loc[len(Spectra)] = [nr, fitData[1]]
    Axes.loc[len(Axes)] = [calcXVals(fitData[0]), fitData[1]]

def plotSpectra(x, y, ax=None, nr=None, xLim=[], yLim=[], emmLines=[]):
    ax.plot(x, y, label=f'Spectrum {nr}')
    ax.minorticks_on()  
    ax.grid(visible=True, which='major', linestyle='-', linewidth=1)
    ax.grid(visible=True, which='minor', linestyle=':', linewidth=0.5)

    for line in emmLines:
        match line:
            case 'H-beta':
                ax.vlines(4861, yLim[0], yLim[1], linestyles='dashed', colors='red', label='H-beta')
            case 'He I':
                ax.vlines(4471, yLim[0], yLim[1], linestyles=':', colors='green', label='He I')
            case 'H-delta':
                ax.vlines(4102, yLim[0], yLim[1], linestyles='dashed', colors='red', label='H-delta')
            case 'H-epsilon':
                ax.vlines(3970, yLim[0], yLim[1], linestyles='dashed', colors='red', label='H-epsilon')
            case 'Ca H':
                ax.vlines(3968.5, yLim[0], yLim[1], linestyles=':', colors='purple', label='Ca H')
            case 'Ca K':
                ax.vlines(3933.7, yLim[0], yLim[1], linestyles=':', colors='purple', label='Ca K')

    ax.set_xlim(xLim)
    ax.set_ylim(yLim)
    ax.legend()
    return ax

xScalings = [[3500, 5500]
              ,[3500, 5500]
              ,[1150, 10000]
              ,[3500, 5500]
              ,[3500, 5500]
              ,[1150, 12000]
              ,[3500, 5000]
              ,[3500, 5500]
              ,[3500, 5500]
              ,[1150, 10000]
              ,[3500, 5500]
              ,[3500, 5500]]

yScalings = [[0, 2.75]
             ,[0, 1.5]
             ,[0, 1.5]
             ,[0, 2]
             ,[0, 1.5]
             ,[0, 4]
             ,[0, 5]
             ,[0, 1.5]
             ,[0, 6]
             ,[0, 1.3]
             ,[0, 5]
             ,[0, 1.5]]

emissionLines = [['H-beta', 'He I', 'H-delta', 'H-epsilon', 'Ca H', 'Ca K']
                 ,['H-beta', 'He I', 'H-delta', 'H-epsilon', 'Ca H', 'Ca K']
                 ,['H-beta']
                 ,['H-beta', 'He I', 'H-delta', 'H-epsilon', 'Ca H', 'Ca K']
                 ,['H-beta', 'He I', 'H-delta', 'H-epsilon', 'Ca H', 'Ca K']
                 ,['H-beta']
                 ,['H-beta', 'He I']
                 ,['H-beta', 'He I', 'H-delta', 'H-epsilon', 'Ca H', 'Ca K']
                 ,['H-beta', 'He I', 'H-delta', 'H-epsilon', 'Ca H', 'Ca K']
                 ,['H-beta']
                 ,['H-beta', 'He I', 'H-delta', 'H-epsilon', 'Ca H', 'Ca K']
                 ,['H-beta', 'He I', 'H-delta', 'H-epsilon', 'Ca H', 'Ca K']]


fig, axes = plt.subplots(12, 1, figsize=(15, 60))
for idx, row in Axes.iterrows():
    plotSpectra(row['X'], row['Y'], ax=axes[idx], nr=idx, xLim=xScalings[idx], yLim=yScalings[idx], emmLines=emissionLines[idx])


plt.show()












with fits.open(PATH+REF+'a0i.fits') as file:
    header_a0i = file[0].header
    data_a0i = file[0].data

x_a0i = np.arange(header_a0i["CRVAL1"], calcRangeEnd(header_a0i) + header_a0i["CDELT1"], header_a0i["CDELT1"])
y_a0i = data_a0i

with fits.open(PATH+REF+'a0v.fits') as file:
    header_a0v = file[0].header
    data_a0v = file[0].data

x_a0v = np.arange(header_a0v["CRVAL1"], calcRangeEnd(header_a0v) + header_a0v["CDELT1"], header_a0v["CDELT1"])
y_a0v = data_a0v

fig = plt.figure(figsize=(10, 8))
ax = plt.subplot(111)
ax.plot(x_a0v, y_a0v, label='Spectrum A0V')
ax.plot(x_a0i, y_a0i, label='Spectrum A0I')
ax.set_xlabel('Wavelength')
ax.set_ylabel('Intensity')
ax.set_xlim([1150, 10000])
ax.set_ylim([0, 3])

























