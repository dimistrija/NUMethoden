


import numpy as np
import matplotlib.pyplot as plt
%matplotlib inline

from astropy.io import fits








with fits.open('daten_praxis/1.fits') as file:
    header = file[0].header
    data = file[0].data
print(header)








print("NAXIS:", header["NAXIS"])
print("NAXIS1:", header["NAXIS1"])
print("WCSDIM:", header["WCSDIM"])
print("CTYPE1:", header["CTYPE1"])
print("CRPIX1:", header["CRPIX1"])
print("CRVAL1:", header["CRVAL1"])
print("CDELT1:", header["CDELT1"])








wavelength_end = header["CRVAL1"]+(header["NAXIS1"]-1)*header["CDELT1"]
print(wavelength_end)





x = np.arange(header["CRVAL1"], wavelength_end + header["CDELT1"], header["CDELT1"])
y = data






print("x:", len(x))
print(f"y: {len(y)}")






yMin = 0
yMax = 2.75

fig = plt.figure(figsize=(10, 8))
ax = plt.subplot(111)
ax.plot(x, y, label='Spectrum 1')
ax.set_xlabel('Wavelength')
ax.set_ylabel('Intensity')
ax.set_xlim([3500, 7000])
ax.set_ylim([yMin, yMax])

ax.vlines(4861, yMin, yMax, linestyles='dashed', colors='red', label='H-beta')

ax.vlines(4338, yMin, yMax, linestyles=':', colors='green', label='TBD', linewidth=1.5)
ax.vlines(4100, yMin, yMax, linestyles=':', colors='green', label='TBD', linewidth=1.5)
ax.vlines(3971, yMin, yMax, linestyles=':', colors='green', label='TBD', linewidth=1.5)
ax.vlines(3885, yMin, yMax, linestyles=':', colors='green', label='TBD', linewidth=1.5)

plt.legend()
plt.minorticks_on()  
plt.grid(visible=True, which='major', linestyle='-', linewidth=1)
plt.grid(visible=True, which='minor', linestyle=':', linewidth=0.5)
#plt.semilogy()




















def calcRangeEnd(head):
    return head["CRVAL1"]+(head["NAXIS1"]-1)*head["CDELT1"]

with fits.open('daten_praxis/1.fits') as file:
    header1 = file[0].header
    data1 = file[0].data

x1 = np.arange(header1["CRVAL1"], calcRangeEnd(header1) + header1["CDELT1"], header1["CDELT1"])
y1 = data1

with fits.open('daten_praxis/2.fits') as file:
    header2 = file[0].header
    data2 = file[0].data

x2 = np.arange(header2["CRVAL1"], calcRangeEnd(header2) + header2["CDELT1"], header2["CDELT1"])
y2 = data2

with fits.open('daten_praxis/3.fits') as file:
    header3 = file[0].header
    data3 = file[0].data

x3 = np.arange(header3["CRVAL1"], calcRangeEnd(header3) + header3["CDELT1"], header3["CDELT1"])
y3 = data3

with fits.open('daten_praxis/4.fits') as file:
    header4 = file[0].header
    data4 = file[0].data

x4 = np.arange(header4["CRVAL1"], calcRangeEnd(header4) + header4["CDELT1"], header4["CDELT1"])
y4 = data4

with fits.open('daten_praxis/5.fits') as file:
    header5 = file[0].header
    data5 = file[0].data

x5 = np.arange(header5["CRVAL1"], calcRangeEnd(header5) + header5["CDELT1"], header5["CDELT1"])
y5 = data5

with fits.open('daten_praxis/6.fits') as file:
    header6 = file[0].header
    data6 = file[0].data
    
x6 = np.arange(header6["CRVAL1"], calcRangeEnd(header6) + header6["CDELT1"], header6["CDELT1"])
y6 = data6

with fits.open('daten_praxis/7.fits') as file:
    header7 = file[0].header
    data7 = file[0].data

x7 = np.arange(header7["CRVAL1"], calcRangeEnd(header7) + header7["CDELT1"], header7["CDELT1"])
y7 = data7

with fits.open('daten_praxis/8.fits') as file:
    header8 = file[0].header
    data8 = file[0].data

x8 = np.arange(header8["CRVAL1"], calcRangeEnd(header8) + header8["CDELT1"], header8["CDELT1"])
y8 = data8

with fits.open('daten_praxis/9.fits') as file:
    header9 = file[0].header
    data9 = file[0].data

x9 = np.arange(header9["CRVAL1"], calcRangeEnd(header9) + header9["CDELT1"], header9["CDELT1"])
y9 = data9

with fits.open('daten_praxis/10.fits') as file:
    header10 = file[0].header
    data10 = file[0].data

x10 = np.arange(header10["CRVAL1"], calcRangeEnd(header10) + header10["CDELT1"], header10["CDELT1"])
y10 = data10

with fits.open('daten_praxis/11.fits') as file:
    header11 = file[0].header
    data11 = file[0].data

x11 = np.arange(header11["CRVAL1"], calcRangeEnd(header11) + header11["CDELT1"], header11["CDELT1"])
y11 = data11

with fits.open('daten_praxis/12.fits') as file:
    header12 = file[0].header
    data12 = file[0].data

x12 = np.arange(header12["CRVAL1"], calcRangeEnd(header12) + header12["CDELT1"], header12["CDELT1"])
y12 = data12


fig, [ax1, ax2, ax3, ax4, ax5, ax6, ax7, ax8, ax9, ax10, ax11, ax12] = plt.subplots(12, 1, figsize=(15, 60))

ax1.plot(x1, y1, label='Spectrum 1')
ax1.minorticks_on()  
ax1.grid(visible=True, which='major', linestyle='-', linewidth=1)
ax1.grid(visible=True, which='minor', linestyle=':', linewidth=0.5)
ax1.vlines(4861, yMin, 2.75, linestyles='dashed', colors='red', label='H-beta')
ax1.vlines(4471, yMin, 2.75, linestyles=':', colors='green', label='He I')
ax1.vlines(4102, yMin, 2.75, linestyles='dashed', colors='red', label='H-delta')
ax1.vlines(3970, yMin, 2.75, linestyles='dashed', colors='red', label='H-epsilon')
ax1.vlines(3968.5, yMin, 2.75, linestyles=':', colors='purple', label='Ca H')
ax1.vlines(3933.7, yMin, 2.75, linestyles=':', colors='purple', label='Ca K')
ax1.set_xlim([3500, 5500])
ax1.set_ylim([0, 2.75])
ax1.legend()

ax2.plot(x2, y2, label='Spectrum 2')
ax2.minorticks_on()  
ax2.grid(visible=True, which='major', linestyle='-', linewidth=1)
ax2.grid(visible=True, which='minor', linestyle=':', linewidth=0.5)
ax2.vlines(4861, yMin, 1.5, linestyles='dashed', colors='red', label='H-beta')
ax2.vlines(4471, yMin, 1.5, linestyles=':', colors='green', label='He I')
ax2.vlines(4102, yMin, 2.75, linestyles='dashed', colors='red', label='H-delta')
ax2.vlines(3970, yMin, 2.75, linestyles='dashed', colors='red', label='H-epsilon')
ax2.vlines(3968.5, yMin, 2.75, linestyles=':', colors='purple', label='Ca H')
ax2.vlines(3933.7, yMin, 2.75, linestyles=':', colors='purple', label='Ca K')
ax2.set_xlim([3500, 5500])
ax2.set_ylim([0, 1.5])
ax2.legend()

ax3.plot(x3, y3, label='Spectrum 3')
ax3.minorticks_on()  
ax3.grid(visible=True, which='major', linestyle='-', linewidth=1)
ax3.grid(visible=True, which='minor', linestyle=':', linewidth=0.5)
ax3.vlines(4861, yMin, 1.5, linestyles='dashed', colors='red', label='H-beta')
ax3.set_xlim([1150, 10000])
ax3.set_ylim([0, 1.5])
ax3.legend()

ax4.plot(x4, y4, label='Spectrum 4')
ax4.minorticks_on()  
ax4.grid(visible=True, which='major', linestyle='-', linewidth=1)
ax4.grid(visible=True, which='minor', linestyle=':', linewidth=0.5)
ax4.vlines(4861, yMin, 2, linestyles='dashed', colors='red', label='H-beta')
ax4.vlines(4471, yMin, 2, linestyles=':', colors='green', label='He I')
ax4.vlines(4102, yMin, 2.75, linestyles='dashed', colors='red', label='H-delta')
ax4.vlines(3970, yMin, 2.75, linestyles='dashed', colors='red', label='H-epsilon')
ax4.vlines(3968.5, yMin, 2.75, linestyles=':', colors='purple', label='Ca H')
ax4.vlines(3933.7, yMin, 2.75, linestyles=':', colors='purple', label='Ca K')
ax4.set_xlim([3500, 5500])
ax4.set_ylim([0, 2])
ax4.legend()

ax5.plot(x5, y5, label='Spectrum 5')
ax5.minorticks_on()  
ax5.grid(visible=True, which='major', linestyle='-', linewidth=1)
ax5.grid(visible=True, which='minor', linestyle=':', linewidth=0.5)
ax5.vlines(4861, yMin, 1.5, linestyles='dashed', colors='red', label='H-beta')
ax5.vlines(4471, yMin, 1.5, linestyles=':', colors='green', label='He I')
ax5.vlines(4102, yMin, 2.75, linestyles='dashed', colors='red', label='H-delta')
ax5.vlines(3970, yMin, 2.75, linestyles='dashed', colors='red', label='H-epsilon')
ax5.vlines(3968.5, yMin, 2.75, linestyles=':', colors='purple', label='Ca H')
ax5.vlines(3933.7, yMin, 2.75, linestyles=':', colors='purple', label='Ca K')
ax5.set_xlim([3500, 5500])
ax5.set_ylim([0, 1.5])
ax5.legend()

ax6.plot(x6, y6, label='Spectrum 6')
ax6.minorticks_on()  
ax6.grid(visible=True, which='major', linestyle='-', linewidth=1)
ax6.grid(visible=True, which='minor', linestyle=':', linewidth=0.5)
ax6.vlines(4861, yMin, 4, linestyles='dashed', colors='red', label='H-beta')
ax6.set_xlim([1150, 12000])
ax6.set_ylim([0, 4])
ax6.legend()

ax7.plot(x7, y7, label='Spectrum 7')
ax7.minorticks_on()  
ax7.grid(visible=True, which='major', linestyle='-', linewidth=1)
ax7.grid(visible=True, which='minor', linestyle=':', linewidth=0.5)
ax7.vlines(4861, yMin, 5, linestyles='dashed', colors='red', label='H-beta')
ax7.vlines(4471, yMin, 5, linestyles=':', colors='green', label='He I')
ax7.set_xlim([3500, 5000])
ax7.set_ylim([0, 5])
ax7.legend()

ax8.plot(x8, y8, label='Spectrum 8')
ax8.minorticks_on()  
ax8.grid(visible=True, which='major', linestyle='-', linewidth=1)
ax8.grid(visible=True, which='minor', linestyle=':', linewidth=0.5)
ax8.vlines(4861, yMin, 1.5, linestyles='dashed', colors='red', label='H-beta')
ax8.vlines(4471, yMin, 1.5, linestyles=':', colors='green', label='He I')
ax8.vlines(4102, yMin, 2.75, linestyles='dashed', colors='red', label='H-delta')
ax8.vlines(3970, yMin, 2.75, linestyles='dashed', colors='red', label='H-epsilon')
ax8.vlines(3968.5, yMin, 2.75, linestyles=':', colors='purple', label='Ca H')
ax8.vlines(3933.7, yMin, 2.75, linestyles=':', colors='purple', label='Ca K')
ax8.set_xlim([3500, 5500])
ax8.set_ylim([0, 1.5])
ax8.legend()

ax9.plot(x9, y9, label='Spectrum 9')
ax9.minorticks_on()  
ax9.grid(visible=True, which='major', linestyle='-', linewidth=1)
ax9.grid(visible=True, which='minor', linestyle=':', linewidth=0.5)
ax9.vlines(4861, yMin, 6, linestyles='dashed', colors='red', label='H-beta')
ax9.vlines(4471, yMin, 6, linestyles=':', colors='green', label='He I')
ax9.vlines(4102, yMin, 6, linestyles='dashed', colors='red', label='H-delta')
ax9.vlines(3970, yMin, 6, linestyles='dashed', colors='red', label='H-epsilon')
ax9.vlines(3968.5, yMin, 6, linestyles=':', colors='purple', label='Ca H')
ax9.vlines(3933.7, yMin, 6, linestyles=':', colors='purple', label='Ca K')
ax9.set_xlim([3500, 5500])
ax9.set_ylim([0, 6])
ax9.legend()

ax10.plot(x10, y10, label='Spectrum 10')
ax10.minorticks_on()  
ax10.grid(visible=True, which='major', linestyle='-', linewidth=1)
ax10.grid(visible=True, which='minor', linestyle=':', linewidth=0.5)
ax10.vlines(4861, yMin, 1.3, linestyles='dashed', colors='red', label='H-beta')
ax10.set_xlim([1150, 10000])
ax10.set_ylim([0, 1.3])
ax10.legend()

ax11.plot(x11, y11, label='Spectrum 11')
ax11.minorticks_on()  
ax11.grid(visible=True, which='major', linestyle='-', linewidth=1)
ax11.grid(visible=True, which='minor', linestyle=':', linewidth=0.5)
ax11.vlines(4861, yMin, 5, linestyles='dashed', colors='red', label='H-beta')
ax11.vlines(4471, yMin, 5, linestyles=':', colors='green', label='He I')
ax11.vlines(4102, yMin, 5, linestyles='dashed', colors='red', label='H-delta')
ax11.vlines(3970, yMin, 5, linestyles='dashed', colors='red', label='H-epsilon')
ax11.vlines(3968.5, yMin, 5, linestyles=':', colors='purple', label='Ca H')
ax11.vlines(3933.7, yMin, 5, linestyles=':', colors='purple', label='Ca K')
ax11.set_xlim([3500, 5500])
ax11.set_ylim([0, 5])
ax11.legend()

ax12.plot(x12, y12, label='Spectrum 12')
ax12.minorticks_on()  
ax12.grid(visible=True, which='major', linestyle='-', linewidth=1)
ax12.grid(visible=True, which='minor', linestyle=':', linewidth=0.5)
ax12.vlines(4861, yMin, 1.5, linestyles='dashed', colors='red', label='H-beta')
ax12.vlines(4471, yMin, 1.5, linestyles=':', colors='green', label='He I')
ax12.vlines(4102, yMin, 1.5, linestyles='dashed', colors='red', label='H-delta')
ax12.vlines(3970, yMin, 1.5, linestyles='dashed', colors='red', label='H-epsilon')
ax12.vlines(3968.5, yMin, 1.5, linestyles=':', colors='purple', label='Ca H')
ax12.vlines(3933.7, yMin, 1.5, linestyles=':', colors='purple', label='Ca K')
ax12.set_xlim([3500, 5500])
ax12.set_ylim([0, 1.5])
ax12.legend()














with fits.open('daten_praxis/Referenzspektren/a0i.fits') as file:
    header_a0i = file[0].header
    data_a0i = file[0].data

x_a0i = np.arange(header_a0i["CRVAL1"], calcRangeEnd(header_a0i) + header_a0i["CDELT1"], header_a0i["CDELT1"])
y_a0i = data_a0i

with fits.open('daten_praxis/Referenzspektren/a0v.fits') as file:
    header_a0v = file[0].header
    data_a0v = file[0].data

x_a0v = np.arange(header_a0v["CRVAL1"], calcRangeEnd(header_a0v) + header_a0v["CDELT1"], header_a0v["CDELT1"])
y_a0v = data_a0v

fig = plt.figure(figsize=(10, 8))
ax = plt.subplot(111)
ax.plot(x_a0v, y_a0v, label='Spectrum A0V')
ax.plot(x_a0i, y_a0i, label='Spectrum A0I')
ax.set_xlabel('Wavelength')
ax.set_ylabel('Intensity')
ax.set_xlim([1150, 10000])
ax.set_ylim([0, 3])

























