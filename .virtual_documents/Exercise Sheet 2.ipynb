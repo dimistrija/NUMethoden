








import numpy as np
from matplotlib import pyplot as plt
from scipy import stats
from scipy.stats import gaussian_kde


#Read in data set
from scipy.io import readsav
filepath = 'galahamr.sav'  #change this to the path on your computer where the file is stored
stars = readsav(filepath)  


#Pull out some attributes of the stars we want to look at and store them in arrays
logg = stars['f']['logg']  #surface gravity   
teff = stars['f']['teff']  #effective temperature
mass = stars['f']['massmean']  #mass
lum = mass**4.  #luminosity for stars 0.43 < Msun < 2
age = stars['f']['agemean'] #age
feh = stars['f']['__fe_h_'] #[Fe/H], a logarithmic Iron abundance
afe = stars['f']['__alpha_fe_']  #[Alpha/Fe], logarithmic relative abundance of alpha elements(O, Si, etc.) relative to Iron





plt.scatter(teff, logg, c=age, cmap='magma')
plt.colorbar(label='Age')
plt.xlabel('Effective Temperature')
plt.ylabel('Surface Gravity')
plt.title('Effective Temperature vs Surface Gravity')
plt.show()


xmin, xmax = teff.min(), teff.max()
ymin, ymax = logg.min(), logg.max()
X, Y = np.mgrid[xmin:xmax:200j, ymin:ymax:200j]
positions = np.vstack([X.ravel(), Y.ravel()])

values = np.vstack([teff, logg])
kernel = stats.gaussian_kde(values)
Z = np.reshape(kernel(positions).T, X.shape)
fig, ax = plt.subplots(figsize=(8, 6))
c1 = ax.pcolormesh(X, Y, Z, cmap='magma', shading='gouraud')
fig.colorbar(c1, ax=ax, label='Density')
ax.set_xlabel('Effective Temperature')
ax.set_ylabel('Surface Gravity')
ax.set_title('2D KDE of Teff vs Logg')
plt.show()


plt.figure(figsize=(8, 6))
hist = plt.hist2d(teff, logg, bins=120, cmap='magma', density=True)

plt.colorbar(hist[3], label='Density')
plt.xlabel('Effective Temperature (Teff)')
plt.ylabel('Surface Gravity (Logg)')
plt.title('2D Histogram of Teff vs Logg')
plt.show()






np.seterr(divide='ignore', invalid='ignore')
fig, ax = plt.subplots(figsize=(9, 7))
c1 = ax.pcolormesh(X, Y, Z, cmap='viridis')
fig.colorbar(c1, ax=ax, label='Density')
logg_bins = np.linspace(logg.min()+0.4, logg.max()-0.20, 1000)
bin_width = (logg.max() - logg.min()) / 100


teff_running_avg = [
    teff_slice.mean() if len(teff_slice := teff[(logg >= lb) & (logg < lb + bin_width)]) > 0 else np.nan
    for lb in logg_bins]
ax.plot(teff_running_avg, logg_bins, color='red', lw=1.5, label='Running Average of Teff')
ax.set(xlabel='Effective Temperature', ylabel='Surface Gravity (log(g))',
       title='2D KDE of Teff vs Logg with Running Average')
ax.legend()
plt.show()










fig, [ax1, ax2] = plt.subplots(1, 2, figsize=(15, 6))
bins = 150
hist = ax1.hist2d(age, feh, bins=bins, weights=mass, cmap='viridis')
ax1.set_xlabel('Age (Gyr)')
ax1.set_ylabel('Fe/H')
ax1.set_title('2D Density Distribution of Stars (Mass Weighted)')

hist = plt.hist2d(age, feh, bins=bins, weights=mass**4., cmap='viridis')
ax2.set_xlabel('Age (Gyr)')
ax2.set_ylabel('Fe/H')
ax2.set_title('2D Density Distribution of Stars (Luminosity Weighted)')



fig, [ax1, ax2] = plt.subplots(1, 2, figsize=(15, 6))
bins = 200j
xedge, yedge = np.mgrid[age.min():age.max():bins, feh.min():feh.max():bins]
kde1 = gaussian_kde([age, feh], weights=lum)
h1 = kde1(np.vstack([xedge.ravel(), yedge.ravel()]))
z1 = h1.reshape(xedge.shape)
mesh2 = ax2.pcolormesh(xedge, yedge, z1, cmap='viridis', norm=plt.Normalize(), shading='gouraud')
avgAge_lum = np.average(age, weights=lum)
avgFe_lum = np.average(feh, weights=lum)
ax2.plot(avgAge_lum, avgFe_lum)
ax2.set_xlabel("[Age] Gyr", fontsize = 14)
ax2.set_ylabel("[Iron Abundance] Fe/H", fontsize = 14)
ax2.set_title("weighted by Luminosity", fontsize = 16)


Age_mass = np.average(age, weights=mass)
Fe_mass = np.average(feh, weights=mass)
mesh3 = ax1.pcolormesh(xedge, yedge, z1, cmap='viridis', norm=plt.Normalize(), shading='gouraud')
ax1.plot(Age_mass, Fe_mass)
ax1.set_xlabel("[Age] Gyr", fontsize = 14)
ax1.set_ylabel("[Iron Abundance] Fe/H", fontsize = 14)
ax1.set_title("weighted by Mass", fontsize = 16)



