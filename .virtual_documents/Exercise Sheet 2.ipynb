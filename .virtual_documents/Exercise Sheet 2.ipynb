








import numpy as np
from matplotlib import pyplot as plt
from scipy import stats


#Read in data set
from scipy.io import readsav
filepath = 'galahamr.sav'  #change this to the path on your computer where the file is stored
stars = readsav(filepath)  


#Pull out some attributes of the stars we want to look at and store them in arrays
logg = stars['f']['logg']  #surface gravity   
teff = stars['f']['teff']  #effective temperature
mass = stars['f']['massmean']  #mass
lum = mass**4.  #luminosity for stars 0.43 < Msun < 2
age = stars['f']['agemean'] #age
feh = stars['f']['__fe_h_'] #[Fe/H], a logarithmic Iron abundance
afe = stars['f']['__alpha_fe_']  #[Alpha/Fe], logarithmic relative abundance of alpha elements(O, Si, etc.) relative to Iron





plt.scatter(teff, logg, c=age, cmap='magma')
plt.colorbar(label='Age')
plt.xlabel('Effective Temperature')
plt.ylabel('Surface Gravity')
plt.title('Effective Temperature vs Surface Gravity')
plt.show()


>>> from scipy import stats
np.random.seed(0)
teff1 = np.random.normal(6000, 500, 7000)
logg1 = np.random.normal(4.0, 0.25, 7000)
xmin, xmax = teff1.min(), teff1.max()
ymin, ymax = logg1.min(), logg1.max()
X, Y = np.mgrid[xmin:xmax:100j, ymin:ymax:100j]
positions = np.vstack([X.ravel(), Y.ravel()])

values = np.vstack([teff1, logg1])
kernel = stats.gaussian_kde(values)
Z = np.reshape(kernel(positions).T, X.shape)


fig, ax = plt.subplots(figsize=(8, 6))
c1 = ax.pcolormesh(X, Y, Z, cmap='magma')
fig.colorbar(c1, ax=ax, label='Density')
ax.set_xlabel('Effective Temperature')
ax.set_ylabel('Surface Gravity')
ax.set_title('2D KDE of Teff vs Logg')
plt.show()


plt.figure(figsize=(8, 6))
hist = plt.hist2d(teff1, logg1, bins=100, cmap='magma', density=True)

plt.colorbar(hist[3], label='Density')
plt.xlabel('Effective Temperature (Teff)')
plt.ylabel('Surface Gravity (Logg)')
plt.title('2D Histogram of Teff vs Logg')
plt.show()





import pandas as pd

teff1 = np.random.normal(6000, 500, 7000)
logg1 = np.random.normal(4.0, 0.25, 7000)
xmin, xmax = teff1.min(), teff1.max()
ymin, ymax = logg1.min(), logg1.max()
X, Y = np.mgrid[xmin:xmax:100j, ymin:ymax:100j]
positions = np.vstack([X.ravel(), Y.ravel()])
values = np.vstack([teff1, logg1])
kernel = stats.gaussian_kde(values)
Z = np.reshape(kernel(positions).T, X.shape)



df = pd.DataFrame({'Teff': teff1, 'logg': logg1})
df_sorted = df.sort_values(by='logg')
df_sorted['Teff_running_avg'] = df_sorted['Teff'].rolling(window=110, center=True).mean()
fig1, ax1 = plt.subplots(figsize=(10, 8))
c11 = ax1.pcolormesh(X, Y, Z, cmap='viridis')
fig1.colorbar(c11, ax=ax1, label='Density')

# overplot
ax1.plot(df_sorted['Teff_running_avg'], df_sorted['logg'], color='red', lw=2, label='Running Avg of Teff')
ax1.set_xlabel('Effective Temperature')

ax1.set_ylabel('Surface Gravity (log(g))')
ax1.set_title('2D KDE of Teff vs Logg with Running Average')
ax1.legend()

plt.show()








age_rand = np.random.normal(6, 2, 7000)
feh_rand = np.random.normal(0, 0.5, 7000)
mass_rand = np.random.uniform(0.2, 1, 7000)  
lum_rand = np.random.uniform(0.43, 2, 7000)

H_mass, xedges, yedges = np.histogram2d(feh_rand, age_rand, bins=90, weights=mass_rand)

# Compute the weighted averages by mass
weighted_avg_feh_mass = np.average(feh_rand, weights=mass_rand)
weighted_avg_age_mass = np.average(age_rand, weights=mass_rand)

# Compute the 2D histogram weighted by luminosity
H_lum, _, _ = np.histogram2d(feh_rand, age_rand, bins=90, weights=lum_rand)

# Compute the weighted averages by luminosity
weighted_avg_feh_lum = np.average(feh_rand, weights=lum_rand)
weighted_avg_age_lum = np.average(age_rand, weights=lum_rand)

# Create the first plot (Mass-weighted)
fig3, ax = plt.subplots(1, 2, figsize=(20, 8))

# Plot the mass-weighted density distribution
X, Y = np.meshgrid(xedges[:-1], yedges[:-1])
c1 = ax[0].pcolormesh(X, Y, H_mass.T, cmap='viridis')
fig3.colorbar(c1, ax=ax[0], label='Weighted Density (Mass)')
ax[0].scatter(weighted_avg_feh_mass, weighted_avg_age_mass, color='red', label='Weighted Avg (Mass)')
ax[0].set_xlabel('[Fe/H] (Metallicity)')
ax[0].set_ylabel('Age (Gyr)')
ax[0].set_title('Weighted 2D Density of [Fe/H] vs Age (Mass-weighted)')
ax[0].legend()

# Plot the luminosity-weighted density distribution
c2 = ax[1].pcolormesh(X, Y, H_lum.T, cmap='viridis')
fig3.colorbar(c2, ax=ax[1], label='Weighted Density (Luminosity)')
ax[1].scatter(weighted_avg_feh_lum, weighted_avg_age_lum, color='red', label='Weighted Avg (Lum)')
ax[1].set_xlabel('[Fe/H] (Metallicity)')
ax[1].set_ylabel('Age (Gyr)')
ax[1].set_title('Weighted 2D Density of [Fe/H] vs Age (Luminosity-weighted)')
ax[1].legend()
plt.show()




