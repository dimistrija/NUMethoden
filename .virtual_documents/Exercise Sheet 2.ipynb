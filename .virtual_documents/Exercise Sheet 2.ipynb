








import numpy as np
from matplotlib import pyplot as plt
from scipy import stats


#Read in data set
from scipy.io import readsav
filepath = 'galahamr.sav'  #change this to the path on your computer where the file is stored
stars = readsav(filepath)  


#Pull out some attributes of the stars we want to look at and store them in arrays
logg = stars['f']['logg']  #surface gravity   
teff = stars['f']['teff']  #effective temperature
mass = stars['f']['massmean']  #mass
lum = mass**4.  #luminosity for stars 0.43 < Msun < 2
age = stars['f']['agemean'] #age
feh = stars['f']['__fe_h_'] #[Fe/H], a logarithmic Iron abundance
afe = stars['f']['__alpha_fe_']  #[Alpha/Fe], logarithmic relative abundance of alpha elements(O, Si, etc.) relative to Iron





plt.scatter(teff, logg, c=age, cmap='magma')
plt.colorbar(label='Age')
plt.xlabel('Effective Temperature')
plt.ylabel('Surface Gravity')
plt.title('Effective Temperature vs Surface Gravity')
plt.show()


xmin, xmax = teff.min(), teff.max()
ymin, ymax = logg.min(), logg.max()
X, Y = np.mgrid[xmin:xmax:100j, ymin:ymax:100j]
positions = np.vstack([X.ravel(), Y.ravel()])

values = np.vstack([teff, logg])
kernel = stats.gaussian_kde(values)
Z = np.reshape(kernel(positions).T, X.shape)

fig, ax = plt.subplots(figsize=(8, 6))
c1 = ax.pcolormesh(X, Y, Z, cmap='magma')
fig.colorbar(c1, ax=ax, label='Density')
ax.set_xlabel('Effective Temperature')
ax.set_ylabel('Surface Gravity')
ax.set_title('2D KDE of Teff vs Logg')
plt.show()


plt.figure(figsize=(8, 6))
hist = plt.hist2d(teff, logg, bins=120, cmap='magma', density=True)

plt.colorbar(hist[3], label='Density')
plt.xlabel('Effective Temperature (Teff)')
plt.ylabel('Surface Gravity (Logg)')
plt.title('2D Histogram of Teff vs Logg')
plt.show()





np.seterr(divide='ignore', invalid='ignore')
fig, ax = plt.subplots(figsize=(9, 7))
c1 = ax.pcolormesh(X, Y, Z, cmap='viridis')
fig.colorbar(c1, ax=ax, label='Density')

logg_bins = np.linspace(logg.min()-1.6, logg.max()-0.1, 170)
teff_running_avg = [teff_slice.mean() if len(teff_slice := teff[(logg >= lb) & (logg < lb + bin_width)]) > 0 else np.nan for lb in logg_bins]

ax.plot(teff_running_avg, logg_bins, color='red', lw=1.5, label='Running Average of Teff')
ax.set(xlabel='Effective Temperature', ylabel='Surface Gravity (log(g))',
       title='2D KDE of Teff vs Logg with Running Average')
ax.legend()
plt.show()
ax.legend()
plt.show()










bins = 100 
plt.figure(figsize=(9, 7))
hist = plt.hist2d(age, feh, bins=bins, weights=mass, cmap='viridis')
plt.colorbar(label='Total Mass')
plt.xlabel('Age (Gyr)')
plt.ylabel('Fe/H')
plt.title('2D Density Distribution of Stars (Mass Weighted)')
plt.show()

plt.figure(figsize=(9, 7))
hist = plt.hist2d(age, feh, bins=bins, weights=mass**4., cmap='viridis')
plt.colorbar(label='Total Mass')
plt.xlabel('Age (Gyr)')
plt.ylabel('Fe/H')
plt.title('2D Density Distribution of Stars (Luminosity Weighted)')
plt.show()




