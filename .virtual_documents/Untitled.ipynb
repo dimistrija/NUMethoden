import numpy as np
from matplotlib import pyplot as plt
import scipy
#Read in data set
from scipy.io import readsav
filepath = 'galahamr.sav'  #change this to the path on your computer where the file is stored
stars = readsav(filepath)  

#Pull out some attributes of the stars we want to look at and store them in arrays
logg = stars['f']['logg']  #surface gravity   
teff = stars['f']['teff']  #effective temperature
mass = stars['f']['massmean']  #mass
lum = mass**4.  #luminosity for stars 0.43 < Msun < 2
age = stars['f']['agemean'] #age
feh = stars['f']['__fe_h_'] #[Fe/H], a logarithmic Iron abundance
afe = stars['f']['__alpha_fe_']




plt.scatter(teff, logg, c=age, cmap='magma')
plt.colorbar(label='Age')
plt.xlabel('Effective Temperature')
plt.ylabel('Surface Gravity')
plt.title('Effective Temperature vs Surface Gravity')
plt.show()


from scipy import stats
np.random.seed(0)
teff1 = np.random.normal(6000, 500, 7000)
logg1 = np.random.normal(4.0, 0.25, 7000)

xmin, xmax = teff1.min(), teff1.max()
ymin, ymax = logg1.min(), logg1.max()
X, Y = np.mgrid[xmin:xmax:100j, ymin:ymax:100j]
positions = np.vstack([X.ravel(), Y.ravel()])

values = np.vstack([teff1, logg1])
kernel = stats.gaussian_kde(values)
Z1 = np.reshape(kernel(positions).T, X.shape)

fig, ax = plt.subplots(figsize=(8, 6))
c1 = ax.pcolormesh(X, Y, Z1, cmap='viridis')
fig.colorbar(c1, ax=ax, label='Density')
ax.set_xlabel('Effective Temperature')
ax.set_ylabel('Surface Gravity')
ax.set_title('2D KDE of Teff vs Logg')
plt.show()


import pandas as pd

df = pd.DataFrame({'Teff': teff1, 'logg': logg1})
df_sorted = df.sort_values(by='logg')
df_sorted['Teff_running_avg'] = df_sorted['Teff'].rolling(window=110, center=True).mean()

fig1, ax1 = plt.subplots(figsize=(10, 8))
c11 = ax1.pcolormesh(X, Y, Z, cmap='viridis')
fig1.colorbar(c11, ax=ax1, label='Density')

# overplot
ax1.plot(df_sorted['Teff_running_avg'], df_sorted['logg'], color='red', lw=2, label='Running Avg of Teff')
ax1.set_xlabel('Effective Temperature')

ax1.set_ylabel('Surface Gravity (log(g))')
ax1.set_title('2D KDE of Teff vs Logg with Running Average')
ax1.legend()

plt.show()



