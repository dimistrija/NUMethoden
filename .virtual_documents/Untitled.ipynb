import numpy as np
from math import factorial
xi = np.arange(-0.25,1,0.01)
xdum = np.arange(-0.25,0.25,0.01)
x = np.array([-0.25,-0.125,0,0.125,0.25])
y2 = np.cos(-3*np.pi*x) + 3*x
ydum = np.cos(-3*np.pi*xdum) + 3*xdum
yi = np.cos(-3*np.pi*xi) + 3*xi

xi1 = np.linspace(-0.25, 0.25, 1000)
y_actual = np.cos(-3*np.pi*xi1) + 3 * xi1

#separate cuz cosine only includes even-powered terms
y_taylor = 1 + 3 * xi1
k = 1
max_error = np.max(np.abs(y_actual - y_taylor))
j = 2 * k + 1

# iterate to find the required order j
while max_error > 1e-6:
    # computing k-th term of the cosine taylor
    term = ((-1)**k) * (3 * np.pi * xi1)**(2 * k) / factorial(2 * k)
    y_taylor += term
    k += 1
    j = 2 * k + 1  # j represents the highest power in the polynomial
    max_error = np.max(np.abs(y_actual - y_taylor))
    if j > 21:  # prevent infinite loops
        print("no luck")
        break

print(f"Required Taylor polynomial order j: {j}")



