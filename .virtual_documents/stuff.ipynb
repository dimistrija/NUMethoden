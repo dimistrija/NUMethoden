import matplotlib.pyplot as plt

#Parameters
plt.rcParams['figure.figsize'] = [10, 8]
plt.rcParams['font.size'] = 14
plt.rcParams['axes.titlesize'] = 16
plt.rcParams['axes.labelsize'] = 14
plt.rcParams['xtick.labelsize'] = 12
plt.rcParams['ytick.labelsize'] = 12
#Grid
plt.rcParams['grid.color'] = 'gray'
plt.rcParams['grid.linestyle'] = '--'
plt.rcParams['grid.linewidth'] = 0.5



#basic
#teff/logg data array
xmin, xmax = teff.min(), teff.max()
ymin, ymax = logg.min(), logg.max()
X, Y = np.mgrid[xmin:xmax:200j, ymin:ymax:200j]
positions = np.vstack([X.ravel(), Y.ravel()])

values = np.vstack([teff, logg])
kernel = stats.gaussian_kde(values)
Z = np.reshape(kernel(positions).T, X.shape)

fig, ax = plt.subplots(figsize=(8, 6))

c1 = ax.pcolormesh(X, Y, Z, cmap='magma', shading='gouraud') #cmap=viridis 
fig.colorbar(c1, ax=ax, label='aaa')
ax.set_xlabel('aaaa')
ax.set_ylabel('aaa')
ax.set_title('aaa')
#invert
plt.gca().invert_xaxis()
plt.gca().invert_yaxis()

plt.show()
