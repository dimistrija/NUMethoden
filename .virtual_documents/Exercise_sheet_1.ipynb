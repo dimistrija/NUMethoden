





for i in range(1,40):
    if i % 15 == 0:
        print("FizzBuzz")
    elif i % 3 == 0:
        print("Fizz")
    elif i % 5 == 0:
        print("Buzz")
    else:
        print(i)






def leap_machine9000(year):
    if year % 4 == 0:
        if year % 100 == 0:
            if year % 400 == 0:
                return True
            else:
                return False
        else:
            return True 
    else:
        return False
while True:
    try:
        year = int(input("Please enter the year in question: "))
        break
    except ValueError:
        print("Invalid input. Please enter a valid year.")
if leap_machine9000(year):
    print(f"The year {year} is a leap year.")
else:
    print(f"The year {year} is not a leap year.")






import numpy as np

def rigged_dice():
    choices = [1, 2, 3, 4, 5, 6]
    probabilities = [0.15, 0.15, 0.15, 0.15, 0.15, 0.25]
    return np.random.choice(choices, p=probabilities)
print(rigged_dice())

#100k test
trials = 100000
test = [rigged_dice() for i in range(trials)]
six_count = test.count(6)

if 24700 <= six_count <= 25300:
    print(f"Test passed! The number 6 appeared {six_count} times.")
else:
    print(f"Test failed! The number 6 appeared {six_count} times.")





import math

def scale(n):
    if n == 1:
        return 0
    return 1 + scale(math.ceil(n / 3))
#group up the coins was not the idea i had myself...
n = 8
print(f"Minimum number of weighings to find the fake coin among {n} coins: {scale(n)}")






# eps1.0_hellofriend.mov

def check_alive(health):
    return health > 0

check_alive(3)



