


#load some python packages you will need
import numpy as np                 #this helps compute things
import matplotlib.pyplot as plt    #this helps plot things
import matplotlib.cm as cm
import matplotlib.colors as mc
import scipy as sci
import sympy as sp
import numdifftools as nd
import mpmath as mp





sid = 12109944  #  *** change this to your student number ***
seed = np.random.seed(sid)








x = np.arange(7,8,0.001)   #dummy range for function
y = np.cos(-2*np.pi*x) +0.4*x**2  #function f(x)

xi = np.array((7.2,7.4,7.6,7.8))   # points for interpolation
yi = y[np.digitize(xi,x)]

x_int = np.arange(7.2,7.8,0.001)
y_int = np.interp(x_int, xi, yi)

fig, ax = plt.subplots(1, 1, figsize=(10,7))
ax.plot(x,y,label='f(x)')  
ax.plot(xi,yi,'o',markersize=10)
ax.plot(x_int,y_int,label='linear int')  
ax.set_xlabel('x',fontsize=17)
ax.set_ylabel('y',fontsize=17)
ax.legend(loc='best',fontsize=15)




y_frame = y[np.digitize(x_int,x)]

#Error calculated with RMS (root mean squares)
def linInterpolErr(y_frame):
    return np.sqrt( sum( np.divide(np.subtract(y_frame[n-1], y_int[n-1])**2, n) for n in range(1, len(x_int)) ) )

err = linInterpolErr(y_frame)
print(err)










'''
Error bound formula for linear interpolation: (formula found on web)
e = MAX(h**2 / 8 ) * MAX(y")
with h.. step size

approxing error of function as 2nd Der. y"=2*Pi

bound given as e < E-6 ==> 

10**-6 > h**2/8 * 2*Pi

solve h
'''

f = lambda x: np.pi*x**7

h = np.sqrt(10**-6 / (2*np.pi) * 8)
print(f"The step-size needs to be appoximately: {h:.9f}")

x = np.arange(-1, 5, h)
x_int = np.arange(-0.5,4.5,h)
y_int = np.interp(x_int, x, f(x))

#lin_approx = lambda d: ((f(x) - f(x)) / (x - (x))) * (x - (x-d) + f(x-d))

fig, ax = plt.subplots(1, 1, figsize=(10, 8))
ax.plot(x, f(x), label='f(x)')
ax.plot(x_int, y_int, label='lin-approx')
ax.set_xlabel('X')
ax.set_ylabel('Y')
plt.legend()










'''
Similar to exercise 2

Error goven by Lagrange-Remainder:
R = (f**(n+1)(x)*(x-x0)**(n+1)) / (n+1)! < E-6
which basically is the (n+1)th order taylor polynom around x0
'''
import numdifftools as nd
xi = np.arange(-0.25,1,0.01)
xdum = np.arange(-0.25,0.25,0.01)
x = np.array([-0.25,-0.125,0,0.125,0.25])
y = np.cos(-3*np.pi*x) + 3*x
ydum = np.cos(-3*np.pi*xdum) + 3*xdum
yi = np.cos(-3*np.pi*xi) + 3*xi

order = 1
error = 1
f = lambda x: np.cos(-3*np.pi*x) + 3*x

def lagrangeRemainder(x, n):
    global error
    der = nd.Derivative(f, n)
    max_der = np.max(np.abs(der(x)))
    err = (max_der / mp.factorial(n)) * (x - 0)**(n+1)
    max_err = np.max(np.abs(err))
    error = float(max_err)

while error > (10**-6):
    global order
    lagrangeRemainder(xdum, order)
    order += 1

plt.figure(figsize=(10,8))
plt.plot(xdum,ydum)
plt.plot(xi,yi,'--')
plt.plot(x,y,'o',c='black')
plt.xlabel('x',fontsize=17)
plt.ylabel('y',fontsize=17)

print(f"\n\nTaylor polynome of order {order} got an error of {error}.\n\n")








#Known data points and function values.  Listed clockwise from the x_1,y_1 = (0,0) point.
xi = np.array([0,0,1,1])  #x_1,x_1,x_2,x_2
yi = np.array([0,1,1,0])  #y_1,y_2,y_2,y_1
zi = np.array([-0.7,0.3,2.4,2.6])  

#Randomly generate coordinates to find function value (z = f(x,y)) at 
xr = np.random.uniform()
yr = np.random.uniform()

f = sci.interpolate.interp2d(xi, yi, zi, kind='linear')
zr = f(xr, yr)
cmap = cm.get_cmap('viridis')
norm = mc.Normalize(vmin=zi.min(), vmax=zi.max())
cr = cmap(norm(zr))

#Visualize
fig = plt.figure(figsize=(10, 8))
ax = plt.subplot(111)
scat = ax.scatter(xi,yi,c=zi,s=170,marker='o',cmap='viridis',edgecolor='black')
vLine = ax.vlines(xr, 0, 1, 'k', 'solid')
hLine = ax.hlines(yr, 0, 1, 'k', 'solid')
fig.colorbar(scat, ax=ax, label='z = f(x,y)')
ax.set_xlabel('X',fontsize=17)
ax.set_ylabel('Y',fontsize=17)
ax.scatter(xr,yr,edgecolor='black',marker='s',s=290,c=cr,vmin=zi.min(),vmax=zi.max())
ax.text(0.05,0.05,'($x_1,y_1)$',fontsize=12)
ax.text(0.05,0.95,'($x_1,y_2)$',fontsize=12)
ax.text(0.9,0.95,'($x_2,y_2)$',fontsize=12)
ax.text(0.9,0.05,'($x_2,y_1)$',fontsize=12)
ax.text(xr,yr-0.1,'($x_r,y_r)$',fontsize=20)


print(f"\n\nInterpolated zr: {zr[0]:.4f}\n(xr/yr): ({xr:.4f}/{yr:.4f})\n\n")

