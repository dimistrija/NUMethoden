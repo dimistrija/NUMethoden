{
 "cells": [
  {
   "cell_type": "markdown",
   "metadata": {},
   "source": [
    "---\n",
    "---\n",
    "\n",
    "<h1><center><ins>Exercise Sheet 3</ins></center></h1>\n",
    "<h2><center>Numerical Methods <br><br>\n",
    "\n",
    "---\n",
    "---"
   ]
  },
  {
   "cell_type": "code",
   "execution_count": 118,
   "metadata": {},
   "outputs": [],
   "source": [
    "import numpy as np\n",
    "import matplotlib.pyplot as plt\n",
    "from numpy import exp\n",
    "import math"
   ]
  },
  {
   "cell_type": "markdown",
   "metadata": {},
   "source": [
    "## Exercise 1 - Root finding algorithms\n",
    "\n",
    "**(A)** Implement the *bisection*, *secant*, *false position* and *Newton-Raphson* root finding methods, by coding your own version of these algorithms. Make sure to test your codes, checking that indeed they are able to find the root of a function (to do this, you can for example pick an analytic function that allows you test the codes and for which you can compute the roots analytically).\n",
    "\n",
    "**(B)** Use your implementation of the 4 root finding methods (from part **A**) to compute the root of the function:\n",
    "\n",
    "$$f(x) = e^x - 1 - x - \\frac{x^2}{2}$$\n",
    "\n",
    "in the interval $x\\in[-1,2]$. For each method, print out the position of the root and the number of iterations needed to reach it.\n",
    "\n",
    "**(C)** Discuss your results, commenting how the methods compare to one another. Which one is the fastest/slowest? Why? What is the impact of the points you selected to start your iterations?"
   ]
  },
  {
   "cell_type": "code",
   "execution_count": 119,
   "metadata": {},
   "outputs": [
    {
     "name": "stdout",
     "output_type": "stream",
     "text": [
      "Found exact solution at iteration 17.\n",
      "7.62939453125e-06\n"
     ]
    }
   ],
   "source": [
    "def bisect(f,a,b,N):\n",
    "    if f(a)*f(b) >= 0:\n",
    "        print(\"Bisection method fails.\")\n",
    "        return None\n",
    "    a_n = a\n",
    "    b_n = b\n",
    "    for n in range(1,N+1):\n",
    "        m_n = (a_n + b_n)/2\n",
    "        f_m_n = f(m_n)\n",
    "        if f(a_n)*f_m_n < 0:\n",
    "            a_n = a_n\n",
    "            b_n = m_n\n",
    "        elif f(b_n)*f_m_n < 0:\n",
    "            a_n = m_n\n",
    "            b_n = b_n\n",
    "        elif f_m_n == 0:\n",
    "            print(f\"Found exact solution at iteration {n}.\")\n",
    "            return m_n\n",
    "        else:\n",
    "            print(\"Bisection method fails.\")\n",
    "            return None\n",
    "    return (a_n + b_n)/2\n",
    "    \n",
    "f = lambda x: math.exp(x) - 1 - x - (x**2 / 2)\n",
    "\n",
    "approx_bi = bisect(f,-1,2,100)\n",
    "print(approx_bi)\n",
    "#seems hella fast and not too complicated and straight forward"
   ]
  },
  {
   "cell_type": "code",
   "execution_count": 120,
   "metadata": {},
   "outputs": [
    {
     "name": "stdout",
     "output_type": "stream",
     "text": [
      "-0.0005985406924023731\n"
     ]
    }
   ],
   "source": [
    "def secant(f,a,b,N):\n",
    "    if f(a)*f(b) >= 0:\n",
    "        print(\"Secant method fails.\")\n",
    "        return None\n",
    "    a_n = a\n",
    "    b_n = b\n",
    "    for n in range(1,N+1):\n",
    "        m_n = a_n - f(a_n)*(b_n - a_n)/(f(b_n) - f(a_n))\n",
    "        f_m_n = f(m_n)\n",
    "        if f(a_n)*f_m_n < 0:\n",
    "            a_n = a_n\n",
    "            b_n = m_n\n",
    "        elif f(b_n)*f_m_n < 0:\n",
    "            a_n = m_n\n",
    "            b_n = b_n\n",
    "        elif f_m_n == 0:\n",
    "            print(f\"Found exact solution at iteration {n}.\")\n",
    "            return m_n\n",
    "        else:\n",
    "            print(\"Secant method fails.\")\n",
    "            return None\n",
    "    return a_n - f(a_n)*(b_n - a_n)/(f(b_n) - f(a_n))\n",
    "\n",
    "f = lambda x: math.exp(x) - 1 - x - (x**2 / 2)\n",
    "aprox_sec = secant(f, -1,2,9999999)\n",
    "print(aprox_sec)\n",
    "# i tried very big numbers and it takes a while to get the the decent aproximation but time consuiming"
   ]
  },
  {
   "cell_type": "code",
   "execution_count": 121,
   "metadata": {},
   "outputs": [
    {
     "name": "stdout",
     "output_type": "stream",
     "text": [
      "Found solution after 12 iterations.\n",
      "0.0007804289772541757\n"
     ]
    }
   ],
   "source": [
    "def newton(f,Df,x0,epsilon,max_iter):\n",
    "    xn = x0\n",
    "    for n in range(0,max_iter):\n",
    "        fxn = f(xn)\n",
    "        if abs(fxn) < epsilon:\n",
    "            print('Found solution after',n,'iterations.')\n",
    "            return xn\n",
    "        Dfxn = Df(xn)\n",
    "        if Dfxn == 0:\n",
    "            print('Zero derivative. No solution found.')\n",
    "            return None\n",
    "        xn = xn - fxn/Dfxn\n",
    "    print('Exceeded maximum iterations. No solution found.')\n",
    "    return None\n",
    "\n",
    "f = lambda x: math.exp(x) - 1 - x - (x**2 / 2)\n",
    "Df = lambda x: math.exp(x) - 1 - x\n",
    "approx_new = newton(f,Df,0.1,1e-10,99999)\n",
    "print(approx_new)\n",
    "#very fast but not as accurate I think also it changes the value a lot depending on my x0 which is a bit weird but stil lgets the job done"
   ]
  },
  {
   "cell_type": "code",
   "execution_count": 122,
   "metadata": {},
   "outputs": [
    {
     "ename": "KeyboardInterrupt",
     "evalue": "Interrupted by user",
     "output_type": "error",
     "traceback": [
      "\u001b[0;31m---------------------------------------------------------------------------\u001b[0m",
      "\u001b[0;31mKeyboardInterrupt\u001b[0m                         Traceback (most recent call last)",
      "Cell \u001b[0;32mIn[122], line 22\u001b[0m\n\u001b[1;32m     18\u001b[0m         condition \u001b[38;5;241m=\u001b[39m \u001b[38;5;28mabs\u001b[39m(f(x2)) \u001b[38;5;241m>\u001b[39m e\n\u001b[1;32m     20\u001b[0m     \u001b[38;5;28mprint\u001b[39m(\u001b[38;5;124m'\u001b[39m\u001b[38;5;130;01m\\n\u001b[39;00m\u001b[38;5;124mRequired root is: \u001b[39m\u001b[38;5;132;01m%0.8f\u001b[39;00m\u001b[38;5;124m'\u001b[39m \u001b[38;5;241m%\u001b[39m x2)\n\u001b[0;32m---> 22\u001b[0m x0 \u001b[38;5;241m=\u001b[39m \u001b[38;5;28minput\u001b[39m(\u001b[38;5;124m'\u001b[39m\u001b[38;5;124mFirst Guess: \u001b[39m\u001b[38;5;124m'\u001b[39m)\n\u001b[1;32m     23\u001b[0m x1 \u001b[38;5;241m=\u001b[39m \u001b[38;5;28minput\u001b[39m(\u001b[38;5;124m'\u001b[39m\u001b[38;5;124mSecond Guess: \u001b[39m\u001b[38;5;124m'\u001b[39m)\n\u001b[1;32m     24\u001b[0m e \u001b[38;5;241m=\u001b[39m \u001b[38;5;28minput\u001b[39m(\u001b[38;5;124m'\u001b[39m\u001b[38;5;124mTolerable Error: \u001b[39m\u001b[38;5;124m'\u001b[39m)\n",
      "File \u001b[0;32m~/anaconda3/lib/python3.11/site-packages/ipykernel/kernelbase.py:1282\u001b[0m, in \u001b[0;36mKernel.raw_input\u001b[0;34m(self, prompt)\u001b[0m\n\u001b[1;32m   1280\u001b[0m     msg \u001b[38;5;241m=\u001b[39m \u001b[38;5;124m\"\u001b[39m\u001b[38;5;124mraw_input was called, but this frontend does not support input requests.\u001b[39m\u001b[38;5;124m\"\u001b[39m\n\u001b[1;32m   1281\u001b[0m     \u001b[38;5;28;01mraise\u001b[39;00m StdinNotImplementedError(msg)\n\u001b[0;32m-> 1282\u001b[0m \u001b[38;5;28;01mreturn\u001b[39;00m \u001b[38;5;28mself\u001b[39m\u001b[38;5;241m.\u001b[39m_input_request(\n\u001b[1;32m   1283\u001b[0m     \u001b[38;5;28mstr\u001b[39m(prompt),\n\u001b[1;32m   1284\u001b[0m     \u001b[38;5;28mself\u001b[39m\u001b[38;5;241m.\u001b[39m_parent_ident[\u001b[38;5;124m\"\u001b[39m\u001b[38;5;124mshell\u001b[39m\u001b[38;5;124m\"\u001b[39m],\n\u001b[1;32m   1285\u001b[0m     \u001b[38;5;28mself\u001b[39m\u001b[38;5;241m.\u001b[39mget_parent(\u001b[38;5;124m\"\u001b[39m\u001b[38;5;124mshell\u001b[39m\u001b[38;5;124m\"\u001b[39m),\n\u001b[1;32m   1286\u001b[0m     password\u001b[38;5;241m=\u001b[39m\u001b[38;5;28;01mFalse\u001b[39;00m,\n\u001b[1;32m   1287\u001b[0m )\n",
      "File \u001b[0;32m~/anaconda3/lib/python3.11/site-packages/ipykernel/kernelbase.py:1325\u001b[0m, in \u001b[0;36mKernel._input_request\u001b[0;34m(self, prompt, ident, parent, password)\u001b[0m\n\u001b[1;32m   1322\u001b[0m \u001b[38;5;28;01mexcept\u001b[39;00m \u001b[38;5;167;01mKeyboardInterrupt\u001b[39;00m:\n\u001b[1;32m   1323\u001b[0m     \u001b[38;5;66;03m# re-raise KeyboardInterrupt, to truncate traceback\u001b[39;00m\n\u001b[1;32m   1324\u001b[0m     msg \u001b[38;5;241m=\u001b[39m \u001b[38;5;124m\"\u001b[39m\u001b[38;5;124mInterrupted by user\u001b[39m\u001b[38;5;124m\"\u001b[39m\n\u001b[0;32m-> 1325\u001b[0m     \u001b[38;5;28;01mraise\u001b[39;00m \u001b[38;5;167;01mKeyboardInterrupt\u001b[39;00m(msg) \u001b[38;5;28;01mfrom\u001b[39;00m \u001b[38;5;28;01mNone\u001b[39;00m\n\u001b[1;32m   1326\u001b[0m \u001b[38;5;28;01mexcept\u001b[39;00m \u001b[38;5;167;01mException\u001b[39;00m:\n\u001b[1;32m   1327\u001b[0m     \u001b[38;5;28mself\u001b[39m\u001b[38;5;241m.\u001b[39mlog\u001b[38;5;241m.\u001b[39mwarning(\u001b[38;5;124m\"\u001b[39m\u001b[38;5;124mInvalid Message:\u001b[39m\u001b[38;5;124m\"\u001b[39m, exc_info\u001b[38;5;241m=\u001b[39m\u001b[38;5;28;01mTrue\u001b[39;00m)\n",
      "\u001b[0;31mKeyboardInterrupt\u001b[0m: Interrupted by user"
     ]
    }
   ],
   "source": [
    "def f(x):\n",
    "    return math.exp(x) - 1 - x - (x**2 / 2)\n",
    "\n",
    "def falsePosition(x0,x1,e):\n",
    "    step = 1\n",
    "    print('\\n\\n*** False Position ***')\n",
    "    condition = True\n",
    "    while condition:\n",
    "        x2 = x0 - (x1-x0) * f(x0)/( f(x1) - f(x0) )\n",
    "        print('Iteration-%d, x2 = %0.6f and f(x2) = %0.6f' % (step, x2, f(x2)))\n",
    "\n",
    "        if f(x0) * f(x2) < 0:\n",
    "            x1 = x2\n",
    "        else:\n",
    "            x0 = x2\n",
    "\n",
    "        step = step + 1\n",
    "        condition = abs(f(x2)) > e\n",
    "\n",
    "    print('\\nRequired root is: %0.8f' % x2)\n",
    "\n",
    "x0 = input('First Guess: ')\n",
    "x1 = input('Second Guess: ')\n",
    "e = input('Tolerable Error: ')\n",
    "\n",
    "x0 = float(x0)\n",
    "x1 = float(x1)\n",
    "e = float(e)\n",
    "\n",
    "if f(x0) * f(x1) > 0.0:\n",
    "    print('Given guess values do not bracket the root.')\n",
    "    print('Try Again with different guess values.')\n",
    "else:\n",
    "    falsePosition(x0,x1,e)\n",
    "\n",
    "#confusing and more complex than others I think not my favourite, even the code I found online was kinda ahrd to understand idk"
   ]
  },
  {
   "cell_type": "markdown",
   "metadata": {},
   "source": [
    "## Exercise 2 - Sets of linear equations\n",
    "\n",
    "Determine the solution to the following set of linear equations:\n",
    "\n",
    "$$ \n",
    "\\begin{cases}\n",
    "5 x_1 + 3 x_2 &= 15 \\\\\n",
    "x_1 - 4 x_2 &= -2 \\ ,\n",
    "\\end{cases}\n",
    "$$\n",
    "\n",
    "where $x_1$ and $x_2$ are the variables of interest.\n",
    "\n",
    "**(A)** Formulate the problem by using the matrix representation, as we saw in class, clearly defining the coefficient matrix and the vector of right-hand-side values.\n",
    "\n",
    "**(B)** Using the appropriate built-in python functions, carry out the LU decomposition of the coefficient matrix, and print out the L and U matrices separately. Solve the set of equations and check that the solution is indeed valid.\n",
    "\n",
    "**(C)** What is the solution to the following set of equations? \n",
    "\n",
    "$$ \n",
    "\\begin{cases}\n",
    "x_1 - 4 x_2 &= 3 \\\\\n",
    "5 x_1 + 3 x_2 &= -7\n",
    "\\end{cases}\n",
    "$$\n",
    "\n",
    "Print out the solution, and motivate the steps you took to solve it."
   ]
  },
  {
   "cell_type": "code",
   "execution_count": 123,
   "metadata": {},
   "outputs": [
    {
     "name": "stdout",
     "output_type": "stream",
     "text": [
      "Solution for x: [2.34782609 1.08695652]\n"
     ]
    }
   ],
   "source": [
    "A = np.array([[5, 3],\n",
    "              [1, -4]])\n",
    "b = np.array([15, -2])\n",
    "x = np.linalg.solve(A, b)\n",
    "\n",
    "print(\"Solution for x:\", x)\n"
   ]
  },
  {
   "cell_type": "code",
   "execution_count": 124,
   "metadata": {},
   "outputs": [
    {
     "name": "stdout",
     "output_type": "stream",
     "text": [
      "L matrix:\n",
      "[[1.  0. ]\n",
      " [0.2 1. ]]\n",
      "\n",
      "U matrix:\n",
      "[[ 5.   3. ]\n",
      " [ 0.  -4.6]]\n",
      "\n",
      "Solution for x: [2.34782609 1.08695652]\n",
      "\n",
      "Is the solution valid? True\n"
     ]
    }
   ],
   "source": [
    "from scipy.linalg import lu\n",
    "\n",
    "P, L, U = lu(A)\n",
    "A = np.array([[5, 3],\n",
    "              [1, -4]])\n",
    "b = np.array([15, -2])\n",
    "print(\"L matrix:\")\n",
    "print(L)\n",
    "print(\"\\nU matrix:\")\n",
    "print(U)\n",
    "\n",
    "Pb = np.dot(P, b)\n",
    "y = np.linalg.solve(L, Pb)\n",
    "x1 = np.linalg.solve(U, y)\n",
    "\n",
    "print(\"\\nSolution for x:\", x1)\n",
    "is_solution = np.allclose(np.dot(A, x1), b)\n",
    "print(\"\\nIs the solution valid?\", is_solution)\n"
   ]
  },
  {
   "cell_type": "code",
   "execution_count": 125,
   "metadata": {},
   "outputs": [
    {
     "name": "stdout",
     "output_type": "stream",
     "text": [
      "Solution for x: [-0.82608696 -0.95652174]\n"
     ]
    }
   ],
   "source": [
    "A2 = np.array([[1, -4],\n",
    "              [5, 3]])\n",
    "b2 = np.array([3, -7])\n",
    "x2 = np.linalg.solve(A2, b2)\n",
    "\n",
    "print(\"Solution for x:\", x2)"
   ]
  },
  {
   "cell_type": "markdown",
   "metadata": {},
   "source": [
    "## Exercise 3 - Velocity dispersion estimation\n",
    "\n",
    "The file ``omega_Cen_Sollima2009.txt`` contains a collection of measurements of line-of-sight velocities of stars in the Galactic globular cluster $\\omega$ Cen (NGC 5139). The first column in the file contains the values of the velocities (in km/s), and the second column the values of the associated measurement errors (also in km/s). These data are taken from [Sollima et al. (2009)](https://ui.adsabs.harvard.edu/abs/2009MNRAS.396.2183S/abstract).\n",
    "\n",
    "We want to determine the mean velocity $\\bar{v}$ and velocity dispersion $\\sigma$ of these stars, and we do this by using a maximum likelihood estimator, following the procedure described by [Pryor and Meylan (1993)](https://ui.adsabs.harvard.edu/abs/1993ASPC...50..357P/abstract).\n",
    "\n",
    "We start by assuming that each velocity measurement $v_i$ ($i = 1,2,...,N$), with associated error $\\delta_{{\\rm v},i}$, is drawn from the normal distribution:\n",
    "\n",
    "$$ f(v_i) = \\frac{1}{\\sqrt{2 \\pi (\\sigma^2 + \\delta_{{\\rm v},i}^2)}} \\exp\\left[ - \\frac{(v_i - \\bar{v})^2}{2(\\sigma^2 + \\delta_{{\\rm v},i}^2)} \\right] $$ \n",
    "\n",
    "Standard techniques for forming the likelihood of a set of $N$ velocities and finding its maximum lead to the following two equations:\n",
    "\n",
    "$$\\sum_{i = 1}^{N}  \\frac{v_i}{(\\sigma^2 + \\delta_{{\\rm v},i}^2)} - \\bar{v} \\sum_{i = 1}^{N}  \\frac{1}{(\\sigma^2 + \\delta_{{\\rm v},i}^2)} = 0$$\n",
    "\n",
    "$$\\sum_{i = 1}^{N}  \\frac{(v_i - \\bar{v})^2}{(\\sigma^2 + \\delta_{{\\rm v},i}^2)^2} - \\sum_{i = 1}^{N}  \\frac{1}{(\\sigma^2 + \\delta_{{\\rm v},i}^2)} = 0$$\n",
    "\n",
    "These equations must be solved numerically to obtain $\\bar{v}$ and $\\sigma$.\n",
    "\n",
    "**(A)** Discuss what type of problem this is, and list the possible ways (those we have seen in class, of course!) to solve it numerically with built-in python functions.\n",
    "\n",
    "**(B)** Solve the equations above to obtain the values of the mean velocity $\\bar{v}$ and velocity dispersion $\\sigma$. To do this, use **all** the python built-in functions we discussed in class, and compare the results you obtain. Print out the solutions you get, and verify that they are indeed solutions of the above equations.\n",
    "\n",
    "**(C)** Explore the input and output of the python built-in functions. Pay particular attention to the values you provide as initial guesses to compute the solution: which values break the algorithm? Which algorithm appears to be more stable?"
   ]
  },
  {
   "cell_type": "markdown",
   "metadata": {},
   "source": [
    "----------------------------------------"
   ]
  },
  {
   "cell_type": "markdown",
   "metadata": {},
   "source": [
    " **-A-** Seems to be a system of 2 non linear equations with two unknowns ($\\bar{v}$ and $\\sigma$)\n",
    "Newton-Raphson for systems, Secant method extensions, Broyden’s method, potentially others like the Bisection method "
   ]
  },
  {
   "cell_type": "markdown",
   "metadata": {},
   "source": [
    "**-B-**"
   ]
  },
  {
   "cell_type": "code",
   "execution_count": 126,
   "metadata": {},
   "outputs": [
    {
     "name": "stdout",
     "output_type": "stream",
     "text": [
      "Solution using fsolve:\n",
      "  Mean Velocity (v_bar) = 234.1454 km/s\n",
      "  Velocity Dispersion (sigma) = 9.9005 km/s\n",
      "\n",
      "Solution using root_broyden1:\n",
      "  Mean Velocity (v_bar) = 234.1435 km/s\n",
      "  Velocity Dispersion (sigma) = 9.9119 km/s\n",
      "\n",
      "Solution using newton_krylov:\n",
      "  Mean Velocity (v_bar) = 234.1454 km/s\n",
      "  Velocity Dispersion (sigma) = 9.9005 km/s\n",
      "\n",
      "Verification of Solutions (Residuals):\n",
      "\n",
      "Residuals for fsolve:\n",
      "  Equation 1 Residual: 2.080469e-11\n",
      "  Equation 2 Residual: 8.842482e-11\n",
      "  Norm of Residuals: 9.083933e-11\n",
      "\n",
      "Residuals for root_broyden1:\n",
      "  Equation 1 Residual: 6.041937e-03\n",
      "  Equation 2 Residual: -7.395127e-03\n",
      "  Norm of Residuals: 9.549498e-03\n",
      "\n",
      "Residuals for newton_krylov:\n",
      "  Equation 1 Residual: -1.165290e-10\n",
      "  Equation 2 Residual: 4.505130e-10\n",
      "  Norm of Residuals: 4.653396e-10\n",
      "\n"
     ]
    }
   ],
   "source": [
    "from scipy.optimize import fsolve, root, newton_krylov\n",
    "\n",
    "data = np.loadtxt('om_2009.txt')\n",
    "velocities = data[:, 0]\n",
    "delta_v = data[:, 1]\n",
    "N = len(velocities)\n",
    "\n",
    "def equations(vars, velocities, delta_v):\n",
    "    v_bar, sigma = vars\n",
    "    if sigma <= 0:\n",
    "        return [1e10, 1e10]\n",
    "    \n",
    "    term = sigma**2 + delta_v**2\n",
    "    eq1 = np.sum(velocities / term) - v_bar * np.sum(1 / term)\n",
    "    eq2 = np.sum((velocities - v_bar)**2 / term**2) - np.sum(1 / term)\n",
    "    return [eq1, eq2]\n",
    "\n",
    "initial_v_bar = np.mean(velocities)\n",
    "initial_sigma = np.std(velocities)\n",
    "initial_guess = [initial_v_bar, initial_sigma]\n",
    "\n",
    "solutions = {}\n",
    "#  fsolve\n",
    "solution_fsolve, info_fsolve, ier_fsolve, mesg_fsolve = fsolve(\n",
    "    equations, \n",
    "    initial_guess, \n",
    "    args=(velocities, delta_v), \n",
    "    full_output=True\n",
    ")\n",
    "solutions['fsolve'] = solution_fsolve\n",
    "\n",
    "# broyden1\n",
    "sol_root_broyden1 = root(\n",
    "    equations, \n",
    "    initial_guess, \n",
    "    args=(velocities, delta_v), \n",
    "    method='broyden1'\n",
    ")\n",
    "solutions['root_broyden1'] = sol_root_broyden1.x\n",
    "\n",
    "# newton_krylov\n",
    "sol_newton_krylov = newton_krylov(\n",
    "    lambda vars: equations(vars, velocities, delta_v), \n",
    "    initial_guess, \n",
    "    f_tol=1e-8\n",
    ")\n",
    "solutions['newton_krylov'] = sol_newton_krylov\n",
    "\n",
    "for method, sol in solutions.items():\n",
    "    print(f\"Solution using {method}:\")\n",
    "    print(f\"  Mean Velocity (v_bar) = {sol[0]:.4f} km/s\")\n",
    "    print(f\"  Velocity Dispersion (sigma) = {sol[1]:.4f} km/s\\n\")\n",
    "\n",
    "print(\"Verification of Solutions (Residuals):\\n\")\n",
    "for method, sol in solutions.items():\n",
    "    res = equations(sol, velocities, delta_v)\n",
    "    res_norm = np.linalg.norm(res)\n",
    "    print(f\"Residuals for {method}:\")\n",
    "    print(f\"  Equation 1 Residual: {res[0]:.6e}\")\n",
    "    print(f\"  Equation 2 Residual: {res[1]:.6e}\")\n",
    "    print(f\"  Norm of Residuals: {res_norm:.6e}\\n\")"
   ]
  },
  {
   "cell_type": "markdown",
   "metadata": {},
   "source": [
    "**-C-**"
   ]
  },
  {
   "cell_type": "code",
   "execution_count": 127,
   "metadata": {},
   "outputs": [
    {
     "name": "stdout",
     "output_type": "stream",
     "text": [
      "\n",
      "Initial Guess: Good\n",
      "  fsolve: [234.14536329   9.90046177]\n",
      "  root_broyden1: The maximum number of iterations allowed has been reached.\n",
      "  newton_krylov: [234.14536329   9.90046177]\n",
      "\n",
      "Initial Guess: Negative Sigma\n",
      "  fsolve: [234.14348585  -5.        ]\n",
      "  root_broyden1: [ 234.14528309 7838.04660008]\n",
      "  newton_krylov: Jacobian inversion yielded zero vector. This indicates a bug in the Jacobian approximation.\n",
      "\n",
      "Initial Guess: Extreme Values\n",
      "  fsolve: [1.59738136e+06 1.47840997e+63]\n",
      "  root_broyden1: [ 234.1204716  7551.81391061]\n",
      "  newton_krylov: [-3.43827903e+07  1.41002601e+09]\n"
     ]
    },
    {
     "name": "stderr",
     "output_type": "stream",
     "text": [
      "/tmp/ipykernel_1872/3073878623.py:25: RuntimeWarning: The iteration is not making good progress, as measured by the \n",
      "  improvement from the last ten iterations.\n",
      "  sol_f = fsolve(equations, guess, args=(velocities, delta_v))\n",
      "/tmp/ipykernel_1872/3073878623.py:25: RuntimeWarning: The number of calls to function has reached maxfev = 600.\n",
      "  sol_f = fsolve(equations, guess, args=(velocities, delta_v))\n"
     ]
    }
   ],
   "source": [
    "def equations(vars, velocities, delta_v):\n",
    "    v_bar, sigma = vars\n",
    "    if sigma <= 0:\n",
    "        return [1e10, 1e10]\n",
    "    term = sigma**2 + delta_v**2\n",
    "    eq1 = np.sum(velocities / term) - v_bar * np.sum(1 / term)\n",
    "    eq2 = np.sum((velocities - v_bar)**2 / term**2) - np.sum(1 / term)\n",
    "    return [eq1, eq2]\n",
    "\n",
    "#  initial guesses\n",
    "initial_guesses = {\n",
    "    'Good': [np.mean(velocities), np.std(velocities)],\n",
    "    'Negative Sigma': [np.mean(velocities), -5],\n",
    "    'Extreme Values': [0, 1000]\n",
    "}\n",
    "\n",
    "solvers = ['fsolve', 'root_broyden1', 'newton_krylov']\n",
    "\n",
    "for label, guess in initial_guesses.items():\n",
    "    print(f\"\\nInitial Guess: {label}\")\n",
    "    solutions = {}\n",
    "    \n",
    "    try:\n",
    "        # fsolve\n",
    "        sol_f = fsolve(equations, guess, args=(velocities, delta_v))\n",
    "        solutions['fsolve'] = sol_f\n",
    "    except Exception as e:\n",
    "        solutions['fsolve'] = str(e)\n",
    "    \n",
    "    try:\n",
    "        # root with 'broyden1'\n",
    "        sol_broy1 = root(equations, guess, args=(velocities, delta_v), method='broyden1')\n",
    "        solutions['root_broyden1'] = sol_broy1.x if sol_broy1.success else sol_broy1.message\n",
    "    except Exception as e:\n",
    "        solutions['root_broyden1'] = str(e)\n",
    "    try:\n",
    "        # newton_krylov\n",
    "        sol_newton = newton_krylov(lambda vars: equations(vars, velocities, delta_v), guess, f_tol=1e-8)\n",
    "        solutions['newton_krylov'] = sol_newton\n",
    "    except Exception as e:\n",
    "        solutions['newton_krylov'] = str(e)\n",
    "    \n",
    "    for solver, result in solutions.items():\n",
    "        print(f\"  {solver}: {result}\")\n"
   ]
  },
  {
   "cell_type": "markdown",
   "metadata": {},
   "source": [
    "different numerical solvers show varying levels of sensitivity to initial guesses, fsolve seems very accurate and fast with a good guess can fail with poor ones \n",
    "broyden1 bit more stable? for different guesses, newton_krylov is generally stable but more beneficial for larger systems (or so does the web say)"
   ]
  }
 ],
 "metadata": {
  "kernelspec": {
   "display_name": "base",
   "language": "python",
   "name": "python3"
  },
  "language_info": {
   "codemirror_mode": {
    "name": "ipython",
    "version": 3
   },
   "file_extension": ".py",
   "mimetype": "text/x-python",
   "name": "python",
   "nbconvert_exporter": "python",
   "pygments_lexer": "ipython3",
   "version": "3.11.10"
  }
 },
 "nbformat": 4,
 "nbformat_minor": 4
}
