{
 "cells": [
  {
   "cell_type": "markdown",
   "metadata": {},
   "source": [
    "***\n",
    "***\n",
    "\n",
    "<h1><center><ins>Introduction to Python</ins></center></h1>\n",
    "\n",
    "***\n",
    "***"
   ]
  },
  {
   "cell_type": "markdown",
   "metadata": {},
   "source": [
    "## Content\n",
    "\n",
    "**[1. Jupyter notebooks](#heading--1)**\n",
    "\n",
    "  * [1.1. Markdown basics](#heading--1-1)\n",
    "\n",
    "**[2. Basic syntax](#heading--2)**\n",
    "\n",
    "  * [2.1. Comments](#heading--2-1)\n",
    "  * [2.2. Variables](#heading--2-2)\n",
    "  * [2.3. Arithmetic operations](#heading--2-3)\n",
    "  * [2.4. Input and output](#heading--2-4)\n",
    "\n",
    "      * [2.4.1. Printing and formatting output](#heading--2-4-1)\n",
    "      * [2.4.2. Accepting input](#heading--2-4-2)\n",
    "      * [2.4.3. Input from and output to files](#heading--2-4-3)\n",
    "\n",
    "  * [2.5. Relational and logical operators](#heading--2-5)\n",
    "\n",
    "      * [2.5.1. Relational operators](#heading--2-5-1)\n",
    "      * [2.5.2. Logical operators](#heading--2-5-2)\n",
    "\n",
    "**[3. Control flow: if statements and loops](#heading--3)**\n",
    "\n",
    "  * [3.1. `if`, `elif`, `else` statements](#heading--3-1)\n",
    "  \n",
    "      * [3.1.1. Case switching with `match` and `case`](#heading--3-1-1)\n",
    "\n",
    "  * [3.2. Loops](#heading--3-2)\n",
    "\n",
    "      * [3.2.1. `for` loops](#heading--3-2-1)\n",
    "      * [3.2.2. `while` loops](#heading--3-2-2)\n",
    "      * [3.2.3. How to get out of a loop](#heading--3-2-3)\n",
    "\n",
    "**[4. Functions](#heading--4)**\n",
    "\n",
    "  * [4.1. Recursive functions](#heading--4-1)\n",
    "  * [4.2. `lambda` functions](#heading--4-2)\n",
    "\n",
    "**[5. Data structures](#heading--5)**\n",
    "\n",
    "  * [5.1. Lists](#heading--5-1)\n",
    "\n",
    "      * [5.1.1. Indexing](#heading--5-1-1)\n",
    "      * [5.1.1. List manipulation](#heading--5-1-2)\n",
    "      \n",
    "  * [5.2. Strings](#heading--5-2)\n",
    "\n",
    "**[6. Some useful packages](#heading--6)**\n",
    "\n",
    "  * [6.1. The `numpy` package](#heading--6-1)\n",
    "\n",
    "      * [6.1.1. Arrays](#heading--6-1-1)\n",
    "      * [6.1.2. Useful functions on arrays](#heading--6-1-2)\n",
    "      * [6.1.3. Random number generation](#heading--6-1-3)\n",
    "      * [6.1.4. String manipulation with numpy.char](#heading--6-1-4)\n",
    "\n",
    "  * [6.2. The `matplotlib` package](#heading--6-2)\n",
    "\n",
    "  * [6.3. The `scipy` package](#heading--6-3)\n",
    "\n",
    "      * [6.3.1. `scipy.stats.norm`](#heading--6-3-1)\n",
    "      * [6.3.2. `scipy.stats.chi2`](#heading--6-3-2)\n",
    "      * [6.3.3. `scipy.stats.kstwo`](#heading--6-3-3)\n",
    "      * [6.3.4. `scipy.stats.ks_2samp` to solve Ex. 3 from Exercise Sheet 3](#heading--6-3-4)\n",
    "\n",
    "**[7. Errors](#heading--7)**\n",
    "\n",
    "  * [7.1 Error types](#heading--7-1)\n",
    "  * [7.2 Some more complicated examples](#heading--7-2)\n",
    "  * [7.3 `try` and `except`](#heading--7-3)\n",
    "  * [7.4 Logic errors](#heading--7-4)\n",
    "  "
   ]
  },
  {
   "cell_type": "markdown",
   "metadata": {},
   "source": [
    "----\n",
    "\n",
    "----"
   ]
  },
  {
   "cell_type": "markdown",
   "metadata": {},
   "source": [
    "--------------------------------------------------------------------------------------------------------------------\n",
    "<div id=\"heading--1\"/>\n",
    "\n",
    "# 1. Jupyter notebooks "
   ]
  },
  {
   "cell_type": "markdown",
   "metadata": {},
   "source": [
    "This is an example of a typical python notebook. \n",
    "\n",
    "Below we expand upon some basic python utilities, syntax and skills which are of general use, and helpful for the numerical methods concepts.\n",
    "\n",
    "Each cell in the notebook will provide some comments or code.\n",
    "\n",
    "If you want to insert a new cell, click on `Cell` and then `Cell type`; you can also use the `+` icon on top left, and then select the type of cell from the drop-down menu above. There are two types of cells:\n",
    "\n",
    " * **markdown cells** (like this one!), which are a way to place text describing things in your notebook (you can format the text and also add equations, as you would do in latex)\n",
    " * **code cells** (like the following one!), which care about the syntax of what is written and will execute python commands. You can execute the code in an individual cell by pressing `shift` + `enter` at the same time"
   ]
  },
  {
   "cell_type": "code",
   "execution_count": 1,
   "metadata": {},
   "outputs": [],
   "source": [
    "a = 1"
   ]
  },
  {
   "cell_type": "markdown",
   "metadata": {},
   "source": [
    "After running a cell, you can see a number (`[1]`) on the left hand side of the cell. You can use this number as a reminder of the order in which you ran the various cells (this could be useful for debugging, especially if you re-define variables in different cells)."
   ]
  },
  {
   "cell_type": "markdown",
   "metadata": {
    "slideshow": {
     "slide_type": "subslide"
    }
   },
   "source": [
    "You can add line numbers next to your code by clicking on `View` and then `Toggle Line Numbers` above (or by pressing `Shift-L`). This could be particularly useful to find errors, especially if you have a cell with a large number of lines of code, because the errors specify which line is involved.\n",
    "\n",
    "You can insert a cell above (or below) another cell by pressing `A` (or `B`). \n",
    "\n",
    "If you want to turn a cell into a markdown cell, you can quickly do it by pressing `M`."
   ]
  },
  {
   "cell_type": "markdown",
   "metadata": {},
   "source": [
    "<div id=\"heading--1-1\"/>\n",
    "\n",
    "## 1.1. Markdown basics"
   ]
  },
  {
   "cell_type": "markdown",
   "metadata": {},
   "source": [
    "Some useful things you could do to structure your text in markdown:\n",
    "\n",
    "* especially useful for this course: if you want to include some code in your text, you can braket it within the symbols corresponding to [grave accents](https://en.wikipedia.org/wiki/Grave_accent). If you want to write a longer piece of code and preserve the subdivision in lines, at least two accents are needed at the beginning and at the end of your code\n",
    "* links can be inserted like this: `[link name](link.com)`\n",
    "* you can use `#` to create sections and headings for your text. The more `#` you use, the smaller the title: `# Title of your section`, `## Title of your subsection`, ...\n",
    "* you can use asterisks to put text in **bold** or in *italics*: `**this text would be bold**` and `*this text would be in italics*`\n",
    "* asterisks can also be used to make bullet lists like this one! Leave an empty line before and after your list, and start each point with `*`\n",
    "* equations can be inserted by using the same syntax used in LaTeX, by using `$` to bracket your math: $F = ma$. For complex equations, you can use `$$` to bracket your equation, as in this example:\n",
    "$$ \\nabla \\times \\mathbf{E} = - \\frac{1}{c}\\frac{\\partial \\mathbf{B}}{\\partial t}$$\n",
    "\n",
    "**General tip**: if you want to know how a particular feature of this notebook is created, double click on the cell where you see it, and take a look at how this was written in markdown!"
   ]
  },
  {
   "cell_type": "markdown",
   "metadata": {},
   "source": [
    "--------------------------------------------------------------------------------------------------------------------\n",
    "<div id=\"heading--2\"/>\n",
    "\n",
    "# 2. Basic syntax "
   ]
  },
  {
   "cell_type": "markdown",
   "metadata": {},
   "source": [
    "<div id=\"heading--2-1\"/>\n",
    "\n",
    "## 2.1. Comments"
   ]
  },
  {
   "cell_type": "markdown",
   "metadata": {},
   "source": [
    "The `#` character is used to start a **comment**, which continues until the end of the line. \n",
    "\n",
    "Comments continuing on more than one line can be inserted by bracketing them with `'''`."
   ]
  },
  {
   "cell_type": "code",
   "execution_count": 2,
   "metadata": {},
   "outputs": [],
   "source": [
    "# This is a comment. \n",
    "\n",
    "'''\n",
    "Comments on more than 1 line\n",
    "can be inserted in this way.\n",
    "'''\n",
    "\n",
    "a = 3 # you can also put comments after code"
   ]
  },
  {
   "cell_type": "markdown",
   "metadata": {},
   "source": [
    "<div id=\"heading--2-2\"/>\n",
    "\n",
    "## 2.2. Variables"
   ]
  },
  {
   "cell_type": "markdown",
   "metadata": {},
   "source": [
    "A **variable** is used to store data that will be used by the program. This data can be a number, a string, a Boolean, a list or some other data type. Every variable has a name which can consist of letters, numbers, and the underscore character `_`. The equal sign `=` is used to assign a value to a variable. After the initial assignment is made, the value of a variable can be updated to new values as needed."
   ]
  },
  {
   "cell_type": "code",
   "execution_count": 3,
   "metadata": {},
   "outputs": [
    {
     "name": "stdout",
     "output_type": "stream",
     "text": [
      "100\n",
      "120\n"
     ]
    }
   ],
   "source": [
    "city = \"Vienna\"\n",
    "city_id = 100\n",
    "score = 1.4\n",
    "verified = True\n",
    "prize = None\n",
    "\n",
    "# You can change the value of a variable after assignment:\n",
    "points_1 = 100\n",
    "print(points_1)  # to know more about the print() function, see Sect. 2.4.1\n",
    "points_1 = 120\n",
    "print(points_1)"
   ]
  },
  {
   "cell_type": "markdown",
   "metadata": {},
   "source": [
    "The function `type()` returns the data type of the variable passed to it."
   ]
  },
  {
   "cell_type": "code",
   "execution_count": 4,
   "metadata": {},
   "outputs": [
    {
     "data": {
      "text/plain": [
       "str"
      ]
     },
     "execution_count": 4,
     "metadata": {},
     "output_type": "execute_result"
    }
   ],
   "source": [
    "type(city)"
   ]
  },
  {
   "cell_type": "code",
   "execution_count": 5,
   "metadata": {},
   "outputs": [
    {
     "data": {
      "text/plain": [
       "int"
      ]
     },
     "execution_count": 5,
     "metadata": {},
     "output_type": "execute_result"
    }
   ],
   "source": [
    "type(city_id)"
   ]
  },
  {
   "cell_type": "code",
   "execution_count": 6,
   "metadata": {},
   "outputs": [
    {
     "data": {
      "text/plain": [
       "float"
      ]
     },
     "execution_count": 6,
     "metadata": {},
     "output_type": "execute_result"
    }
   ],
   "source": [
    "type(score)"
   ]
  },
  {
   "cell_type": "code",
   "execution_count": 7,
   "metadata": {},
   "outputs": [
    {
     "data": {
      "text/plain": [
       "bool"
      ]
     },
     "execution_count": 7,
     "metadata": {},
     "output_type": "execute_result"
    }
   ],
   "source": [
    "type(verified)"
   ]
  },
  {
   "cell_type": "code",
   "execution_count": 8,
   "metadata": {},
   "outputs": [
    {
     "data": {
      "text/plain": [
       "NoneType"
      ]
     },
     "execution_count": 8,
     "metadata": {},
     "output_type": "execute_result"
    }
   ],
   "source": [
    "type(prize)"
   ]
  },
  {
   "cell_type": "markdown",
   "metadata": {},
   "source": [
    "You can modify the type of a variable by using `str`, `int`, `float`, and `bool`:"
   ]
  },
  {
   "cell_type": "code",
   "execution_count": 9,
   "metadata": {},
   "outputs": [
    {
     "data": {
      "text/plain": [
       "'100'"
      ]
     },
     "execution_count": 9,
     "metadata": {},
     "output_type": "execute_result"
    }
   ],
   "source": [
    "str(city_id)"
   ]
  },
  {
   "cell_type": "code",
   "execution_count": 10,
   "metadata": {},
   "outputs": [
    {
     "data": {
      "text/plain": [
       "1"
      ]
     },
     "execution_count": 10,
     "metadata": {},
     "output_type": "execute_result"
    }
   ],
   "source": [
    "int(score)"
   ]
  },
  {
   "cell_type": "code",
   "execution_count": 11,
   "metadata": {},
   "outputs": [
    {
     "data": {
      "text/plain": [
       "100.0"
      ]
     },
     "execution_count": 11,
     "metadata": {},
     "output_type": "execute_result"
    }
   ],
   "source": [
    "float(city_id)"
   ]
  },
  {
   "cell_type": "code",
   "execution_count": 12,
   "metadata": {},
   "outputs": [
    {
     "data": {
      "text/plain": [
       "1"
      ]
     },
     "execution_count": 12,
     "metadata": {},
     "output_type": "execute_result"
    }
   ],
   "source": [
    "int(verified)"
   ]
  },
  {
   "cell_type": "code",
   "execution_count": 13,
   "metadata": {},
   "outputs": [
    {
     "data": {
      "text/plain": [
       "True"
      ]
     },
     "execution_count": 13,
     "metadata": {},
     "output_type": "execute_result"
    }
   ],
   "source": [
    "bool(1)"
   ]
  },
  {
   "cell_type": "markdown",
   "metadata": {},
   "source": [
    "<font color='magenta'>**CAREFUL: not all variables can be transformed into a different type!**</font>"
   ]
  },
  {
   "cell_type": "code",
   "execution_count": 14,
   "metadata": {},
   "outputs": [
    {
     "ename": "ValueError",
     "evalue": "could not convert string to float: 'Vienna'",
     "output_type": "error",
     "traceback": [
      "\u001b[0;31m---------------------------------------------------------------------------\u001b[0m",
      "\u001b[0;31mValueError\u001b[0m                                Traceback (most recent call last)",
      "Input \u001b[0;32mIn [14]\u001b[0m, in \u001b[0;36m<cell line: 1>\u001b[0;34m()\u001b[0m\n\u001b[0;32m----> 1\u001b[0m \u001b[38;5;28mfloat\u001b[39m(city)\n",
      "\u001b[0;31mValueError\u001b[0m: could not convert string to float: 'Vienna'"
     ]
    }
   ],
   "source": [
    "float(city)"
   ]
  },
  {
   "cell_type": "code",
   "execution_count": 15,
   "metadata": {},
   "outputs": [
    {
     "ename": "TypeError",
     "evalue": "int() argument must be a string, a bytes-like object or a real number, not 'NoneType'",
     "output_type": "error",
     "traceback": [
      "\u001b[0;31m---------------------------------------------------------------------------\u001b[0m",
      "\u001b[0;31mTypeError\u001b[0m                                 Traceback (most recent call last)",
      "Input \u001b[0;32mIn [15]\u001b[0m, in \u001b[0;36m<cell line: 1>\u001b[0;34m()\u001b[0m\n\u001b[0;32m----> 1\u001b[0m \u001b[38;5;28mint\u001b[39m(prize)\n",
      "\u001b[0;31mTypeError\u001b[0m: int() argument must be a string, a bytes-like object or a real number, not 'NoneType'"
     ]
    }
   ],
   "source": [
    "int(prize)"
   ]
  },
  {
   "cell_type": "markdown",
   "metadata": {},
   "source": [
    "<font color='magenta'>**CAREFUL: some variable names are _\"protected\"_, because they are used for built-in functions. You will _not_ get an error if you redefine a variable, and this will prevent you from being able to use the original built-in function.**</font>\n",
    "\n",
    "The following is an example of this. As you can see, you can easily recognize the \"protected\" variable names, because they are marked with a different color!"
   ]
  },
  {
   "cell_type": "code",
   "execution_count": 1,
   "metadata": {},
   "outputs": [
    {
     "data": {
      "text/plain": [
       "3"
      ]
     },
     "execution_count": 1,
     "metadata": {},
     "output_type": "execute_result"
    }
   ],
   "source": [
    "int(3.14159)"
   ]
  },
  {
   "cell_type": "code",
   "execution_count": 2,
   "metadata": {},
   "outputs": [],
   "source": [
    "int = 5"
   ]
  },
  {
   "cell_type": "code",
   "execution_count": 3,
   "metadata": {},
   "outputs": [
    {
     "ename": "TypeError",
     "evalue": "'int' object is not callable",
     "output_type": "error",
     "traceback": [
      "\u001b[0;31m---------------------------------------------------------------------------\u001b[0m",
      "\u001b[0;31mTypeError\u001b[0m                                 Traceback (most recent call last)",
      "Input \u001b[0;32mIn [3]\u001b[0m, in \u001b[0;36m<cell line: 1>\u001b[0;34m()\u001b[0m\n\u001b[0;32m----> 1\u001b[0m \u001b[38;5;28mint\u001b[39m(\u001b[38;5;241m4.0\u001b[39m)\n",
      "\u001b[0;31mTypeError\u001b[0m: 'int' object is not callable"
     ]
    }
   ],
   "source": [
    "int(4.0)"
   ]
  },
  {
   "cell_type": "markdown",
   "metadata": {},
   "source": [
    "If you have mistakenly overwritten a built-in function (like we just did in the cells above), don't panic: just restart the kernel (click on `Kernel` and then on `Restart` above), change the name of your variable, and re-run your cells. So, if you did run the previous cells, you need to restart the kernel to be able to use the function `int` again!"
   ]
  },
  {
   "cell_type": "markdown",
   "metadata": {},
   "source": [
    "<div id=\"heading--2-3\"/>\n",
    "\n",
    "## 2.3. Arithmetic operations"
   ]
  },
  {
   "cell_type": "markdown",
   "metadata": {},
   "source": [
    "Arithmetic operations are supported in python and can be performed on literal numbers, variables, or some combination. \n",
    "\n",
    "The primary arithmetic operators are:"
   ]
  },
  {
   "cell_type": "code",
   "execution_count": 16,
   "metadata": {},
   "outputs": [
    {
     "name": "stdout",
     "output_type": "stream",
     "text": [
      "modulus = 1\n",
      "power = 125\n",
      "power1 = 5.0\n",
      "power2 = 1024\n"
     ]
    }
   ],
   "source": [
    "points=100\n",
    "add = 10 + 30\n",
    "diff = points - 10\n",
    "prod = 50 * 5\n",
    "division = points / 4\n",
    "\n",
    "modulus = 25 % 2  # returns the remainder of a division between the first and second number\n",
    "print('modulus =', modulus)\n",
    "\n",
    "power = 5 ** a\n",
    "print('power =', power)\n",
    "power1 = 25 ** 0.5\n",
    "print('power1 =', power1)\n",
    "power2 = 2 ** 10\n",
    "print('power2 =', power2)"
   ]
  },
  {
   "cell_type": "markdown",
   "metadata": {},
   "source": [
    "The plus-equals operator `+=` provides a convenient way to add a value to an existing variable and assign the new value back to the same variable. If the variable and the value are strings, this operator performs string concatenation instead of addition. The operation is performed _in-place_, meaning that any other variable which points to the variable being updated will also be updated. \n",
    "\n",
    "A similar effect is obtained with `-=`, `*=` and `/=` (for numbers)."
   ]
  },
  {
   "cell_type": "code",
   "execution_count": 17,
   "metadata": {},
   "outputs": [
    {
     "name": "stdout",
     "output_type": "stream",
     "text": [
      "16\n"
     ]
    }
   ],
   "source": [
    "b = 15\n",
    "b += 1   # this is equivalent to: b = b + 1\n",
    "print(b)"
   ]
  },
  {
   "cell_type": "code",
   "execution_count": 18,
   "metadata": {},
   "outputs": [
    {
     "name": "stdout",
     "output_type": "stream",
     "text": [
      "string\n"
     ]
    }
   ],
   "source": [
    "st = 'str'\n",
    "st += 'ing'\n",
    "print(st)"
   ]
  },
  {
   "cell_type": "code",
   "execution_count": 19,
   "metadata": {},
   "outputs": [
    {
     "name": "stdout",
     "output_type": "stream",
     "text": [
      "4.0\n",
      "2.0\n",
      "6.0\n"
     ]
    }
   ],
   "source": [
    "b /= 4   # note that the result of this operation is a float\n",
    "print(b) \n",
    "b -= 2\n",
    "print(b)\n",
    "b *= 3\n",
    "print(b)"
   ]
  },
  {
   "cell_type": "markdown",
   "metadata": {},
   "source": [
    "<div id=\"heading--2-4\"/>\n",
    "\n",
    "## 2.4. Input and output"
   ]
  },
  {
   "cell_type": "markdown",
   "metadata": {},
   "source": [
    "<div id=\"heading--2-4-1\"/>\n",
    "\n",
    "### 2.4.1. Printing and formatting output"
   ]
  },
  {
   "cell_type": "markdown",
   "metadata": {},
   "source": [
    "The `print()` function is used to **output** text, numbers, or other printable information to the console.\n",
    "It takes one or more arguments and will output each of the arguments to the console separated by a space. \n",
    "If no arguments are provided, the `print()` function will output a blank line."
   ]
  },
  {
   "cell_type": "code",
   "execution_count": 20,
   "metadata": {},
   "outputs": [
    {
     "name": "stdout",
     "output_type": "stream",
     "text": [
      "Hello World!\n",
      "100\n",
      "3\n",
      "\n",
      "3 9\n"
     ]
    }
   ],
   "source": [
    "print(\"Hello World!\")\n",
    " \n",
    "print(100)\n",
    "\n",
    "print(a)\n",
    "\n",
    "print()\n",
    "\n",
    "print(a, a**2)"
   ]
  },
  {
   "cell_type": "markdown",
   "metadata": {},
   "source": [
    "You can set the numbers in your output to follow a specific format, as shown here:"
   ]
  },
  {
   "cell_type": "code",
   "execution_count": 21,
   "metadata": {},
   "outputs": [
    {
     "name": "stdout",
     "output_type": "stream",
     "text": [
      "12 144 1728\n",
      " 5  25  125\n",
      "\n",
      "You can set the number of decimals like this: 5.000. \n",
      "You can also split the text on more lines.\n",
      "\n",
      "You can use a tab to space \tthings and format output.\n",
      "\n",
      "You can also use variables, and set a specific format, like 003 or 2.00.\n"
     ]
    }
   ],
   "source": [
    "x = 12\n",
    "print('{0:2d} {1:3d} {2:4d}'.format(x, x*x, x*x*x))\n",
    "x = 5\n",
    "print('{0:2d} {1:3d} {2:4d}'.format(x, x*x, x*x*x))\n",
    "\n",
    "# You can also use \\t and \\n to format output:\n",
    "print()\n",
    "print('You can set the number of decimals like this: %5.3f. \\nYou can also split the text on more lines.' % x)\n",
    "print('\\nYou can use a tab to space \\tthings and format output.')\n",
    "\n",
    "print()\n",
    "print('You can also use variables, and set a specific format, like %(number1)03d or %(number2)4.2f.' %\n",
    "      {'number1': 3, 'number2': 2})"
   ]
  },
  {
   "cell_type": "markdown",
   "metadata": {},
   "source": [
    "Another string formatting mechanism that you can use in Python is known as _Literal String Interpolation_ or more commonly as _f-strings_ (because of the leading `f` character preceding the string literal). The idea behind f-strings is to make string interpolation simpler. To create an f-string, prefix the string with the letter `f`. The string itself can be formatted in a similar way to the syntax explained above. F-strings provide a concise and convenient way to embed python expressions inside string literals for formatting. An example:"
   ]
  },
  {
   "cell_type": "code",
   "execution_count": 22,
   "metadata": {},
   "outputs": [
    {
     "name": "stdout",
     "output_type": "stream",
     "text": [
      "Never gonna give you up\n",
      "Never gonna let you down\n",
      "Never gonna run around and desert you\n"
     ]
    }
   ],
   "source": [
    "val = 'Never gonna'\n",
    "print(f\"{val} give you up\\n{val} let you down\\n{val} run around and desert you\")"
   ]
  },
  {
   "cell_type": "code",
   "execution_count": 23,
   "metadata": {},
   "outputs": [
    {
     "name": "stdout",
     "output_type": "stream",
     "text": [
      "Hello, my name is Marty McFly and I'm 17 years old.\n"
     ]
    }
   ],
   "source": [
    "name = 'Marty'\n",
    "surname = 'McFly'\n",
    "age = 17\n",
    "print(f\"Hello, my name is {name} {surname} and I'm {age} years old.\")"
   ]
  },
  {
   "cell_type": "code",
   "execution_count": 24,
   "metadata": {},
   "outputs": [
    {
     "name": "stdout",
     "output_type": "stream",
     "text": [
      "October 30, 2022\n"
     ]
    }
   ],
   "source": [
    "import datetime\n",
    " \n",
    "today = datetime.datetime.today()\n",
    "print(f\"{today:%B %d, %Y}\")"
   ]
  },
  {
   "cell_type": "code",
   "execution_count": 25,
   "metadata": {},
   "outputs": [
    {
     "name": "stdout",
     "output_type": "stream",
     "text": [
      "\n"
     ]
    }
   ],
   "source": [
    "value = \"\"\n",
    "print(f\"{value}\")"
   ]
  },
  {
   "cell_type": "markdown",
   "metadata": {},
   "source": [
    "<div id=\"heading--2-4-2\"/>\n",
    "\n",
    "### 2.4.2. Accepting input"
   ]
  },
  {
   "cell_type": "markdown",
   "metadata": {},
   "source": [
    "You can use the `input()` function to get input from the user. You can also specify what type of input you need:"
   ]
  },
  {
   "cell_type": "code",
   "execution_count": 26,
   "metadata": {},
   "outputs": [
    {
     "name": "stdout",
     "output_type": "stream",
     "text": [
      "Insert your name here: Yzma\n"
     ]
    },
    {
     "data": {
      "text/plain": [
       "'Yzma'"
      ]
     },
     "execution_count": 26,
     "metadata": {},
     "output_type": "execute_result"
    }
   ],
   "source": [
    "input('Insert your name here: ')"
   ]
  },
  {
   "cell_type": "markdown",
   "metadata": {},
   "source": [
    "The input inserted in this way is always interpreted as a string, so you will need to convert it if you need to use it as a number:"
   ]
  },
  {
   "cell_type": "code",
   "execution_count": 27,
   "metadata": {},
   "outputs": [
    {
     "name": "stdout",
     "output_type": "stream",
     "text": [
      "Insert a float: 2.5\n",
      "3.5\n"
     ]
    }
   ],
   "source": [
    "a = float(input('Insert a float: '))\n",
    "print(a+1)"
   ]
  },
  {
   "cell_type": "code",
   "execution_count": 28,
   "metadata": {},
   "outputs": [
    {
     "name": "stdout",
     "output_type": "stream",
     "text": [
      "Insert an integer: 5\n",
      "The square of your number is: 25\n"
     ]
    }
   ],
   "source": [
    "b = int(input('Insert an integer: '))\n",
    "print('The square of your number is:', b**2)"
   ]
  },
  {
   "cell_type": "markdown",
   "metadata": {},
   "source": [
    "<div id=\"heading--2-4-3\"/>\n",
    "\n",
    "### 2.4.3. Input from and output to files"
   ]
  },
  {
   "cell_type": "markdown",
   "metadata": {},
   "source": [
    "You can also store your output in a file or read some input from a file. There are many ways to do this, but here we will focus on the easiest option available in python. To interact with files, you first need to open them, as shown in the next cell."
   ]
  },
  {
   "cell_type": "code",
   "execution_count": 29,
   "metadata": {},
   "outputs": [],
   "source": [
    "f = open('filename', 'w')"
   ]
  },
  {
   "cell_type": "markdown",
   "metadata": {},
   "source": [
    "The `open` statement requires (at least) two arguments: a string containing the name of your file, and another string describing in which way you will use this file (`w` = writing, `r` = reading, `a` = appending to the end of file if it already exists; for other options, take a look [here](https://docs.python.org/3/library/functions.html#open)). \n",
    "\n",
    "You can then write on the file by using:"
   ]
  },
  {
   "cell_type": "code",
   "execution_count": 30,
   "metadata": {},
   "outputs": [
    {
     "data": {
      "text/plain": [
       "3"
      ]
     },
     "execution_count": 30,
     "metadata": {},
     "output_type": "execute_result"
    }
   ],
   "source": [
    "f.write('I am writing on this file\\n')\n",
    "f.write(str(a))"
   ]
  },
  {
   "cell_type": "markdown",
   "metadata": {},
   "source": [
    "Everything you write has to be a string, so remember to convert things before writing to a file, otherwise you will get an error:"
   ]
  },
  {
   "cell_type": "code",
   "execution_count": 31,
   "metadata": {},
   "outputs": [
    {
     "ename": "TypeError",
     "evalue": "write() argument must be str, not float",
     "output_type": "error",
     "traceback": [
      "\u001b[0;31m---------------------------------------------------------------------------\u001b[0m",
      "\u001b[0;31mTypeError\u001b[0m                                 Traceback (most recent call last)",
      "Input \u001b[0;32mIn [31]\u001b[0m, in \u001b[0;36m<cell line: 1>\u001b[0;34m()\u001b[0m\n\u001b[0;32m----> 1\u001b[0m f\u001b[38;5;241m.\u001b[39mwrite(a)\n",
      "\u001b[0;31mTypeError\u001b[0m: write() argument must be str, not float"
     ]
    }
   ],
   "source": [
    "f.write(a)"
   ]
  },
  {
   "cell_type": "markdown",
   "metadata": {},
   "source": [
    "After writing everything, do not forget to close the file, otherwise your output will not be saved:"
   ]
  },
  {
   "cell_type": "code",
   "execution_count": 32,
   "metadata": {},
   "outputs": [],
   "source": [
    "f.close()"
   ]
  },
  {
   "cell_type": "markdown",
   "metadata": {},
   "source": [
    "To read a file, you have several options, depending on how the file is formatted:\n",
    "\n",
    "* `f.read()` reads the entire file as a string\n",
    "* `f.readline()` reads one line at the time, each of them as a separate string\n",
    "* `list(f)` or `f.readlines()` put the content of the file in a list (this creates a list of strings!)"
   ]
  },
  {
   "cell_type": "code",
   "execution_count": 33,
   "metadata": {},
   "outputs": [],
   "source": [
    "f = open('readfile', 'r')\n",
    "c = f.read()\n",
    "f.close()"
   ]
  },
  {
   "cell_type": "code",
   "execution_count": 34,
   "metadata": {},
   "outputs": [
    {
     "name": "stdout",
     "output_type": "stream",
     "text": [
      "1\t1\n",
      "2\t4\n",
      "3\t9\n",
      "4\t16\n",
      "5\t25\n",
      "6\t36\n",
      "7\t49\n",
      "8\t64\n",
      "9\t81\n",
      "10\t100\n",
      "\n"
     ]
    }
   ],
   "source": [
    "print(c)  # careful: the following is a unique string!!!"
   ]
  },
  {
   "cell_type": "code",
   "execution_count": 35,
   "metadata": {},
   "outputs": [],
   "source": [
    "f = open('readfile', 'r')\n",
    "# comment and uncomment the following two lines to test the two methods\n",
    "#c = f.readlines()\n",
    "c = list(f)\n",
    "f.close()"
   ]
  },
  {
   "cell_type": "code",
   "execution_count": 36,
   "metadata": {},
   "outputs": [
    {
     "name": "stdout",
     "output_type": "stream",
     "text": [
      "['1\\t1\\n', '2\\t4\\n', '3\\t9\\n', '4\\t16\\n', '5\\t25\\n', '6\\t36\\n', '7\\t49\\n', '8\\t64\\n', '9\\t81\\n', '10\\t100\\n']\n"
     ]
    }
   ],
   "source": [
    "print(c)"
   ]
  },
  {
   "cell_type": "code",
   "execution_count": 37,
   "metadata": {},
   "outputs": [
    {
     "name": "stdout",
     "output_type": "stream",
     "text": [
      "2\n",
      "6\n",
      "12\n",
      "20\n",
      "30\n",
      "42\n",
      "56\n",
      "72\n",
      "90\n",
      "110\n"
     ]
    }
   ],
   "source": [
    "# If you want to get the numbers you have to remove the `\\n` and split each line by using `\\t`:\n",
    "\n",
    "for line in open('readfile', 'r').readlines():\n",
    "    b = line.rstrip('\\n').split('\\t')\n",
    "    c,c2 = int(b[0]),int(b[1])\n",
    "    #c,c2 = b[0],b[1]    # ---> uncomment this line and comment the previous one to see what happens!\n",
    "    print(c+c2)"
   ]
  },
  {
   "cell_type": "markdown",
   "metadata": {},
   "source": [
    "If you already know that your file is made of numbers written in columns, you can also use the `numpy.loadtxt` function to read it. In this way, each column of the file will be stored in a separate array, and numbers are stored as **floats** and not as strings!\n",
    "\n",
    "For more information on arrays and on `numpy`, see Sect. 6.1 below."
   ]
  },
  {
   "cell_type": "code",
   "execution_count": 38,
   "metadata": {},
   "outputs": [],
   "source": [
    "from numpy import loadtxt\n",
    "c,c2 = loadtxt('readfile',usecols=(0,1),unpack=True)"
   ]
  },
  {
   "cell_type": "code",
   "execution_count": 39,
   "metadata": {},
   "outputs": [
    {
     "name": "stdout",
     "output_type": "stream",
     "text": [
      "[ 1.  2.  3.  4.  5.  6.  7.  8.  9. 10.]\n",
      "[  1.   4.   9.  16.  25.  36.  49.  64.  81. 100.]\n"
     ]
    }
   ],
   "source": [
    "print(c)\n",
    "print(c2)"
   ]
  },
  {
   "cell_type": "markdown",
   "metadata": {},
   "source": [
    "<div id=\"heading--2-5\"/>\n",
    "\n",
    "## 2.5. Relational and logical operators"
   ]
  },
  {
   "cell_type": "markdown",
   "metadata": {},
   "source": [
    "<div id=\"heading--2-5-1\"/>\n",
    "\n",
    "### 2.5.1. Relational operators"
   ]
  },
  {
   "cell_type": "markdown",
   "metadata": {},
   "source": [
    "**Relational operators** compare two values or expressions. The most common ones are:\n",
    "\n",
    " * **`<`** less than\n",
    " * **`>`**  greater than\n",
    " * **`<=`** less than or equal to\n",
    " * **`>=`** greater than or equal to\n",
    " * **`==`** is used to compare two values, variables or expressions to determine if they are the same. If the values being compared are the same, the operator returns `True`, otherwise it returns `False`. The operator takes the data type into account when making the comparison, so a string value of `'2'` is not considered the same as a numeric value of `2`.\n",
    " * **`!=`** is used to compare two values, variables or expressions to determine if they are **NOT** the same. If they are NOT the same, the operator returns `True`, otherwise it returns `False`. The operator takes the data type into account when making the comparison.\n",
    " \n",
    "If the relation is correct, then the entire expression will evaluate to `True`. If not, the expression evaluates to `False`."
   ]
  },
  {
   "cell_type": "code",
   "execution_count": 40,
   "metadata": {},
   "outputs": [
    {
     "name": "stdout",
     "output_type": "stream",
     "text": [
      "a is equal to b:                 False\n",
      "a is smaller than b:             True\n",
      "a is less than or equal to b:    True\n",
      "a is greater than or equal to b: False\n",
      "a is larger than b:              False\n",
      "a is not equal to b:             True\n"
     ]
    }
   ],
   "source": [
    "a = 4\n",
    "b = 6\n",
    "\n",
    "# Some simple test statements, returning a logical True or False:\n",
    "print('a is equal to b:                ',a == b)  # test if equal\n",
    "print('a is smaller than b:            ',a < b )  # test if a smaller than b\n",
    "print('a is less than or equal to b:   ',a <= b)  # test if a less than or equal to b\n",
    "print('a is greater than or equal to b:',a >= b)  # test if a greater than or equal to b\n",
    "print('a is larger than b:             ',a > b )  # test if a larger than b\n",
    "print('a is not equal to b:            ',a != b)  # test if a is not equal to b"
   ]
  },
  {
   "cell_type": "code",
   "execution_count": 41,
   "metadata": {},
   "outputs": [
    {
     "name": "stdout",
     "output_type": "stream",
     "text": [
      "True\n",
      "False\n"
     ]
    }
   ],
   "source": [
    "equal = (2 == 4/2)\n",
    "print(equal)\n",
    "equal = (2 == '2')\n",
    "print(equal)"
   ]
  },
  {
   "cell_type": "code",
   "execution_count": 42,
   "metadata": {},
   "outputs": [
    {
     "name": "stdout",
     "output_type": "stream",
     "text": [
      "False\n",
      "True\n"
     ]
    }
   ],
   "source": [
    "equal = (2 != 4/2)\n",
    "print(equal)\n",
    "equal = (2 != '2')\n",
    "print(equal)"
   ]
  },
  {
   "cell_type": "markdown",
   "metadata": {},
   "source": [
    "<div id=\"heading--2-5-2\"/>\n",
    "\n",
    "### 2.5.2. Logical operators"
   ]
  },
  {
   "cell_type": "markdown",
   "metadata": {},
   "source": [
    " * **`and`** performs a Boolean comparison between two Boolean values, variables, or expressions. If both sides of the operator evaluate to `True`, the `and` operator returns `True`. If either side (or both sides) evaluates to `False`, the `and` operator returns `False`.\n",
    " * **`or`** combines two Boolean expressions and evaluates to `True` if _at least one_ of the expressions returns `True`.\n",
    " * **`^`** is a `xor` operator (exclusive or), and evaluates to `True` if _only one_ of the expressions returns `True`.\n",
    " * **`not`**  is used in a Boolean expression in order to evaluate the expression to its inverse value. If the original expression was `True`, including the `not` operator would make the expression `False`, and vice versa."
   ]
  },
  {
   "cell_type": "code",
   "execution_count": 43,
   "metadata": {},
   "outputs": [
    {
     "name": "stdout",
     "output_type": "stream",
     "text": [
      "True\n",
      "False\n",
      "False\n"
     ]
    }
   ],
   "source": [
    "and_operator = (1 < 4) and (10 > 4) \n",
    "print(and_operator)\n",
    "and_operator = (1 < 4) and (1 > 4) \n",
    "print(and_operator)\n",
    "and_operator = (10 < 4) and (1 > 4) \n",
    "print(and_operator)"
   ]
  },
  {
   "cell_type": "code",
   "execution_count": 44,
   "metadata": {},
   "outputs": [
    {
     "name": "stdout",
     "output_type": "stream",
     "text": [
      "True\n",
      "True\n",
      "False\n"
     ]
    }
   ],
   "source": [
    "or_operator = (1 < 4) or (10 > 4) \n",
    "print(or_operator)\n",
    "or_operator = (1 < 4) or (1 > 4) \n",
    "print(or_operator)\n",
    "or_operator = (10 < 4) or (1 > 4) \n",
    "print(or_operator)"
   ]
  },
  {
   "cell_type": "code",
   "execution_count": 45,
   "metadata": {},
   "outputs": [
    {
     "name": "stdout",
     "output_type": "stream",
     "text": [
      "False\n",
      "True\n",
      "False\n"
     ]
    }
   ],
   "source": [
    "xor_operator = (1 < 4) ^ (10 > 4) \n",
    "print(xor_operator)\n",
    "xor_operator = (1 < 4) ^ (1 > 4) \n",
    "print(xor_operator)\n",
    "xor_operator = (10 < 4) ^ (1 > 4) \n",
    "print(xor_operator)"
   ]
  },
  {
   "cell_type": "code",
   "execution_count": 46,
   "metadata": {},
   "outputs": [
    {
     "name": "stdout",
     "output_type": "stream",
     "text": [
      "False\n",
      "True\n"
     ]
    }
   ],
   "source": [
    "not_operator = not (1 < 4) \n",
    "print(not_operator)\n",
    "not_operator = not (1 > 4) \n",
    "print(not_operator)"
   ]
  },
  {
   "cell_type": "markdown",
   "metadata": {},
   "source": [
    "--------------------------------------------------------------------------------------------------------------------\n",
    "<div id=\"heading--3\"/>\n",
    "\n",
    "# 3. Control flow: if statements and loops"
   ]
  },
  {
   "cell_type": "markdown",
   "metadata": {},
   "source": [
    "<div id=\"heading--3-1\"/>\n",
    "\n",
    "## 3.1. `if`, `elif`, `else` statements"
   ]
  },
  {
   "cell_type": "markdown",
   "metadata": {},
   "source": [
    "The **`if` statement** is used to determine the execution of code based on the evaluation of a Boolean expression. If the `if` statement expression evaluates to `True`, then the indented code following the statement is executed. If the expression evaluates to `False` then the indented code following the `if` statement is skipped and the program executes the next line of code which is indented at the same level as the `if` statement.\n",
    "\n",
    "<font color='magenta'>**CAREFUL: indentation matters!**</font>"
   ]
  },
  {
   "cell_type": "code",
   "execution_count": 47,
   "metadata": {},
   "outputs": [
    {
     "name": "stdout",
     "output_type": "stream",
     "text": [
      "The condition is True, so you will see this text!\n",
      "Program continues from here.\n"
     ]
    }
   ],
   "source": [
    "value = 5\n",
    " \n",
    "if value > 1:\n",
    "    print('The condition is True, so you will see this text!')\n",
    "\n",
    "if value > 1000:\n",
    "    print('The condition is False, so you will NOT see this!')\n",
    "\n",
    "print('Program continues from here.')"
   ]
  },
  {
   "cell_type": "markdown",
   "metadata": {},
   "source": [
    "The **`else` statement** provides alternate code to execute if the expression in an `if` statement evaluates to `False`. The indented code for the `if` statement is executed if the expression evaluates to `True`. The indented code immediately following the `else` is executed only if the expression evaluates to `False`. To mark the end of the `else` block, the code must be unindented to the same level as the starting `if` line."
   ]
  },
  {
   "cell_type": "code",
   "execution_count": 48,
   "metadata": {},
   "outputs": [
    {
     "name": "stdout",
     "output_type": "stream",
     "text": [
      "This will be printed instead!\n",
      "Program continues from here.\n"
     ]
    }
   ],
   "source": [
    "value = 5\n",
    " \n",
    "if value > 1000:\n",
    "    print('The condition is False, so you will NOT see this!')\n",
    "else:    \n",
    "    print('This will be printed instead!')\n",
    "\n",
    "print('Program continues from here.')"
   ]
  },
  {
   "cell_type": "markdown",
   "metadata": {},
   "source": [
    "The **`elif` statement** allows for continued checks to be performed after an initial `if` statement. An `elif` statement differs from the `else` statement because another expression is provided to be checked, just as with the initial `if` statement. Multiple `elif` statements can be used following an initial `if` to perform a series of checks. Once an `elif` expression evaluates to `True`, no further `elif` statements are executed."
   ]
  },
  {
   "cell_type": "code",
   "execution_count": 49,
   "metadata": {},
   "outputs": [
    {
     "name": "stdout",
     "output_type": "stream",
     "text": [
      "You have a fish.\n"
     ]
    }
   ],
   "source": [
    "pet_type = \"fish\"\n",
    " \n",
    "if pet_type == \"dog\":\n",
    "    print(\"You have a dog.\")\n",
    "elif pet_type == \"fish\":\n",
    "    print(\"You have a fish.\")\n",
    "elif pet_type == \"cat\":\n",
    "    print(\"You have a cat.\")\n",
    "elif pet_type == \"bird\":\n",
    "    print(\"You have a bird.\")\n",
    "else:\n",
    "    print(\"Not sure!\")"
   ]
  },
  {
   "cell_type": "markdown",
   "metadata": {},
   "source": [
    "<font color='magenta'>**Once again, CAREFUL: indentation matters!**</font>\n",
    "\n",
    "You need to have _at least one_ indented line after an `if` statement. The indented code is carried out if the condition is satisfied. The conditional statement finishes when you insert lines that are not indented."
   ]
  },
  {
   "cell_type": "code",
   "execution_count": 50,
   "metadata": {},
   "outputs": [
    {
     "ename": "IndentationError",
     "evalue": "expected an indented block after 'if' statement on line 1 (2331465561.py, line 2)",
     "output_type": "error",
     "traceback": [
      "\u001b[0;36m  Input \u001b[0;32mIn [50]\u001b[0;36m\u001b[0m\n\u001b[0;31m    print(\"You have a horse.\")\u001b[0m\n\u001b[0m    ^\u001b[0m\n\u001b[0;31mIndentationError\u001b[0m\u001b[0;31m:\u001b[0m expected an indented block after 'if' statement on line 1\n"
     ]
    }
   ],
   "source": [
    "if pet_type == \"horse\":\n",
    "print(\"You have a horse.\")"
   ]
  },
  {
   "cell_type": "code",
   "execution_count": 51,
   "metadata": {},
   "outputs": [
    {
     "name": "stdout",
     "output_type": "stream",
     "text": [
      "a is less than or equal to 5\n",
      "a = 4\n",
      "conditional statement over\n"
     ]
    }
   ],
   "source": [
    "a = 4  # try to change this to something > 5 to see what happens!\n",
    "\n",
    "if a <= 5:\n",
    "    print('a is less than or equal to 5')\n",
    "    print('a =', a)\n",
    "print('conditional statement over')"
   ]
  },
  {
   "cell_type": "markdown",
   "metadata": {},
   "source": [
    "You can also combine if statements with relational and logical operators."
   ]
  },
  {
   "cell_type": "code",
   "execution_count": 52,
   "metadata": {},
   "outputs": [
    {
     "name": "stdout",
     "output_type": "stream",
     "text": [
      "\"and\" conditional satisfied\n",
      "\"or\"  conditional satisfied\n",
      "\"xor\"  conditional satisfied\n",
      "\"not\" conditional satisfied\n"
     ]
    }
   ],
   "source": [
    "a = 5\n",
    "\n",
    "if (a >= 0) and (a < 10):\n",
    "    print('\"and\" conditional satisfied')\n",
    "\n",
    "if (a <= -10) or (a >= 5):\n",
    "    print('\"or\"  conditional satisfied')\n",
    "\n",
    "if (a <= -10) ^ (a >= 5):\n",
    "    print('\"xor\"  conditional satisfied')\n",
    "\n",
    "if not (a <= -10):\n",
    "    print('\"not\" conditional satisfied')"
   ]
  },
  {
   "cell_type": "markdown",
   "metadata": {},
   "source": [
    "Finally, you can have `if` statements within other `if` statements, and create complicated sets of conditions."
   ]
  },
  {
   "cell_type": "code",
   "execution_count": 53,
   "metadata": {
    "scrolled": true
   },
   "outputs": [
    {
     "name": "stdout",
     "output_type": "stream",
     "text": [
      "['parrot', 'cat', 'squirrel', 'dog', 'donkey', 'puma', 'wolf', 'deer', 'whale']\n",
      "pick an animal from the list:  squirrel\n",
      "['english', 'german', 'spanish', 'italian', 'dutch']\n",
      "pick a language from the list: german\n"
     ]
    }
   ],
   "source": [
    "animal_list = ['parrot','cat','squirrel','dog','donkey','puma','wolf','deer','whale']\n",
    "language_list = ['english','german','spanish','italian', 'dutch']\n",
    "\n",
    "print(animal_list)\n",
    "animal = input('pick an animal from the list:  ')\n",
    "print(language_list)\n",
    "language = input('pick a language from the list: ')"
   ]
  },
  {
   "cell_type": "code",
   "execution_count": 54,
   "metadata": {},
   "outputs": [
    {
     "name": "stdout",
     "output_type": "stream",
     "text": [
      "\n",
      "Conditional #1\n",
      "Das Tier ist kein Hund.\n",
      "\n",
      "Conditional #2\n",
      "The animal is a squirrel.\n"
     ]
    }
   ],
   "source": [
    "# our conditionals:\n",
    "\n",
    "print('\\nConditional #1')\n",
    "if language == 'english':\n",
    "    if animal == 'dog':\n",
    "        print('The animal is a dog.')\n",
    "    elif animal == 'squirrel':\n",
    "        print('The animal is a squirrel.')\n",
    "    elif animal == 'puma':\n",
    "        print('The animal is a puma.')\n",
    "elif language == 'german':\n",
    "    if animal == 'dog':\n",
    "        print('Das Tier ist ein Hund.')\n",
    "    else:\n",
    "        print('Das Tier ist kein Hund.')\n",
    "elif language == 'italian':\n",
    "    if animal == 'dog':\n",
    "        print('Questo animale è un cane.')\n",
    "\n",
    "print('\\nConditional #2')\n",
    "if animal == 'cat':\n",
    "    print('The animal is a cat.')\n",
    "elif animal == 'parrot':\n",
    "    print('The animal is a parrot.')\n",
    "elif animal == 'squirrel' and language != 'germanic':\n",
    "    print('The animal is a squirrel.')\n",
    "elif animal == 'squirrel' and language == 'germanic':\n",
    "    print('Das Tier ist ein Eichhörnchen')\n",
    "elif language == 'dutch':\n",
    "    print('Ik weet niet welk dier dit is.')\n",
    "elif language == 'italian':\n",
    "    print('Non so che tipo di animale sia questo.')\n",
    "elif language != 'german':\n",
    "    print('I do not know what kind of animal this is.')\n",
    "elif language == 'german':\n",
    "    print('Ich weiß nicht, um was für ein Tier es sich handelt.') \n",
    "\n",
    "# print result of processing our conditionals + your lecturers horrible language skills"
   ]
  },
  {
   "cell_type": "markdown",
   "metadata": {},
   "source": [
    "<div id=\"heading--3-1-1\"/>\n",
    "\n",
    "### 3.1.1. Case switching with `match` and `case`"
   ]
  },
  {
   "cell_type": "markdown",
   "metadata": {},
   "source": [
    "Using many `elif` statements can become a bit confusing. To make your code a bit more easy to read (both for others and for yourself), you can also use the keywords **`match`** and **`case`** to implement more complex cases. Below we see a couple of examples to see how this works."
   ]
  },
  {
   "cell_type": "markdown",
   "metadata": {
    "slideshow": {
     "slide_type": "slide"
    }
   },
   "source": [
    "This is a new feature that was included in Python 3.10, so you might need to update your python if this does not work for you!"
   ]
  },
  {
   "cell_type": "code",
   "execution_count": 55,
   "metadata": {},
   "outputs": [
    {
     "name": "stdout",
     "output_type": "stream",
     "text": [
      "Your total bill is: 249\n"
     ]
    }
   ],
   "source": [
    "total = 200\n",
    "\n",
    "extra_toppings_1 = 'black olives'\n",
    "extra_toppings_2 = 'onions'\n",
    "\n",
    "match [extra_toppings_1, extra_toppings_2]:\n",
    "    case ['black olives', 'mushrooms']:\n",
    "        extra = 79\n",
    "    case ['black olives', 'onions']:\n",
    "        extra = 49\n",
    "    case ['black olives', 'bacon']:\n",
    "        extra = 99\n",
    "    case ['black olives', 'extra cheese', 'artichokes']:\n",
    "        extra = 149\n",
    "\n",
    "print(\"Your total bill is:\", total+extra)"
   ]
  },
  {
   "cell_type": "code",
   "execution_count": 56,
   "metadata": {},
   "outputs": [
    {
     "name": "stdout",
     "output_type": "stream",
     "text": [
      "Sunday\n",
      "Wednesday\n",
      "Saturday\n",
      "Please Enter a Valid Day Number\n",
      "Please Enter a Valid Day Number\n"
     ]
    }
   ],
   "source": [
    "def weekday(day):\n",
    "    match day:\n",
    "        case 1:\n",
    "            return \"Sunday\"\n",
    "        case 2:\n",
    "            return \"Monday\"\n",
    "        case 3:\n",
    "            return \"Tuesday\"\n",
    "        case 4:\n",
    "            return \"Wednesday\"\n",
    "        case 5:\n",
    "            return \"Thursday\"\n",
    "        case 6:\n",
    "            return \"Friday\"\n",
    "        case 7:\n",
    "            return \"Saturday\"\n",
    "        #wildcard case\n",
    "        case _:\n",
    "            return \"Please Enter a Valid Day Number\"\n",
    "print(weekday(1))  \n",
    "print(weekday(4))\n",
    "print(weekday(7))\n",
    "print(weekday(11))\n",
    "print(weekday('a'))"
   ]
  },
  {
   "cell_type": "markdown",
   "metadata": {},
   "source": [
    "<div id=\"heading--3-2\"/>\n",
    "\n",
    "## 3.2. Loops"
   ]
  },
  {
   "cell_type": "markdown",
   "metadata": {},
   "source": [
    "<div id=\"heading--3-2-1\"/>\n",
    "\n",
    "### 3.2.1. `for` loops"
   ]
  },
  {
   "cell_type": "markdown",
   "metadata": {},
   "source": [
    "A **`for` loop** can be used to perform an action a specific number of times in a row. \n",
    "\n",
    "The `range()` function can be used to create a list that can be used to specify the number of iterations in a `for` loop. You can specify the starting and ending point of the range to consider in your loop, and the step to use in the definition of the range: `range(start,end,step)`. You can also provide only 1 or 2 keywords: `range(end)` or `range(start,end)`. If not specified, the default values are `start = 0` and `step = 1`."
   ]
  },
  {
   "cell_type": "code",
   "execution_count": 57,
   "metadata": {},
   "outputs": [
    {
     "name": "stdout",
     "output_type": "stream",
     "text": [
      "Print this N times\n",
      "Print this N times\n",
      "Print this N times\n",
      "\n",
      "5\n"
     ]
    }
   ],
   "source": [
    "N = 3\n",
    "for i in range(N):\n",
    "    print('Print this N times')\n",
    "\n",
    "print()\n",
    "add = 0\n",
    "for i in range(5):\n",
    "    add += 1\n",
    "print(add)"
   ]
  },
  {
   "cell_type": "code",
   "execution_count": 58,
   "metadata": {},
   "outputs": [
    {
     "name": "stdout",
     "output_type": "stream",
     "text": [
      "1 1\n",
      "2 3\n",
      "3 6\n",
      "4 10\n",
      "This is the final result: 10\n",
      "\n",
      "0 0\n",
      "2 2\n",
      "4 6\n",
      "6 12\n",
      "8 20\n",
      "This is the final result: 20\n",
      "\n",
      "10 10\n",
      "9 19\n",
      "8 27\n",
      "7 34\n",
      "6 40\n",
      "5 45\n",
      "4 49\n",
      "3 52\n",
      "This is the final result: 52\n"
     ]
    }
   ],
   "source": [
    "z = [0,1,2,3,4,5,6,7,8,9,10]\n",
    "\n",
    "add = 0\n",
    "for i in range(1,5):\n",
    "    add += z[i]    \n",
    "    print(z[i],add)\n",
    "print('This is the final result:', add)\n",
    "print()\n",
    "\n",
    "add = 0\n",
    "for i in range(0,10,2): \n",
    "    add += z[i]\n",
    "    print(z[i],add)\n",
    "print('This is the final result:', add)\n",
    "print()\n",
    "\n",
    "add = 0\n",
    "for i in range(10,2,-1): \n",
    "    add += z[i]\n",
    "    print(z[i],add)\n",
    "print('This is the final result:', add)"
   ]
  },
  {
   "cell_type": "code",
   "execution_count": 59,
   "metadata": {},
   "outputs": [
    {
     "name": "stdout",
     "output_type": "stream",
     "text": [
      "This is the final result: 17\n"
     ]
    }
   ],
   "source": [
    "number_list = [1,3,7,2,4]\n",
    "tot = 0\n",
    "for i in number_list:\n",
    "    tot = tot + i\n",
    "print('This is the final result:', tot)"
   ]
  },
  {
   "cell_type": "code",
   "execution_count": 60,
   "metadata": {},
   "outputs": [
    {
     "name": "stdout",
     "output_type": "stream",
     "text": [
      "parrot\n",
      "cat\n",
      "squirrel\n",
      "dog\n",
      "donkey\n",
      "puma\n",
      "wolf\n",
      "deer\n",
      "whale\n"
     ]
    }
   ],
   "source": [
    "animal_list = ['parrot','cat','squirrel','dog','donkey','puma','wolf','deer','whale']\n",
    "\n",
    "for animal in animal_list:\n",
    "    print(animal)"
   ]
  },
  {
   "cell_type": "markdown",
   "metadata": {},
   "source": [
    "Loops can be nested inside other loops, but keep in mind that including a loop in another loop could significantly slow down your code!"
   ]
  },
  {
   "cell_type": "code",
   "execution_count": 61,
   "metadata": {},
   "outputs": [
    {
     "name": "stdout",
     "output_type": "stream",
     "text": [
      "3\n",
      "4\n",
      "5\n",
      "end of nested loop\n",
      "\n",
      "9\n",
      "16\n",
      "25\n",
      "end of nested loop\n",
      "\n"
     ]
    }
   ],
   "source": [
    "x = [3,4,5]\n",
    "y = [1,2]\n",
    "\n",
    "for j in y:\n",
    "    for i in x:\n",
    "        print(i**j)\n",
    "    print('end of nested loop\\n')"
   ]
  },
  {
   "cell_type": "markdown",
   "metadata": {},
   "source": [
    "<div id=\"heading--3-2-2\"/>\n",
    "\n",
    "### 3.2.2. `while` loops"
   ]
  },
  {
   "cell_type": "markdown",
   "metadata": {},
   "source": [
    "A **`while` loop** will repeatedly execute a code block as long as a condition evaluates to `True`. The condition of a `while` loop is always checked first before the block of code runs. If the condition is not met initially, then the code block will never run."
   ]
  },
  {
   "cell_type": "code",
   "execution_count": 62,
   "metadata": {},
   "outputs": [
    {
     "name": "stdout",
     "output_type": "stream",
     "text": [
      "The loop is being executed\n",
      "The loop was never executed\n"
     ]
    }
   ],
   "source": [
    "looping = True\n",
    "while looping:\n",
    "    print('The loop is being executed')\n",
    "    looping = False\n",
    "    \n",
    "notlooping = False\n",
    "while notlooping:\n",
    "    print('The loop is being executed')\n",
    "print('The loop was never executed')    "
   ]
  },
  {
   "cell_type": "code",
   "execution_count": 63,
   "metadata": {},
   "outputs": [
    {
     "name": "stdout",
     "output_type": "stream",
     "text": [
      "We are in iteration number 1 in the loop\n",
      "We are in iteration number 2 in the loop\n",
      "We are in iteration number 3 in the loop\n",
      "We are in iteration number 4 in the loop\n",
      "We are in iteration number 5 in the loop\n",
      "And now we are at the end of the loop: 5\n"
     ]
    }
   ],
   "source": [
    "i = 0\n",
    "while i < 5:\n",
    "    i += 1\n",
    "    print('We are in iteration number', i, 'in the loop')\n",
    "print('And now we are at the end of the loop:', i)"
   ]
  },
  {
   "cell_type": "markdown",
   "metadata": {},
   "source": [
    "<font color='magenta'>**CAREFUL: you could end up with an infinite loop!**</font>\n",
    "\n",
    "Infinite loops result when the conditions of the loop prevent it from terminating. This could be due to a typo in the conditional statement within the loop or to incorrect logic. If you execute a cell and it is running forever, click on `Kernel` and then on `Interrupt` in the menu above."
   ]
  },
  {
   "cell_type": "code",
   "execution_count": null,
   "metadata": {},
   "outputs": [],
   "source": [
    "a = 1 \n",
    "while a < 10:\n",
    "    print('a is smaller than 10')\n",
    "\n",
    "# what is wrong with this while loop?\n",
    "# can you explain why this cell should never be executed?"
   ]
  },
  {
   "cell_type": "markdown",
   "metadata": {},
   "source": [
    "<div id=\"heading--3-2-3\"/>\n",
    "\n",
    "### 3.2.3. How to get out of a loop"
   ]
  },
  {
   "cell_type": "markdown",
   "metadata": {},
   "source": [
    "In a loop, the **`break`** keyword escapes the loop, regardless of the iteration number. Once `break` executes, the program will continue to execute after the loop. The **`continue`** keyword is used inside a loop to skip the remaining code inside the loop code block and begin the next loop iteration."
   ]
  },
  {
   "cell_type": "code",
   "execution_count": 64,
   "metadata": {},
   "outputs": [
    {
     "name": "stdout",
     "output_type": "stream",
     "text": [
      "0\n",
      "254\n",
      "2\n",
      "Negative number detected!\n"
     ]
    }
   ],
   "source": [
    "numbers = [0, 254, 2, -1, 3]\n",
    " \n",
    "for num in numbers:\n",
    "    if (num < 0):\n",
    "        print(\"Negative number detected!\")\n",
    "        break\n",
    "    num *= 1\n",
    "    print(num)"
   ]
  },
  {
   "cell_type": "code",
   "execution_count": 65,
   "metadata": {},
   "outputs": [
    {
     "name": "stdout",
     "output_type": "stream",
     "text": [
      "1\n",
      "2\n",
      "4\n",
      "5\n",
      "2\n"
     ]
    }
   ],
   "source": [
    "number_list = [1, 2, -1, 4, -5, 5, 2, -9]\n",
    "\n",
    "# Print only positive numbers:\n",
    "for i in number_list:\n",
    "    if i < 0:\n",
    "        continue\n",
    "    print(i)"
   ]
  },
  {
   "cell_type": "markdown",
   "metadata": {},
   "source": [
    "--------------------------------------------------------------------------------------------------------------------\n",
    "<div id=\"heading--4\"/>\n",
    "\n",
    "# 4. Functions"
   ]
  },
  {
   "cell_type": "markdown",
   "metadata": {},
   "source": [
    "Some tasks need to be performed multiple times within a program. Rather than rewrite the same code in multiple places, a **function** may be defined using the **`def`** keyword. Function definitions may include parameters, providing data input to the function. Functions may return a value using the **`return`** keyword followed by the value to return. The value returned from a function can be assigned to a variable which can then be used in the program.\n",
    "\n",
    "Sometimes functions require input to provide data for their code. This input is defined using *parameters*. Parameters are variables that are defined in the function definition. They are assigned the values which were passed as arguments when the function was called, elsewhere in the code. Parameters in python are variables — placeholders for the actual values the function needs. When the function is called, these values are passed in as arguments.\n",
    "\n",
    "Python functions can have multiple *parameters*, because functions may need more than one input to carry out their operations. To define a function with multiple parameters, parameter names are placed one after another, separated by commas, within the parentheses of the function definition."
   ]
  },
  {
   "cell_type": "code",
   "execution_count": 66,
   "metadata": {},
   "outputs": [
    {
     "name": "stdout",
     "output_type": "stream",
     "text": [
      "3\n",
      "9\n"
     ]
    }
   ],
   "source": [
    "# Define a function my_function() with parameter x\n",
    "def my_function(x):\n",
    "    return x + 1\n",
    "\n",
    "# Invoke the function\n",
    "print(my_function(2))     \n",
    "print(my_function(3 + 5)) "
   ]
  },
  {
   "cell_type": "code",
   "execution_count": 67,
   "metadata": {
    "scrolled": false
   },
   "outputs": [
    {
     "name": "stdout",
     "output_type": "stream",
     "text": [
      "code is executed here\n"
     ]
    }
   ],
   "source": [
    "#If you want to define a function for some task you do frequently you can do so as\n",
    "def myfunction():\n",
    "    print('code is executed here')\n",
    "    pass\n",
    "\n",
    "myfunction() #call the function "
   ]
  },
  {
   "cell_type": "markdown",
   "metadata": {},
   "source": [
    "In the above example, you see a `pass` statement, which is useful when you need a placeholder statement in your code to make it syntactically correct, but you do not need to perform any action. `pass` statements are also known as the null operation because they do not perform any action.\n",
    "\n",
    "A Python function will always have a return value. There is no notion of procedure or routine in Python: if you do not explicitly use a return value in a `return` statement, or if you totally omit the `return` statement, Python will implicitly return a default value for you. That default return value will always be `None`. To avoid surprises, it is always best to be explicit: if you have nothing to return from your function, you should use `return None` or `pass` or simply `return`."
   ]
  },
  {
   "cell_type": "code",
   "execution_count": 68,
   "metadata": {},
   "outputs": [
    {
     "name": "stdout",
     "output_type": "stream",
     "text": [
      "12\n",
      "None\n"
     ]
    }
   ],
   "source": [
    "# you can add in arguments which are input when calling the function\n",
    "def add_values(arg1,arg2):\n",
    "    tot = arg1+arg2\n",
    "    print(tot) # careful: printing a value is very different from returning it!\n",
    "    \n",
    "a = add_values(4,8)\n",
    "print(a)"
   ]
  },
  {
   "cell_type": "code",
   "execution_count": 69,
   "metadata": {},
   "outputs": [
    {
     "name": "stdout",
     "output_type": "stream",
     "text": [
      "Yzma is in the secret lab testing a new potion recipe.\n",
      "None\n"
     ]
    }
   ],
   "source": [
    "def write_a_book(character, setting, special_skill):\n",
    "    print(character + \" is in \" + \n",
    "          setting + \" testing \" + \n",
    "          special_skill + \".\")\n",
    "    return\n",
    "\n",
    "book = write_a_book('Yzma','the secret lab','a new potion recipe')\n",
    "print(book)"
   ]
  },
  {
   "cell_type": "code",
   "execution_count": 70,
   "metadata": {},
   "outputs": [
    {
     "name": "stdout",
     "output_type": "stream",
     "text": [
      "I'm ready for school!\n"
     ]
    }
   ],
   "source": [
    "def ready_for_school(backpack, pencil_case):\n",
    "    if (backpack == 'full' and pencil_case == 'full'):\n",
    "        print (\"I'm ready for school!\")\n",
    "    return None\n",
    "\n",
    "ready_for_school('full','full')\n",
    "ready_for_school('forgotten','empty') # with this line we have nothing printed "
   ]
  },
  {
   "cell_type": "markdown",
   "metadata": {},
   "source": [
    "You can also return multiple values from your function:"
   ]
  },
  {
   "cell_type": "code",
   "execution_count": 71,
   "metadata": {},
   "outputs": [
    {
     "name": "stdout",
     "output_type": "stream",
     "text": [
      "12 32\n",
      "(8, 15)\n"
     ]
    }
   ],
   "source": [
    "# you can set one or more values to be returned by the function, to be used in subsequent calculations\n",
    "def myfunction(arg1,arg2):\n",
    "    ret1 = arg1+arg2\n",
    "    ret2 = arg1*arg2\n",
    "    return ret1, ret2\n",
    "    \n",
    "addition, product = myfunction(4,8)\n",
    "print(addition,product)\n",
    "\n",
    "print(myfunction(3,5))"
   ]
  },
  {
   "cell_type": "markdown",
   "metadata": {},
   "source": [
    "Functions can be defined with named arguments which may have default values provided. When function arguments are passed using their names, they are referred to as _keyword arguments_. The use of keyword arguments when calling a function allows the arguments to be passed in any order — not just the order that was used when defining the function. If the function is invoked without a value for a specific argument, the default value will be used."
   ]
  },
  {
   "cell_type": "code",
   "execution_count": 72,
   "metadata": {},
   "outputs": [
    {
     "name": "stdout",
     "output_type": "stream",
     "text": [
      "length = 1, width = 2, depth = 3\n",
      "volume = 6\n",
      "length = 5, width = 4, depth = 2\n",
      "volume = 40\n",
      "length = 2, width = 4, depth = 3\n",
      "volume = 24\n",
      "length = 2, width = 2, depth = 1\n",
      "volume = 4\n",
      "length = 2, width = 1, depth = 1\n",
      "volume = 2\n",
      "length = 1, width = 1, depth = 1\n",
      "volume = 1\n"
     ]
    }
   ],
   "source": [
    "def findvolume(length=1, width=1, depth=1):   # default values stored in the arguments here)\n",
    "    print(\"length = \" + str(length) + \", width = \" + str(width) + \", depth = \" + str(depth))\n",
    "    return length * width * depth\n",
    "\n",
    "print('volume =', findvolume(1, 2, 3))\n",
    "print('volume =', findvolume(depth=2, length=5, width=4))\n",
    "print('volume =', findvolume(2, depth=3, width=4))\n",
    "\n",
    "# some default values for the arguments are already stored,\n",
    "# so you can also call this function without specifying them all:\n",
    "print('volume =', findvolume(2,2))\n",
    "print('volume =', findvolume(2))\n",
    "print('volume =', findvolume())"
   ]
  },
  {
   "cell_type": "markdown",
   "metadata": {},
   "source": [
    "<div id=\"heading--4-1\"/>\n",
    "\n",
    "## 4.1. Recursive functions"
   ]
  },
  {
   "cell_type": "markdown",
   "metadata": {},
   "source": [
    "A **recursive function** accepts an argument and includes a condition to check whether it matches the base case. A recursive function should have a _**base case**_ with a condition that stops the function from recursing indefinitely, and a _**recursive step**_ which calls the recursive function with some input that brings it closer to its base case."
   ]
  },
  {
   "cell_type": "code",
   "execution_count": 73,
   "metadata": {},
   "outputs": [
    {
     "name": "stdout",
     "output_type": "stream",
     "text": [
      "3\n",
      "2\n",
      "1\n",
      "done\n"
     ]
    }
   ],
   "source": [
    "def countdown(value):\n",
    "    if value <= 0:   #base case  \n",
    "        print(\"done\")\n",
    "    else:\n",
    "        print(value)\n",
    "        countdown(value-1)  #recursive case \n",
    "    return\n",
    "\n",
    "countdown(3)"
   ]
  },
  {
   "cell_type": "markdown",
   "metadata": {},
   "source": [
    "<div id=\"heading--4-2\"/>\n",
    "\n",
    "## 4.2. `lambda` functions"
   ]
  },
  {
   "cell_type": "markdown",
   "metadata": {},
   "source": [
    "A **lambda function** is a simple, anonymous function that is defined without a name. Lambda functions are useful when we want to write a quick function in one line that can be combined with other built-in functions. This is the syntax to define lambda functions:\n",
    "\n",
    "`lambda argument(s): expression`\n",
    "\n",
    "Lambda functions can have any number of arguments but only one expression. The expression is evaluated and returned. Lambda functions can be used wherever function objects are required."
   ]
  },
  {
   "cell_type": "code",
   "execution_count": 74,
   "metadata": {},
   "outputs": [
    {
     "data": {
      "text/plain": [
       "16"
      ]
     },
     "execution_count": 74,
     "metadata": {},
     "output_type": "execute_result"
    }
   ],
   "source": [
    "power2 = lambda x: x**2\n",
    "power2(4)"
   ]
  },
  {
   "cell_type": "markdown",
   "metadata": {},
   "source": [
    "This function above has no name. It returns a function object which is assigned to the identifier `power2`.\n",
    "\n",
    "We use lambda functions when we require a nameless function for a short period of time. In Python, we generally use it as an argument to a higher-order function (a function that takes in other functions as arguments). Lambda functions are used along with built-in functions such as `map()`, `filter()`, and `apply()`, ...\n",
    "\n",
    "Let's see an example. The `filter()` function takes in a function and a list as arguments. The function is called with all the items in the list and a new list is returned which contains items for which the function evaluates to `True`. Here is an example use of `filter()` function to filter out only even numbers from a list:"
   ]
  },
  {
   "cell_type": "code",
   "execution_count": 75,
   "metadata": {},
   "outputs": [
    {
     "name": "stdout",
     "output_type": "stream",
     "text": [
      "[4, 6, 8, 12]\n"
     ]
    }
   ],
   "source": [
    "my_list = [1, 5, 4, 6, 8, 11, 3, 12]\n",
    "new_list = list(filter(lambda x: (x%2 == 0) , my_list))\n",
    "print(new_list)"
   ]
  },
  {
   "cell_type": "markdown",
   "metadata": {},
   "source": [
    "--------------------------------------------------------------------------------------------------------------------\n",
    "<div id=\"heading--5\"/>\n",
    "\n",
    "# 5. Data structures"
   ]
  },
  {
   "cell_type": "markdown",
   "metadata": {},
   "source": [
    "<div id=\"heading--5-1\"/>\n",
    "\n",
    "## 5.1. Lists"
   ]
  },
  {
   "cell_type": "markdown",
   "metadata": {},
   "source": [
    "**Lists** are ordered collections of items that allow for easy use of a set of data. List values are placed between square brackets **`[ ]`**, separated by commas. It is good practice to put a space between the comma and the next value. The values in a list do not need to be unique (the same value can be repeated). Empty lists do not contain any values within the square brackets.\n",
    "\n",
    "Lists are a versatile data type that can contain multiple different data types within the same square brackets. The possible data types within a list include numbers, strings, other objects, and even other lists."
   ]
  },
  {
   "cell_type": "code",
   "execution_count": 76,
   "metadata": {},
   "outputs": [],
   "source": [
    "numbers = [1, 2, 3, 4, 10]\n",
    "names = ['Jenny', 'Sam', 'Alexis']\n",
    "mixed = ['Jenny', 1, 2]\n",
    "list_of_lists = [['a', 1], ['b', 2]]"
   ]
  },
  {
   "cell_type": "code",
   "execution_count": 77,
   "metadata": {},
   "outputs": [
    {
     "name": "stdout",
     "output_type": "stream",
     "text": [
      "[2, 3, 5, 7, 11]\n",
      "[]\n"
     ]
    }
   ],
   "source": [
    "primes = [2, 3, 5, 7, 11]\n",
    "print(primes)\n",
    " \n",
    "empty_list = []\n",
    "print(empty_list)"
   ]
  },
  {
   "cell_type": "markdown",
   "metadata": {},
   "source": [
    "<div id=\"heading--5-1-1\"/>\n",
    "\n",
    "## 5.1.1. Indexing"
   ]
  },
  {
   "cell_type": "markdown",
   "metadata": {},
   "source": [
    "A slice, or sub-list of Python list elements can be selected from a list using a colon-separated starting and ending point. The syntax pattern is **`myList[START_NUMBER:END_NUMBER]`**. The slice will include the `START_NUMBER` index, and everything _until but excluding_ the `END_NUMBER` item. When slicing a list, a new list is returned, so if the slice is saved and then altered, the original list remains the same."
   ]
  },
  {
   "cell_type": "code",
   "execution_count": 78,
   "metadata": {},
   "outputs": [
    {
     "name": "stdout",
     "output_type": "stream",
     "text": [
      "['pen', 'hammer', 'lever']\n",
      "['hammer', 'lever']\n",
      "['nail', 'lever']\n",
      "['pen', 'hammer', 'lever']\n"
     ]
    }
   ],
   "source": [
    "tools = ['pen', 'hammer', 'lever']\n",
    "print(tools)\n",
    "tools_slice = tools[1:3] \n",
    "print(tools_slice)\n",
    "tools_slice[0] = 'nail'\n",
    "print(tools_slice)\n",
    " \n",
    "# Original list is unaltered:\n",
    "print(tools)"
   ]
  },
  {
   "cell_type": "markdown",
   "metadata": {},
   "source": [
    "You can also select a single element within a list, as shown below. \n",
    "\n",
    "Notice the difference in the type of object you obtain if you select a single element or a slice:"
   ]
  },
  {
   "cell_type": "code",
   "execution_count": 79,
   "metadata": {},
   "outputs": [
    {
     "name": "stdout",
     "output_type": "stream",
     "text": [
      "3\n",
      "7\n",
      "[2, 3]\n",
      "[0, 1, 2, 3, 4]\n",
      "[5, 6, 7]\n"
     ]
    }
   ],
   "source": [
    "list_of_numbers = [0,1,2,3,4,5,6,7]\n",
    "print(list_of_numbers[3])\n",
    "print(list_of_numbers[-1])\n",
    "\n",
    "print(list_of_numbers[2:4])\n",
    "print(list_of_numbers[:5])\n",
    "print(list_of_numbers[-3:])"
   ]
  },
  {
   "cell_type": "markdown",
   "metadata": {},
   "source": [
    "If you have a list of lists, elements can be accessed in the following way:"
   ]
  },
  {
   "cell_type": "code",
   "execution_count": 80,
   "metadata": {},
   "outputs": [
    {
     "name": "stdout",
     "output_type": "stream",
     "text": [
      "[1, 2, 3]\n",
      "[[1, 2, 3], [4, 5, 6]]\n",
      "1\n",
      "[1, 2]\n"
     ]
    }
   ],
   "source": [
    "listlist = [[1,2,3],[4,5,6],[7,8,9]]\n",
    "print(listlist[0])\n",
    "print(listlist[:2])\n",
    "print(listlist[0][0])\n",
    "print(listlist[0][:2])"
   ]
  },
  {
   "cell_type": "markdown",
   "metadata": {},
   "source": [
    "Take a look at the end of Sect. 5.2 to see how to select elements or slices of a string. At the end of section 6.1.1 you will also find some examples of indexing in arrays."
   ]
  },
  {
   "cell_type": "markdown",
   "metadata": {},
   "source": [
    "<div id=\"heading--5-1-2\"/>\n",
    "\n",
    "## 5.1.2. List manipulation"
   ]
  },
  {
   "cell_type": "markdown",
   "metadata": {},
   "source": [
    "You can add values to the end of a list using the **`.append()`** method. This will place the object passed in as a new element at the very end of the list. Printing the list afterwards will visually show the appended value. This `.append()` method is not to be confused with returning an entirely new list with the passed object."
   ]
  },
  {
   "cell_type": "code",
   "execution_count": 81,
   "metadata": {},
   "outputs": [
    {
     "name": "stdout",
     "output_type": "stream",
     "text": [
      "['daisies', 'periwinkle']\n",
      "['daisies', 'periwinkle', 'tulips']\n"
     ]
    }
   ],
   "source": [
    "orders = ['daisies', 'periwinkle']\n",
    "print(orders)\n",
    "orders.append('tulips')\n",
    "print(orders)"
   ]
  },
  {
   "cell_type": "markdown",
   "metadata": {},
   "source": [
    "The **`.pop()`** method allows us to remove an element from a list while also returning it. It accepts one optional input which is the index of the element to remove. If no index is provided, then the last element in the list will be removed and returned."
   ]
  },
  {
   "cell_type": "code",
   "execution_count": 82,
   "metadata": {},
   "outputs": [
    {
     "name": "stdout",
     "output_type": "stream",
     "text": [
      "['Python', 'Data Structures', 'Balloon Making', 'Algorithms']\n",
      "Clowns 101\n",
      "['Python', 'Data Structures', 'Algorithms']\n",
      "Balloon Making\n"
     ]
    }
   ],
   "source": [
    "topics = [\"Python\", \"Data Structures\", \"Balloon Making\", \"Algorithms\", \"Clowns 101\"]\n",
    " \n",
    "# Pop the last element\n",
    "removed_element = topics.pop()\n",
    " \n",
    "print(topics)\n",
    "print(removed_element)\n",
    " \n",
    "# Pop the element \"Baloon Making\"\n",
    "removed_element2 = topics.pop(2)\n",
    "print(topics)\n",
    "print(removed_element2)\n"
   ]
  },
  {
   "cell_type": "markdown",
   "metadata": {},
   "source": [
    "The **`.remove()`** method is used to remove an element from a list by passing in the value of the element to be removed as an argument. In the case where two or more elements in the list have the same value, the first occurrence of the element is removed."
   ]
  },
  {
   "cell_type": "code",
   "execution_count": 83,
   "metadata": {},
   "outputs": [
    {
     "name": "stdout",
     "output_type": "stream",
     "text": [
      "['Geri', 'Emma', 'Victoria', 'Mel']\n"
     ]
    }
   ],
   "source": [
    "# Create a list\n",
    "shopping_line = [\"Geri\", \"Emma\", \"Mel\", \"Victoria\", \"Mel\"]\n",
    " \n",
    "# Removes the first occurence of \"Mel\"\n",
    "shopping_line.remove(\"Mel\")\n",
    "print(shopping_line)"
   ]
  },
  {
   "cell_type": "markdown",
   "metadata": {},
   "source": [
    "The **`len()`** function can be used to determine the number of items found in the list it accepts as an argument."
   ]
  },
  {
   "cell_type": "code",
   "execution_count": 84,
   "metadata": {},
   "outputs": [
    {
     "name": "stdout",
     "output_type": "stream",
     "text": [
      "5\n"
     ]
    }
   ],
   "source": [
    "knapsack = [2, 4, 3, 7, 10]\n",
    "size = len(knapsack)\n",
    "print(size)"
   ]
  },
  {
   "cell_type": "markdown",
   "metadata": {},
   "source": [
    "<font color='magenta'>**CAREFUL: a statement of the type `list1 = list2` _does not_ create a new and independent variable, but it links to the original one.**</font>\n",
    "\n",
    "Depending on what you want to do with your code, this could be exactly what you want or something that creates enormous problems. Keep it in mind, and proceed in the way that best works for your specific case!"
   ]
  },
  {
   "cell_type": "code",
   "execution_count": 85,
   "metadata": {},
   "outputs": [
    {
     "name": "stdout",
     "output_type": "stream",
     "text": [
      "[1, 2, 3, 4, 10, 1, 2, 3, 4, 10, 1, 2, 3, 4, 10]\n",
      "[1, 2, 3, 4, 10, 1, 2, 3, 4, 10, 1, 2, 3, 4, 10]\n",
      "[1, 2, 3, 4, 10]\n"
     ]
    }
   ],
   "source": [
    "numbers = [1, 2, 3, 4, 10]\n",
    "\n",
    "a = numbers\n",
    "b = numbers*1\n",
    "\n",
    "numbers *= 3\n",
    "\n",
    "print(numbers)\n",
    "print(a)\n",
    "print(b)"
   ]
  },
  {
   "cell_type": "markdown",
   "metadata": {},
   "source": [
    "<div id=\"heading--5-2\"/>\n",
    "\n",
    "## 5.2. Strings"
   ]
  },
  {
   "cell_type": "markdown",
   "metadata": {},
   "source": [
    "A **string** is a sequence of characters (letters, numbers, whitespace or punctuation) enclosed by quotation marks. It can be enclosed using either the double quotation mark `\"` or the single quotation mark `'`. If a string has to be broken into multiple lines, the backslash character `\\` can be used to indicate that the string continues on the next line.\n",
    "\n",
    "Strings can be indexed using the same notation as lists, since _strings are lists of characters_. A single character can be accessed with bracket notation (`[index]`), or a substring can be accessed using slicing (`[start:end]`). \n",
    "Indexing with negative numbers counts from the end of the string."
   ]
  },
  {
   "cell_type": "code",
   "execution_count": 86,
   "metadata": {},
   "outputs": [
    {
     "name": "stdout",
     "output_type": "stream",
     "text": [
      "This string is broken up over multiple lines\n"
     ]
    }
   ],
   "source": [
    "user = \"User Full Name\"\n",
    "game = 'Bang!'\n",
    "longer = \"This string is broken up \\\n",
    "over multiple lines\" # careful: \"\\\" needs to be the last character of the line!\n",
    "print(longer)"
   ]
  },
  {
   "cell_type": "code",
   "execution_count": 87,
   "metadata": {},
   "outputs": [
    {
     "name": "stdout",
     "output_type": "stream",
     "text": [
      "e\n",
      "w\n",
      "ll\n",
      "yello\n",
      "low\n"
     ]
    }
   ],
   "source": [
    "color = 'yellow'\n",
    "print(color[1])\n",
    "print(color[-1])\n",
    "print(color[2:4])\n",
    "print(color[:5])\n",
    "print(color[-3:])"
   ]
  },
  {
   "cell_type": "markdown",
   "metadata": {},
   "source": [
    "--------------------------------------------------------------------------------------------------------------------\n",
    "<div id=\"heading--6\"/>\n",
    "\n",
    "# 6. Some useful packages"
   ]
  },
  {
   "cell_type": "markdown",
   "metadata": {},
   "source": [
    "You can import packages or specific functions in the following ways:\n",
    "* **`import scipy`** imports the package scipy, and you can use all the functions defined in this package by using `scipy.` in front of their name (e.g., `scipy.interpolate.interp1d`)\n",
    "* **`import numpy as np`** allows you to use `np.` instead of having to write `numpy.` every time you want to use a function from this package\n",
    "* **`from scipy.interpolate import interp1d`** will only import this specific function: you will be able to use it by simply typing `interp1d`, but you will **not** have access to all the other `scipy.interpolate` functions!"
   ]
  },
  {
   "cell_type": "markdown",
   "metadata": {},
   "source": [
    "<div id=\"heading--6-1\"/>\n",
    "\n",
    "## 6.1. The `numpy` package"
   ]
  },
  {
   "cell_type": "markdown",
   "metadata": {},
   "source": [
    "This package is particularly useful to carry out scientific calculations with python, and we will use it a lot in this course. \n",
    "\n",
    "You can load it by running the following cell:"
   ]
  },
  {
   "cell_type": "code",
   "execution_count": 88,
   "metadata": {},
   "outputs": [],
   "source": [
    "import numpy as np"
   ]
  },
  {
   "cell_type": "markdown",
   "metadata": {},
   "source": [
    "<div id=\"heading--6-1-1\"/>\n",
    "\n",
    "### 6.1.1. Arrays"
   ]
  },
  {
   "cell_type": "markdown",
   "metadata": {},
   "source": [
    "An array is a vector containing _homogeneous elements_ (i.e., elements having _the same data type_, contrary to what happens in lists, as we saw in Section 5.1 above). Elements are allocated with contiguous memory locations allowing easy modification, that is, addition, deletion, accessing of elements. Python does not have built-in support for arrays, so a different library (like for example `numpy`) needs to be used. \n",
    "\n",
    "Arrays can be defined by using **`np.array`**, and can have more than 1 dimension:"
   ]
  },
  {
   "cell_type": "code",
   "execution_count": 89,
   "metadata": {},
   "outputs": [
    {
     "name": "stdout",
     "output_type": "stream",
     "text": [
      "a =  [ 3.5  0.7 -0.5]\n",
      "\n",
      "This is a 1-dimensional array:\n",
      "[1 2 3 4 5 6]\n",
      "\n",
      "This is an array with 2 dimensions:\n",
      "[[1 2 3]\n",
      " [4 5 6]]\n"
     ]
    }
   ],
   "source": [
    "a = np.array([3.5,0.7,-0.5])\n",
    "print('a = ', a)\n",
    "\n",
    "n = np.array([1,2,3,4,5,6])\n",
    "print('\\nThis is a 1-dimensional array:')\n",
    "print(n)\n",
    "\n",
    "m = np.array([[1,2,3],[4,5,6]])\n",
    "print('\\nThis is an array with 2 dimensions:')\n",
    "print(m)"
   ]
  },
  {
   "cell_type": "markdown",
   "metadata": {},
   "source": [
    "You can generate an array of zeros of some length by using **`np.zeros`**. The argument is the length of the vector:"
   ]
  },
  {
   "cell_type": "code",
   "execution_count": 90,
   "metadata": {},
   "outputs": [
    {
     "name": "stdout",
     "output_type": "stream",
     "text": [
      "z = [0. 0. 0. 0. 0. 0. 0. 0. 0. 0. 0. 0. 0. 0. 0.]\n"
     ]
    }
   ],
   "source": [
    "z = np.zeros(15)\n",
    "print('z =', z)"
   ]
  },
  {
   "cell_type": "markdown",
   "metadata": {},
   "source": [
    "In a similar way, you can also generate an array with all elements equal to `1` by using **`np.ones`**. The argument is, again, the length of the vector:"
   ]
  },
  {
   "cell_type": "code",
   "execution_count": 91,
   "metadata": {},
   "outputs": [
    {
     "name": "stdout",
     "output_type": "stream",
     "text": [
      "o = [1. 1. 1. 1. 1. 1. 1. 1. 1. 1. 1. 1. 1. 1. 1.]\n"
     ]
    }
   ],
   "source": [
    "o = np.ones(15)\n",
    "print('o =', o)"
   ]
  },
  {
   "cell_type": "markdown",
   "metadata": {},
   "source": [
    "You can use these functions to generate an array filled with elements with the same value of your choice:"
   ]
  },
  {
   "cell_type": "code",
   "execution_count": 92,
   "metadata": {},
   "outputs": [
    {
     "name": "stdout",
     "output_type": "stream",
     "text": [
      "c1 = [3.5 3.5 3.5 3.5 3.5 3.5 3.5 3.5 3.5 3.5 3.5 3.5 3.5 3.5 3.5]\n",
      "c2 = [2.5 2.5 2.5 2.5 2.5 2.5 2.5 2.5 2.5 2.5 2.5 2.5 2.5 2.5 2.5]\n"
     ]
    }
   ],
   "source": [
    "c1 = np.zeros(15)+3.5\n",
    "c2 = np.ones(15)*2.5\n",
    "print('c1 =',c1)\n",
    "print('c2 =',c2)"
   ]
  },
  {
   "cell_type": "markdown",
   "metadata": {},
   "source": [
    "You can also generate an array of zeros or ones with the same shape of another array, by using **`np.zeros_like`** and **`np.ones_like`**:"
   ]
  },
  {
   "cell_type": "code",
   "execution_count": 93,
   "metadata": {},
   "outputs": [
    {
     "name": "stdout",
     "output_type": "stream",
     "text": [
      "a1 = [0. 0. 0. 0.]\n",
      "a2 = [[5. 5.]\n",
      " [5. 5.]]\n",
      "\n",
      "b1 = [1. 1. 1. 1.]\n",
      "b2 = [[6. 6.]\n",
      " [6. 6.]]\n"
     ]
    }
   ],
   "source": [
    "d1 = np.array([1.,500.,3.,4.])\n",
    "d2 = np.array([[1,2],[3,4]])\n",
    "\n",
    "a1 = np.zeros_like(d1)\n",
    "a2 = np.zeros_like(d2) + 5.\n",
    "print('a1 =', a1)\n",
    "print('a2 =', a2)\n",
    "print()\n",
    "\n",
    "b1 = np.ones_like(d1)\n",
    "b2 = np.ones_like(d2) + 5.\n",
    "print('b1 =', b1)\n",
    "print('b2 =', b2)"
   ]
  },
  {
   "cell_type": "markdown",
   "metadata": {},
   "source": [
    "With the function **`np.arange`** you can generate an array with sequential numbers, by passing three arguments representing the start value, stop value and stepsize:"
   ]
  },
  {
   "cell_type": "code",
   "execution_count": 94,
   "metadata": {},
   "outputs": [
    {
     "name": "stdout",
     "output_type": "stream",
     "text": [
      "a =  [0.  0.5 1.  1.5 2. ]\n"
     ]
    }
   ],
   "source": [
    "a = np.arange(0,2.5,0.5)\n",
    "print('a = ',a)"
   ]
  },
  {
   "cell_type": "markdown",
   "metadata": {},
   "source": [
    "With the function **`np.linspace`** you can generate an array with sequential numbers that are equally spaced. You have to use three values as arguments, representing the start value, stop value, and number of elements:"
   ]
  },
  {
   "cell_type": "code",
   "execution_count": 95,
   "metadata": {},
   "outputs": [
    {
     "name": "stdout",
     "output_type": "stream",
     "text": [
      "[0.         0.11111111 0.22222222 0.33333333 0.44444444 0.55555556\n",
      " 0.66666667 0.77777778 0.88888889 1.        ]\n",
      "[0.  0.1 0.2 0.3 0.4 0.5 0.6 0.7 0.8 0.9 1. ]\n"
     ]
    }
   ],
   "source": [
    "bb = np.linspace(0,1,10)    \n",
    "print(bb)\n",
    "\n",
    "b = np.linspace(0,1,11)\n",
    "print(b)"
   ]
  },
  {
   "cell_type": "markdown",
   "metadata": {},
   "source": [
    "Arrays can be concatenated into a longer array with **`np.concatenate`**:"
   ]
  },
  {
   "cell_type": "code",
   "execution_count": 96,
   "metadata": {},
   "outputs": [
    {
     "name": "stdout",
     "output_type": "stream",
     "text": [
      "\"c\" = \"a\" concatenated with \"b\"\n",
      "c =  [0.  0.5 1.  1.5 2.  0.  0.1 0.2 0.3 0.4 0.5 0.6 0.7 0.8 0.9 1. ]\n"
     ]
    }
   ],
   "source": [
    "a = np.arange(0,2.5,0.5)\n",
    "b = np.linspace(0,1,11)\n",
    "\n",
    "c = np.concatenate((a,b))\n",
    "print('\"c\" = \"a\" concatenated with \"b\"')\n",
    "print('c = ', c)"
   ]
  },
  {
   "cell_type": "markdown",
   "metadata": {},
   "source": [
    "All usual operators work element-wise on arrays:"
   ]
  },
  {
   "cell_type": "code",
   "execution_count": 97,
   "metadata": {},
   "outputs": [
    {
     "name": "stdout",
     "output_type": "stream",
     "text": [
      "b*4   = [ 0.  4.  8. 12. 16.]\n",
      "b+b^3 = [ 0.  2. 10. 30. 68.]\n"
     ]
    }
   ],
   "source": [
    "b = np.linspace(0,4,5)\n",
    "print('b*4   =' , b*4)\n",
    "print('b+b^3 =', b + b**3)"
   ]
  },
  {
   "cell_type": "markdown",
   "metadata": {},
   "source": [
    "The function **`np.shape`** allows you to check the shape of your arrays, and the function **`np.reshape`** allows you to rearrange the elements of your array in a different format:"
   ]
  },
  {
   "cell_type": "code",
   "execution_count": 98,
   "metadata": {},
   "outputs": [
    {
     "name": "stdout",
     "output_type": "stream",
     "text": [
      "Shape of m = (2, 3)\n",
      "Shape of n = (6,)\n"
     ]
    }
   ],
   "source": [
    "n = np.array([1,2,3,4,5,6])\n",
    "m = np.array([[7,8,9],[10,11,12]])\n",
    "\n",
    "print('Shape of m =', np.shape(m))\n",
    "print('Shape of n =', np.shape(n))"
   ]
  },
  {
   "cell_type": "code",
   "execution_count": 99,
   "metadata": {},
   "outputs": [
    {
     "name": "stdout",
     "output_type": "stream",
     "text": [
      "[ 7  8  9 10 11 12]\n",
      "[[1 2]\n",
      " [3 4]\n",
      " [5 6]]\n",
      "New shape of m = (6,)\n",
      "New shape of n = (3, 2)\n"
     ]
    }
   ],
   "source": [
    "m = np.reshape(m,-1)\n",
    "n = np.reshape(n,(3,2))\n",
    "print(m)\n",
    "print(n)\n",
    "print('New shape of m =', np.shape(m))\n",
    "print('New shape of n =', np.shape(n))"
   ]
  },
  {
   "cell_type": "markdown",
   "metadata": {},
   "source": [
    "You can also select a specific element within an array, by using its index. *Note that the first element has index `0`* (this is different from what happens in other programming languages!), and the last element can always be easily identified with index `-1`:"
   ]
  },
  {
   "cell_type": "code",
   "execution_count": 100,
   "metadata": {},
   "outputs": [
    {
     "name": "stdout",
     "output_type": "stream",
     "text": [
      "This is the first element in the array:  a[0] = 3\n",
      "This is the last element in the array:  a[-1] = 23\n",
      "This is the fourth element:              a[3] = 6\n"
     ]
    }
   ],
   "source": [
    "a = np.array([3,4,5,6,7,8,11,13,17,23])\n",
    "print('This is the first element in the array:  a[0] =', a[0])\n",
    "print('This is the last element in the array:  a[-1] =', a[-1]) \n",
    "print('This is the fourth element:              a[3] =', a[3])"
   ]
  },
  {
   "cell_type": "markdown",
   "metadata": {},
   "source": [
    "You can also select a subset of an array, by using a colon-separated starting and ending point (as is done for lists, see Section 5.1 above). The syntax pattern is **`myArray[START_NUMBER:END_NUMBER]`**. This subset will include the `START_NUMBER` index, and everything _until but excluding_ the `END_NUMBER` item:"
   ]
  },
  {
   "cell_type": "code",
   "execution_count": 101,
   "metadata": {},
   "outputs": [
    {
     "name": "stdout",
     "output_type": "stream",
     "text": [
      "[ 6  7  8 11]\n",
      "[ 3  4  5  6  7  8 11]\n",
      "[ 6  7  8 11 13 17 23]\n",
      "[ 4  6  8 13]\n"
     ]
    }
   ],
   "source": [
    "print(a[3:7])\n",
    "print(a[:7])    # if no START_NUMBER is given, it starts from the beginning of the array\n",
    "print(a[3:])    # if no END_NUMBER is given, it finishes at the end of the array\n",
    "print(a[1:9:2]) # an optional third number after : indicates the step"
   ]
  },
  {
   "cell_type": "markdown",
   "metadata": {},
   "source": [
    "For arrays with more dimensions, you need to provide an index for each dimension:"
   ]
  },
  {
   "cell_type": "code",
   "execution_count": 102,
   "metadata": {},
   "outputs": [
    {
     "name": "stdout",
     "output_type": "stream",
     "text": [
      "1\n",
      "6\n",
      "3\n"
     ]
    }
   ],
   "source": [
    "m = np.array([[1,2,3],[4,5,6]])\n",
    "print(m[0,0])\n",
    "print(m[-1,-1])\n",
    "print(m[0,2])"
   ]
  },
  {
   "cell_type": "markdown",
   "metadata": {},
   "source": [
    "<div id=\"heading--6-1-2\"/>\n",
    "\n",
    "### 6.1.2. Useful functions on arrays"
   ]
  },
  {
   "cell_type": "markdown",
   "metadata": {},
   "source": [
    "#### Value classifications and operations on array"
   ]
  },
  {
   "cell_type": "markdown",
   "metadata": {},
   "source": [
    "Within an array or single element data type we can use `numpy` to assess some simple statistics, for example to find the minimum or maximum value, or the mean, median, and standard deviation:"
   ]
  },
  {
   "cell_type": "code",
   "execution_count": 103,
   "metadata": {
    "scrolled": true
   },
   "outputs": [
    {
     "name": "stdout",
     "output_type": "stream",
     "text": [
      "Minimum value in the array = -17.0\n",
      "Maximum value in the array = 900.0\n",
      "Mean of a = 178.5\n",
      "Median of a = 4.5\n",
      "Standard deviation of a = 360.846504763452\n"
     ]
    }
   ],
   "source": [
    "a = np.array([-2,7.,900.,4.5,-17])\n",
    "\n",
    "print('Minimum value in the array =', np.min(a))\n",
    "print('Maximum value in the array =', np.max(a))\n",
    "print('Mean of a =', np.mean(a))\n",
    "print('Median of a =', np.median(a))\n",
    "print('Standard deviation of a =', np.std(a))"
   ]
  },
  {
   "cell_type": "markdown",
   "metadata": {},
   "source": [
    "The function **`len`** returns the length of an array (i.e., the number of its elements). With **`np.abs`** we can take the absolute value of all the elements in the array. With **`sum`** or **`np.sum`** we compute the sum of all the elements in the array, and with **`np.cumsum`** we can obtain the cumulative sum (provided as an array with the same dimension as the original one)."
   ]
  },
  {
   "cell_type": "code",
   "execution_count": 104,
   "metadata": {},
   "outputs": [
    {
     "name": "stdout",
     "output_type": "stream",
     "text": [
      "Length of the array = 5\n",
      "Absolute value of all elements in the array = [  2.    7.  900.    4.5  17. ]\n",
      "Sum of all the elements in the array = 892.5 -- 892.5\n",
      "Cumulative sum of elements in array = [ -2.    5.  905.  909.5 892.5]\n"
     ]
    }
   ],
   "source": [
    "print('Length of the array =', len(a))\n",
    "print('Absolute value of all elements in the array =', np.abs(a))\n",
    "print('Sum of all the elements in the array =', np.sum(a), '--', sum(a))\n",
    "print('Cumulative sum of elements in array =', np.cumsum(a))"
   ]
  },
  {
   "cell_type": "markdown",
   "metadata": {},
   "source": [
    "#### Select part of an array"
   ]
  },
  {
   "cell_type": "markdown",
   "metadata": {},
   "source": [
    "The function **`np.where`** finds the list of indices within an array in which a certain condition is satisfied. It is a particularly useful function, because it allows you to select elements meeting some condition from an array."
   ]
  },
  {
   "cell_type": "code",
   "execution_count": 105,
   "metadata": {},
   "outputs": [
    {
     "name": "stdout",
     "output_type": "stream",
     "text": [
      "[-4 -3 -2 -1  0  1  2  3  4]\n",
      "(array([0, 1, 2, 3, 4, 5, 6]),)\n"
     ]
    }
   ],
   "source": [
    "a = np.arange(-4,5)\n",
    "print(a)\n",
    "ID = np.where(a <= 2.)\n",
    "print(ID)"
   ]
  },
  {
   "cell_type": "code",
   "execution_count": 106,
   "metadata": {},
   "outputs": [
    {
     "name": "stdout",
     "output_type": "stream",
     "text": [
      "[-4 -3 -2 -1  0  1  2]\n"
     ]
    }
   ],
   "source": [
    "print(a[ID])"
   ]
  },
  {
   "cell_type": "markdown",
   "metadata": {},
   "source": [
    "#### Sorting an array"
   ]
  },
  {
   "cell_type": "markdown",
   "metadata": {},
   "source": [
    "The **`np.sort`** function will rank order an array:"
   ]
  },
  {
   "cell_type": "code",
   "execution_count": 107,
   "metadata": {},
   "outputs": [
    {
     "name": "stdout",
     "output_type": "stream",
     "text": [
      "[ 11.  -7. 100. -42.]\n",
      "[-42.  -7.  11. 100.]\n"
     ]
    }
   ],
   "source": [
    "b = np.array([11,-7.,100,-42.])\n",
    "b_sorted = np.sort(b)\n",
    "print(b)\n",
    "print(b_sorted)"
   ]
  },
  {
   "cell_type": "markdown",
   "metadata": {},
   "source": [
    "The function **`np.argsort`** determines a list of indices such that the elements of an array taken in that order are correctly sorted. This is useful if you need to sort another array so that its element remain connected to the corresponding ones in the first array:"
   ]
  },
  {
   "cell_type": "code",
   "execution_count": 108,
   "metadata": {},
   "outputs": [
    {
     "name": "stdout",
     "output_type": "stream",
     "text": [
      "[ 3 12 61  7 54 77  4 36 26 50]\n",
      "[55 35 44 39 80 56 66 90 83 65]\n",
      "\n",
      "[0 6 3 1 8 7 9 4 2 5]\n",
      "\n",
      "[ 3  4  7 12 26 36 50 54 61 77]\n",
      "[55 66 39 35 83 90 65 80 44 56]\n"
     ]
    }
   ],
   "source": [
    "x = np.random.randint(1,100,size=10)\n",
    "y = np.random.randint(1,100,size=10)\n",
    "print(x)\n",
    "print(y)\n",
    "\n",
    "print()\n",
    "IDsorted = np.argsort(x)\n",
    "print(IDsorted)\n",
    "\n",
    "print()\n",
    "print(x[IDsorted])\n",
    "print(y[IDsorted])"
   ]
  },
  {
   "cell_type": "markdown",
   "metadata": {},
   "source": [
    "The **`np.digitize`** function will identify the index in an array where a value is closest to an array element. Make sure that you do not exceed the span of the array you are inspecting with the array you want to find. Also, keep in mind that `np.digitize` returns _the indices of the bins to which each value in input array belongs_."
   ]
  },
  {
   "cell_type": "code",
   "execution_count": 109,
   "metadata": {
    "scrolled": true
   },
   "outputs": [
    {
     "name": "stdout",
     "output_type": "stream",
     "text": [
      "[ 0  1  2  3  4  5  6  7  8  9 10 11 12 13 14 15 16 17 18 19]\n",
      "[ 4  7 11]\n",
      "[ 5  8 12]\n"
     ]
    }
   ],
   "source": [
    "a = np.arange(0,20,1)\n",
    "b = np.array([4, 7, 11])\n",
    "\n",
    "print(a)\n",
    "print(b)\n",
    "\n",
    "print(np.digitize(b,a))  # finds indices in a which every value of b is closest to"
   ]
  },
  {
   "cell_type": "markdown",
   "metadata": {},
   "source": [
    "<div id=\"heading--6-1-3\"/>\n",
    "\n",
    "### 6.1.3. Random number generation"
   ]
  },
  {
   "cell_type": "markdown",
   "metadata": {},
   "source": [
    "The function **`np.random.rand`** generates uniform random numbers in the interval `[0,1)`. To scale it to some other range, multiply by the range you want it to span and shift it accordingly:"
   ]
  },
  {
   "cell_type": "code",
   "execution_count": 110,
   "metadata": {},
   "outputs": [],
   "source": [
    "# 1000 numbers uniformly distributed between 3.75 and 4.25\n",
    "uniform = np.random.rand(1000)*0.5 + 3.75"
   ]
  },
  {
   "cell_type": "markdown",
   "metadata": {},
   "source": [
    "The function **`np.random.randn`** generates Gaussian random deviates with mean `0` and sigma = `1`. Add and multiply to change the mean and sigma, respectively:"
   ]
  },
  {
   "cell_type": "code",
   "execution_count": 111,
   "metadata": {},
   "outputs": [],
   "source": [
    "# 100 random deviates with mean of 4, sigma of 0.1\n",
    "gaussian = np.random.randn(1000)*0.1 + 4"
   ]
  },
  {
   "cell_type": "markdown",
   "metadata": {},
   "source": [
    "You can also generate `N` random integers in a specific range, by using **`np.random.randint`**:"
   ]
  },
  {
   "cell_type": "code",
   "execution_count": 112,
   "metadata": {},
   "outputs": [
    {
     "name": "stdout",
     "output_type": "stream",
     "text": [
      "[35 35 19 35  5 22 27 16  2 30]\n"
     ]
    }
   ],
   "source": [
    "N = 10\n",
    "x = np.random.randint(1,36,size=10)\n",
    "print(x)"
   ]
  },
  {
   "cell_type": "markdown",
   "metadata": {},
   "source": [
    "The function **`np.shuffle`** mixes up the elements in an array. This shuffle _overwrites your original array_, and it is random, so if you run the following cell multiple times you will see that the shuffled array keeps changing:"
   ]
  },
  {
   "cell_type": "code",
   "execution_count": 113,
   "metadata": {},
   "outputs": [
    {
     "name": "stdout",
     "output_type": "stream",
     "text": [
      "[ 0  1  2  3  4  5  6  7  8  9 10 11 12 13 14 15 16 17 18 19]\n",
      "[18 19 16 12 17  5 13  1  7 11  2 14  8 10  0  3  6  9 15  4]\n"
     ]
    }
   ],
   "source": [
    "a = np.arange(0,20,1)\n",
    "print(a)\n",
    "\n",
    "np.random.shuffle(a)\n",
    "print(a)"
   ]
  },
  {
   "cell_type": "markdown",
   "metadata": {},
   "source": [
    "<div id=\"heading--6-1-4\"/>\n",
    "\n",
    "### 6.1.4. String manipulation with `numpy.char`"
   ]
  },
  {
   "cell_type": "markdown",
   "metadata": {},
   "source": [
    "The **`numpy.char`** module provides a set of vectorized string operations for arrays of strings. All of them are based on the string methods in the Python standard library. [Here](https://numpy.org/doc/stable/reference/routines.char.html#module-numpy.char) you can find a list of all the available functions in this module. Let's see some examples here!"
   ]
  },
  {
   "cell_type": "code",
   "execution_count": 114,
   "metadata": {},
   "outputs": [
    {
     "name": "stdout",
     "output_type": "stream",
     "text": [
      "Element-wise string concatenation for the two arrays: ['aad' 'bbe' 'ccf']\n",
      "Return a copy of your list with the first character of each element capitalized: ['Aa' 'Bb' 'Cc']\n"
     ]
    }
   ],
   "source": [
    "aa = np.array(['aa','bb','cc'])\n",
    "bb = np.array(['d','e','f'])\n",
    "print('Element-wise string concatenation for the two arrays:', np.char.add(aa,bb))\n",
    "print('Return a copy of your list with the first character of each element capitalized:', np.char.capitalize(aa))"
   ]
  },
  {
   "cell_type": "code",
   "execution_count": 115,
   "metadata": {},
   "outputs": [
    {
     "name": "stdout",
     "output_type": "stream",
     "text": [
      "\n",
      "For each element in the array, return a list of the words in the string, using the specified string as a delimiter: \n",
      " [list(['This', 'is', 'a', 'sentence.'])\n",
      " list(['This', 'is', 'another', 'sentence'])\n",
      " list(['Oh,', 'and', 'look', 'at', 'this:', 'another', 'sentence!'])]\n"
     ]
    }
   ],
   "source": [
    "sentences = np.array(['This is a sentence.', 'This is another sentence','Oh, and look at this: another sentence!'])\n",
    "print('\\nFor each element in the array, return a list of the words \\\n",
    "in the string, using the specified string as a delimiter: \\n', np.char.split(sentences,' '))"
   ]
  },
  {
   "cell_type": "markdown",
   "metadata": {},
   "source": [
    "<div id=\"heading--6-2\"/>\n",
    "\n",
    "## 6.2. The `matplotlib` package"
   ]
  },
  {
   "cell_type": "markdown",
   "metadata": {},
   "source": [
    "This package is useful to plot quantities in python. \n",
    "\n",
    "You can load it by running the following cell:"
   ]
  },
  {
   "cell_type": "code",
   "execution_count": 116,
   "metadata": {},
   "outputs": [],
   "source": [
    "import matplotlib.pyplot as plt"
   ]
  },
  {
   "cell_type": "markdown",
   "metadata": {},
   "source": [
    "The syntax to plot something is the following:\n",
    "\n",
    "``` plt.plot(<quantity on x axis>, <quantity on y axis>, options)```\n",
    "\n",
    "where some options are:\n",
    "* the type of line or marker that you want to use. With `'-'` you will obtain a solid line, with `'--'` a dashed line, and with `':'` a dotted one. You can also specify the type of marker to be used, if you want to plot single points instead of a continuous line: take a look at what happens when you use `'o'`, `'s'`, `'^'`, `'v'`, `'p'`, `'8'`, for example (there are many other styles for markers). If you specify both a type for a line and a type for a point (for example: `'-o'`, you will get points connected by lines\n",
    "* the color of the line/marker, to be specified with a string following the keyword `c` (some valid color names are: `'k'`, `'r'`, `'b'`, `'g'`, `'y'`); if you are using markers, you can also specify a color for the contour of each point, by using `'mec'` (= marker edge color)\n",
    "* the width of the line, specified as an integer following the keyword `lw` (= line width)\n",
    "* the size of the markers, specified as an integer following the keyword `ms` (= marker size)\n",
    "\n",
    "<font color='magenta'>**CAREFUL**: some options might need to go in a specific place with respect to others, otherwise you will get an error.</font>"
   ]
  },
  {
   "cell_type": "markdown",
   "metadata": {},
   "source": [
    "You can also make figures with multiple panels, like the following one:"
   ]
  },
  {
   "cell_type": "code",
   "execution_count": 117,
   "metadata": {},
   "outputs": [
    {
     "data": {
      "text/plain": [
       "[<matplotlib.lines.Line2D at 0x7f2cfd166860>]"
      ]
     },
     "execution_count": 117,
     "metadata": {},
     "output_type": "execute_result"
    },
    {
     "data": {
      "image/png": "[encoded data removed]",
      "text/plain": [
       "<Figure size 1080x432 with 2 Axes>"
      ]
     },
     "metadata": {
      "needs_background": "light"
     },
     "output_type": "display_data"
    }
   ],
   "source": [
    "x = np.arange(0,10,0.25)\n",
    "y = x**2 + 1\n",
    "\n",
    "plt.figure(figsize=(15,6))\n",
    "\n",
    "plt.subplot(121) # here we specify which panel we are creating (row-column-number)\n",
    "plt.plot(x,y,'-',c='r',lw=3)\n",
    "plt.plot(10-x,y,'--',c='b',lw=3)\n",
    "\n",
    "plt.subplot(122)\n",
    "plt.xlim(-0.2,5.1)   # this allows you to specify the range to show on the x axis\n",
    "plt.ylim(-0.2,27)    # this allows you to specify the range to show on the y axis\n",
    "plt.plot(x,y,'p',c='y',mec='k',ms=15)\n",
    "plt.plot(x,26-y,'s',c='c',mec='k',ms=10)"
   ]
  },
  {
   "cell_type": "code",
   "execution_count": 118,
   "metadata": {},
   "outputs": [
    {
     "data": {
      "text/plain": [
       "[<matplotlib.lines.Line2D at 0x7f2cfceaa1d0>]"
      ]
     },
     "execution_count": 118,
     "metadata": {},
     "output_type": "execute_result"
    },
    {
     "data": {
      "image/png": "[encoded data removed]",
      "text/plain": [
       "<Figure size 576x360 with 1 Axes>"
      ]
     },
     "metadata": {
      "needs_background": "light"
     },
     "output_type": "display_data"
    }
   ],
   "source": [
    "plt.figure(figsize=(8,5))               # creates figure and specifies its size\n",
    "plt.xticks(fontsize=16)                  # sets font size for numbers on x axis\n",
    "plt.yticks(fontsize=16)                  # sets font size for numbers on y axis\n",
    "plt.xlabel('x',fontsize=24)              # sets label for x axis\n",
    "plt.ylabel(r'$y = x^2 + 1$',fontsize=24) # sets label for y axis, using latex format (note the r before the string!)\n",
    "plt.plot(x,y,'-',c='r',lw=3)\n",
    "plt.plot(10-x,y,'--',c='b',lw=3)"
   ]
  },
  {
   "cell_type": "markdown",
   "metadata": {},
   "source": [
    "You can also make histograms, which are particularly useful to inspect the distribution of some points:"
   ]
  },
  {
   "cell_type": "code",
   "execution_count": 119,
   "metadata": {},
   "outputs": [
    {
     "data": {
      "image/png": "[encoded data removed]",
      "text/plain": [
       "<Figure size 504x288 with 1 Axes>"
      ]
     },
     "metadata": {
      "needs_background": "light"
     },
     "output_type": "display_data"
    }
   ],
   "source": [
    "plt.figure(figsize=(7,4))\n",
    "a = np.random.rand(1000)*0.5 + 3.75\n",
    "b = np.random.randn(1000)*0.1 + 4\n",
    "plt.xlabel('$x$',fontsize=20)\n",
    "plt.hist(gaussian,fc='b',alpha=0.5,label='gaussian')  #option fc = facecolor\n",
    "plt.hist(uniform,fc='r',alpha=0.5,label='uniform')\n",
    "plt.legend(loc='best',fontsize=15)\n",
    "plt.tight_layout()"
   ]
  },
  {
   "cell_type": "markdown",
   "metadata": {},
   "source": [
    "The keyword `alpha` specifies how transparent the object will be (`0` = completely transparent, `1` = solid). With `label` you can specify a label for each object you plot, then with `plt.legend` you plot the legend (`loc` can be used to specify the corner in which you want the legend to be placed)."
   ]
  },
  {
   "cell_type": "markdown",
   "metadata": {},
   "source": [
    "<div id=\"heading--6-3\"/>\n",
    "\n",
    "## 6.3. The `scipy` package"
   ]
  },
  {
   "cell_type": "markdown",
   "metadata": {},
   "source": [
    "This package contains a collection of mathematical algorithms and functions that are especially useful for manipulating and visualizing data. We will see several examples of useful functions within `scipy` later on in the course, some offering built-in versions of some of the algorithms that we will discuss in the second part of the course (for example to interpolate data points, to integrate functions, to solve ODEs). \n",
    "\n",
    "Here we want to point out some useful functions in the **`scipy.stats`** package, which correspond to the implementation of some of the concepts you covered in the first 4 lectures of this course."
   ]
  },
  {
   "cell_type": "markdown",
   "metadata": {},
   "source": [
    "<div id=\"heading--6-3-1\"/>\n",
    "\n",
    "### 6.3.1. `scipy.stats.norm`"
   ]
  },
  {
   "cell_type": "code",
   "execution_count": 120,
   "metadata": {},
   "outputs": [
    {
     "name": "stdout",
     "output_type": "stream",
     "text": [
      "Mean =  0.0 \n",
      "Variance =  1.0\n",
      "-1.6448536269514729 1.6448536269514722\n"
     ]
    }
   ],
   "source": [
    "from scipy.stats import norm\n",
    "import numpy as np\n",
    "import matplotlib.pyplot as plt\n",
    "mean, var, skew, kurt = norm.stats(moments='mvsk')\n",
    "print('Mean = ', mean, '\\nVariance = ', var)\n",
    "print(norm.ppf(0.05), norm.ppf(0.95))  # ppf = percent point function (inverse of cdf — percentiles)."
   ]
  },
  {
   "cell_type": "code",
   "execution_count": 121,
   "metadata": {},
   "outputs": [
    {
     "name": "stdout",
     "output_type": "stream",
     "text": [
      "1-sigma confidence interval:  68.3 %\n",
      "2-sigma confidence interval:  95.4 %\n",
      "3-sigma confidence interval:  99.7 %\n"
     ]
    }
   ],
   "source": [
    "# See Lecture 2 slide 32 (same as Lecture 3 slide 5)\n",
    "print('1-sigma confidence interval: %5.1f %%' % ((norm.cdf(var) - norm.cdf(-var))*100))\n",
    "print('2-sigma confidence interval: %5.1f %%' % ((norm.cdf(2*var) - norm.cdf(-2*var))*100))\n",
    "print('3-sigma confidence interval: %5.1f %%' % ((norm.cdf(3*var) - norm.cdf(-3*var))*100))"
   ]
  },
  {
   "cell_type": "code",
   "execution_count": 122,
   "metadata": {},
   "outputs": [
    {
     "data": {
      "text/plain": [
       "<matplotlib.legend.Legend at 0x7f2d09d8f460>"
      ]
     },
     "execution_count": 122,
     "metadata": {},
     "output_type": "execute_result"
    },
    {
     "data": {
      "image/png": "[encoded data removed]",
      "text/plain": [
       "<Figure size 936x360 with 2 Axes>"
      ]
     },
     "metadata": {
      "needs_background": "light"
     },
     "output_type": "display_data"
    }
   ],
   "source": [
    "plt.figure(figsize=(13,5))\n",
    "plt.subplot(121)\n",
    "x = np.linspace(norm.ppf(0.01), norm.ppf(0.99), 100)\n",
    "plt.xlabel('$x$',fontsize=20)\n",
    "plt.plot(x, norm.pdf(x), 'r-', lw=5, alpha=0.6, label='norm pdf')\n",
    "plt.legend(loc='best', frameon=False,fontsize=15)\n",
    "plt.subplot(122)\n",
    "plt.xlabel('$x$',fontsize=20)\n",
    "plt.plot(x, norm.cdf(x), 'r-', lw=5, alpha=0.6, label='cumulative df norm')\n",
    "plt.legend(loc='best', frameon=False,fontsize=15)"
   ]
  },
  {
   "cell_type": "markdown",
   "metadata": {},
   "source": [
    "<div id=\"heading--6-3-2\"/>\n",
    "\n",
    "### 6.3.2. `scipy.stats.chi2`"
   ]
  },
  {
   "cell_type": "code",
   "execution_count": 123,
   "metadata": {},
   "outputs": [
    {
     "name": "stdout",
     "output_type": "stream",
     "text": [
      "147.0 294.0\n"
     ]
    }
   ],
   "source": [
    "from scipy.stats import chi2\n",
    "df = 147  # see Lecture 3\n",
    "mean, var, skew, kurt = chi2.stats(df, moments='mvsk')\n",
    "print(mean, var)"
   ]
  },
  {
   "cell_type": "markdown",
   "metadata": {},
   "source": [
    "The function `ppf` (percent point function) is particularly useful because it allows us to find the values of X corresponding to a certain percent (percentiles). It is the inverse of `cdf` (cumulative distribution function)."
   ]
  },
  {
   "cell_type": "code",
   "execution_count": 124,
   "metadata": {},
   "outputs": [
    {
     "name": "stdout",
     "output_type": "stream",
     "text": [
      "P(X<X_0) = 0.025 --> X_0 = 115.33\n",
      "P(X>X_0) = 0.025 --> X_0 = 182.46\n",
      "P(T_0 < 123.52) = 0.079\n"
     ]
    }
   ],
   "source": [
    "# See Lecture 3, slides 16-18\n",
    "print('P(X<X_0) = 0.025 --> X_0 = %5.2f' % chi2.ppf(0.025, df))\n",
    "print('P(X>X_0) = 0.025 --> X_0 = %5.2f' % chi2.ppf(0.975, df))\n",
    "print('P(T_0 < 123.52) = %5.3f' % chi2.cdf(123.52,df))"
   ]
  },
  {
   "cell_type": "code",
   "execution_count": 125,
   "metadata": {
    "scrolled": false
   },
   "outputs": [
    {
     "data": {
      "text/plain": [
       "<matplotlib.legend.Legend at 0x7f2cad8d52a0>"
      ]
     },
     "execution_count": 125,
     "metadata": {},
     "output_type": "execute_result"
    },
    {
     "data": {
      "image/png": "[encoded data removed]",
      "text/plain": [
       "<Figure size 936x360 with 2 Axes>"
      ]
     },
     "metadata": {
      "needs_background": "light"
     },
     "output_type": "display_data"
    }
   ],
   "source": [
    "plt.figure(figsize=(13,5))\n",
    "plt.subplot(121)\n",
    "x = np.linspace(chi2.ppf(0.01, df),chi2.ppf(0.99, df), 100)\n",
    "plt.xlabel('$x$',fontsize=20)\n",
    "plt.plot(x, chi2.pdf(x, df), 'b-', lw=5, alpha=0.6, label='chi2 pdf')\n",
    "plt.legend(loc='best', frameon=False,fontsize=15)\n",
    "plt.subplot(122)\n",
    "plt.xlabel('$x$',fontsize=20)\n",
    "plt.plot(x, chi2.cdf(x,df), 'b-', lw=5, alpha=0.6, label='cumulative df chi2')\n",
    "plt.legend(loc='best', frameon=False,fontsize=15)"
   ]
  },
  {
   "cell_type": "markdown",
   "metadata": {},
   "source": [
    "<div id=\"heading--6-3-3\"/>\n",
    "\n",
    "### 6.3.3. `scipy.stats.kstwo`"
   ]
  },
  {
   "cell_type": "code",
   "execution_count": 126,
   "metadata": {},
   "outputs": [
    {
     "name": "stdout",
     "output_type": "stream",
     "text": [
      "0.21381960259308094 0.004338430474988719\n"
     ]
    }
   ],
   "source": [
    "from scipy.stats import kstwo\n",
    "import matplotlib.pyplot as plt\n",
    "n = 15\n",
    "mean, var, skew, kurt = kstwo.stats(n, moments='mvsk')\n",
    "print(mean, var)"
   ]
  },
  {
   "cell_type": "code",
   "execution_count": 127,
   "metadata": {},
   "outputs": [
    {
     "name": "stdout",
     "output_type": "stream",
     "text": [
      "alpha = 0.05, N = 15 --> c = 0.338\n"
     ]
    }
   ],
   "source": [
    "# See Lecture 3, slide 34\n",
    "print('alpha = 0.05, N = 15 --> c = %5.3f' % kstwo.ppf(0.95, n))"
   ]
  },
  {
   "cell_type": "code",
   "execution_count": 128,
   "metadata": {},
   "outputs": [
    {
     "data": {
      "text/plain": [
       "<matplotlib.legend.Legend at 0x7f2cad72c520>"
      ]
     },
     "execution_count": 128,
     "metadata": {},
     "output_type": "execute_result"
    },
    {
     "data": {
      "image/png": "[encoded data removed]",
      "text/plain": [
       "<Figure size 936x360 with 2 Axes>"
      ]
     },
     "metadata": {
      "needs_background": "light"
     },
     "output_type": "display_data"
    }
   ],
   "source": [
    "plt.figure(figsize=(13,5))\n",
    "plt.subplot(121)\n",
    "x = np.linspace(kstwo.ppf(0.01, n), kstwo.ppf(0.99, n), 100)\n",
    "plt.xlabel('$x$',fontsize=20)\n",
    "plt.plot(x, kstwo.pdf(x, n), 'g-', lw=5, alpha=0.6, label='KS pdf')\n",
    "plt.legend(loc='best', frameon=False,fontsize=15)\n",
    "plt.subplot(122)\n",
    "plt.xlabel('$x$',fontsize=20)\n",
    "plt.plot(x, kstwo.cdf(x,n), 'g-', lw=5, alpha=0.6, label='cumulative df KS')\n",
    "plt.legend(loc='best', frameon=False,fontsize=15)"
   ]
  },
  {
   "cell_type": "markdown",
   "metadata": {},
   "source": [
    "<div id=\"heading--6-3-4\"/>\n",
    "\n",
    "### 6.3.4. `scipy.stats.ks_2samp` to solve Ex. 3 from Exercise Sheet 3"
   ]
  },
  {
   "cell_type": "code",
   "execution_count": 129,
   "metadata": {
    "scrolled": false
   },
   "outputs": [
    {
     "name": "stdout",
     "output_type": "stream",
     "text": [
      "*** Part a ***\n",
      "D_nm = 0.0674, reached at x = 7.0 mJy\n",
      "\n",
      "*** Part b ***\n",
      "chi2(nu=2) = 3.01 (calculated with the approximation)\n",
      "chi2(nu=2) = 3.22 (calculated from chi2 distribution at 20 %)\n",
      "We cannot reject the null hypothesis (20.0 %)\n",
      "\n",
      "*** Part c ***\n",
      "D = 0.1057\n",
      "We cannot reject the null hypothesis (5.0 %)\n"
     ]
    },
    {
     "data": {
      "image/png": "[encoded data removed]",
      "text/plain": [
       "<Figure size 576x360 with 1 Axes>"
      ]
     },
     "metadata": {
      "needs_background": "light"
     },
     "output_type": "display_data"
    }
   ],
   "source": [
    "# Here we see how we could solve Exercise 3 from Sheet 3 with Python\n",
    "\n",
    "from numpy import loadtxt\n",
    "from scipy.stats import ks_2samp\n",
    "from math import sqrt\n",
    "import numpy as np\n",
    "\n",
    "x,G,R = loadtxt('NM22W_Ex3_3_RadioFluxes.dat',usecols=(0,1,2),unpack=True)\n",
    "n = sum(G)\n",
    "m = sum(R)\n",
    "cdfG = np.cumsum(G)/n\n",
    "cdfR = np.cumsum(R)/m\n",
    "\n",
    "# Let's first plot the two cumulative distributions\n",
    "plt.figure(figsize=(8,5))\n",
    "plt.xlabel(r'$x$',fontsize=20)\n",
    "plt.ylabel(r'Cumulative distribution $S(x)$',fontsize=20)\n",
    "plt.plot(x,cdfG,'r-',lw=3,label='Galaxies')\n",
    "plt.plot(x,cdfR,'b-',lw=3,label='Random')\n",
    "plt.legend(loc='best', frameon=False,fontsize=15)\n",
    "\n",
    "###################################################\n",
    "\n",
    "print('*** Part a ***')\n",
    "Dmn = np.max(abs(cdfG-cdfR))\n",
    "xdmn = x[np.where(abs(cdfG-cdfR)==Dmn)]\n",
    "print('D_nm = %6.4f, reached at x = %2.1f mJy' % (Dmn,xdmn))\n",
    "\n",
    "print('\\n*** Part b ***')\n",
    "sig_lev = 0.20\n",
    "nu = 2\n",
    "chi2_approx = 4*Dmn**2*(n*m)/(n+m)\n",
    "chi2_real = chi2.ppf(1-sig_lev, nu)\n",
    "print('chi2(nu=2) = %3.2f (calculated with the approximation)' % chi2_approx)\n",
    "print('chi2(nu=2) = %3.2f (calculated from chi2 distribution at 20 %%)' % chi2_real)\n",
    "if chi2_real > chi2_approx:\n",
    "    print('We cannot reject the null hypothesis (%3.1f %%)' % (sig_lev*100))\n",
    "else:\n",
    "    print('The null hypothesis is rejected (%3.1f %%)' % (sig_lev*100))\n",
    "\n",
    "print('\\n*** Part c ***')\n",
    "D = 1.36*sqrt((n+m)/(n*m))\n",
    "sig_lev = 0.05\n",
    "print('D = %6.4f' % D)\n",
    "if D > Dmn:\n",
    "    print('We cannot reject the null hypothesis (%3.1f %%)' % (sig_lev*100))\n",
    "else:\n",
    "    print('The null hypothesis is rejected (%3.1f %%)' % (sig_lev*100))"
   ]
  },
  {
   "cell_type": "code",
   "execution_count": 161,
   "metadata": {},
   "outputs": [
    {
     "name": "stdout",
     "output_type": "stream",
     "text": [
      "*** Using scipy.stats.ks_2samp ***\n",
      "CAREFUL: to use this method, we first need to set \n",
      "         up two arrays containing the samples!\n",
      "Well done, your samples are set up correctly\n",
      "statistic = 0.0674\n",
      "pvalue    = 0.4160\n",
      "We cannot reject the null hypothesis (5.0 %)\n"
     ]
    },
    {
     "data": {
      "image/png": "[encoded data removed]",
      "text/plain": [
       "<Figure size 576x360 with 1 Axes>"
      ]
     },
     "metadata": {
      "needs_background": "light"
     },
     "output_type": "display_data"
    }
   ],
   "source": [
    "print('*** Using scipy.stats.ks_2samp ***')\n",
    "print('CAREFUL: to use this method, we first need to set up two arrays containing the samples!')\n",
    "\n",
    "sampleG = []\n",
    "sampleR = []\n",
    "for i in range(len(x)):\n",
    "    sampleG.extend([x[i]]*int(G[i]))\n",
    "    sampleR.extend([x[i]]*int(R[i]))\n",
    "    \n",
    "# Let's plot the histograms of the two samples\n",
    "plt.figure(figsize=(8,5))\n",
    "plt.xlabel(r'$x$',fontsize=20)\n",
    "plt.ylabel(r'$N$',fontsize=20)\n",
    "plt.hist(sampleG,facecolor='r',alpha=0.5,label='Galaxies')\n",
    "plt.hist(sampleR,facecolor='b',alpha=0.5,lw=3,label='Random')\n",
    "plt.legend(loc='best', frameon=False,fontsize=15)\n",
    "\n",
    "if len(sampleR) !=m or len(sampleG)!=n: \n",
    "    print('Hey, check your code! Something is wrong with your samples!')\n",
    "else: \n",
    "    print('Well done, your samples are set up correctly')\n",
    "    \n",
    "test = ks_2samp(sampleG,sampleR,alternative='two-sided')\n",
    "print('statistic = %5.4f' % test.statistic)\n",
    "print('pvalue    = %5.4f' % test.pvalue)\n",
    "threshold = 0.05\n",
    "if test.pvalue > threshold:\n",
    "    print('We cannot reject the null hypothesis (%3.1f %%)' % (threshold*100))\n",
    "else:\n",
    "    print('The null hypothesis is rejected (%3.1f %%)' % (threshold*100))"
   ]
  },
  {
   "cell_type": "markdown",
   "metadata": {},
   "source": [
    "--------------------------------------------------------------------------------------------------------------------\n",
    "<div id=\"heading--7\"/>\n",
    "\n",
    "# 7. Errors"
   ]
  },
  {
   "cell_type": "markdown",
   "metadata": {},
   "source": [
    "Sometimes, something goes wrong with your code, and you get an error. There are several types of errors, and the message attached to them is very helpful to understand what is going on. Let's see some examples together (but keep in mind that this list is not exhaustive!)."
   ]
  },
  {
   "cell_type": "markdown",
   "metadata": {},
   "source": [
    "<div id=\"heading--7-1\"/>\n",
    "\n",
    "## 7.1 Error types"
   ]
  },
  {
   "cell_type": "markdown",
   "metadata": {},
   "source": [
    "A **`SyntaxError`** occurs when you write something in the wrong way. For example, you might forget the `:` at the end of an `if` statement, or maybe include a spelling mistake:"
   ]
  },
  {
   "cell_type": "code",
   "execution_count": 130,
   "metadata": {},
   "outputs": [
    {
     "ename": "SyntaxError",
     "evalue": "expected ':' (262795878.py, line 3)",
     "output_type": "error",
     "traceback": [
      "\u001b[0;36m  Input \u001b[0;32mIn [130]\u001b[0;36m\u001b[0m\n\u001b[0;31m    if a > b\u001b[0m\n\u001b[0m            ^\u001b[0m\n\u001b[0;31mSyntaxError\u001b[0m\u001b[0;31m:\u001b[0m expected ':'\n"
     ]
    }
   ],
   "source": [
    "a = 4\n",
    "b = 2\n",
    "if a > b\n",
    "    print('correct')"
   ]
  },
  {
   "cell_type": "code",
   "execution_count": 131,
   "metadata": {},
   "outputs": [
    {
     "ename": "SyntaxError",
     "evalue": "invalid syntax (1520007063.py, line 1)",
     "output_type": "error",
     "traceback": [
      "\u001b[0;36m  Input \u001b[0;32mIn [131]\u001b[0;36m\u001b[0m\n\u001b[0;31m    for i im range(1,5):\u001b[0m\n\u001b[0m          ^\u001b[0m\n\u001b[0;31mSyntaxError\u001b[0m\u001b[0;31m:\u001b[0m invalid syntax\n"
     ]
    }
   ],
   "source": [
    "for i im range(1,5):\n",
    "    print(i)"
   ]
  },
  {
   "cell_type": "markdown",
   "metadata": {},
   "source": [
    "An **`IndexError`** happens when you are trying to access an item at an invalid index:"
   ]
  },
  {
   "cell_type": "code",
   "execution_count": 132,
   "metadata": {},
   "outputs": [
    {
     "ename": "IndexError",
     "evalue": "list index out of range",
     "output_type": "error",
     "traceback": [
      "\u001b[0;31m---------------------------------------------------------------------------\u001b[0m",
      "\u001b[0;31mIndexError\u001b[0m                                Traceback (most recent call last)",
      "Input \u001b[0;32mIn [132]\u001b[0m, in \u001b[0;36m<cell line: 2>\u001b[0;34m()\u001b[0m\n\u001b[1;32m      1\u001b[0m a_list \u001b[38;5;241m=\u001b[39m [\u001b[38;5;241m1\u001b[39m,\u001b[38;5;241m2\u001b[39m,\u001b[38;5;241m3\u001b[39m]\n\u001b[0;32m----> 2\u001b[0m \u001b[38;5;28mprint\u001b[39m(a_list[\u001b[38;5;241m3\u001b[39m])\n",
      "\u001b[0;31mIndexError\u001b[0m: list index out of range"
     ]
    }
   ],
   "source": [
    "a_list = [1,2,3]\n",
    "print(a_list[3])"
   ]
  },
  {
   "cell_type": "markdown",
   "metadata": {},
   "source": [
    "An **`ImportError`** is thrown when a specified function can not be found:"
   ]
  },
  {
   "cell_type": "code",
   "execution_count": 133,
   "metadata": {},
   "outputs": [
    {
     "ename": "ImportError",
     "evalue": "cannot import name 'pii' from 'math' (/usr/lib64/python3.10/lib-dynload/math.cpython-310-x86_64-linux-gnu.so)",
     "output_type": "error",
     "traceback": [
      "\u001b[0;31m---------------------------------------------------------------------------\u001b[0m",
      "\u001b[0;31mImportError\u001b[0m                               Traceback (most recent call last)",
      "Input \u001b[0;32mIn [133]\u001b[0m, in \u001b[0;36m<cell line: 1>\u001b[0;34m()\u001b[0m\n\u001b[0;32m----> 1\u001b[0m \u001b[38;5;28;01mfrom\u001b[39;00m \u001b[38;5;21;01mmath\u001b[39;00m \u001b[38;5;28;01mimport\u001b[39;00m pii\n",
      "\u001b[0;31mImportError\u001b[0m: cannot import name 'pii' from 'math' (/usr/lib64/python3.10/lib-dynload/math.cpython-310-x86_64-linux-gnu.so)"
     ]
    }
   ],
   "source": [
    "from math import pii"
   ]
  },
  {
   "cell_type": "markdown",
   "metadata": {},
   "source": [
    "A **`TypeError`** happens when you are trying to apply an operation or a function to an object with an inappropriate type:"
   ]
  },
  {
   "cell_type": "code",
   "execution_count": 134,
   "metadata": {},
   "outputs": [
    {
     "ename": "TypeError",
     "evalue": "can only concatenate str (not \"int\") to str",
     "output_type": "error",
     "traceback": [
      "\u001b[0;31m---------------------------------------------------------------------------\u001b[0m",
      "\u001b[0;31mTypeError\u001b[0m                                 Traceback (most recent call last)",
      "Input \u001b[0;32mIn [134]\u001b[0m, in \u001b[0;36m<cell line: 1>\u001b[0;34m()\u001b[0m\n\u001b[0;32m----> 1\u001b[0m \u001b[38;5;124m'\u001b[39m\u001b[38;5;124m2\u001b[39m\u001b[38;5;124m'\u001b[39m\u001b[38;5;241m+\u001b[39m\u001b[38;5;241m2\u001b[39m\n",
      "\u001b[0;31mTypeError\u001b[0m: can only concatenate str (not \"int\") to str"
     ]
    }
   ],
   "source": [
    "'2'+2"
   ]
  },
  {
   "cell_type": "code",
   "execution_count": 135,
   "metadata": {},
   "outputs": [
    {
     "ename": "TypeError",
     "evalue": "must be real number, not str",
     "output_type": "error",
     "traceback": [
      "\u001b[0;31m---------------------------------------------------------------------------\u001b[0m",
      "\u001b[0;31mTypeError\u001b[0m                                 Traceback (most recent call last)",
      "Input \u001b[0;32mIn [135]\u001b[0m, in \u001b[0;36m<cell line: 3>\u001b[0;34m()\u001b[0m\n\u001b[1;32m      1\u001b[0m \u001b[38;5;28;01mimport\u001b[39;00m \u001b[38;5;21;01mmath\u001b[39;00m\n\u001b[1;32m      2\u001b[0m \u001b[38;5;28;01mfrom\u001b[39;00m \u001b[38;5;21;01mmath\u001b[39;00m \u001b[38;5;28;01mimport\u001b[39;00m log10\n\u001b[0;32m----> 3\u001b[0m log10(\u001b[38;5;124m'\u001b[39m\u001b[38;5;124m10\u001b[39m\u001b[38;5;124m'\u001b[39m)\n",
      "\u001b[0;31mTypeError\u001b[0m: must be real number, not str"
     ]
    }
   ],
   "source": [
    "import math\n",
    "from math import log10\n",
    "log10('10')"
   ]
  },
  {
   "cell_type": "markdown",
   "metadata": {},
   "source": [
    "A **`ValueError`** is thrown when a function's argument is of an inappropriate type:"
   ]
  },
  {
   "cell_type": "code",
   "execution_count": 136,
   "metadata": {},
   "outputs": [
    {
     "ename": "ValueError",
     "evalue": "invalid literal for int() with base 10: 'word'",
     "output_type": "error",
     "traceback": [
      "\u001b[0;31m---------------------------------------------------------------------------\u001b[0m",
      "\u001b[0;31mValueError\u001b[0m                                Traceback (most recent call last)",
      "Input \u001b[0;32mIn [136]\u001b[0m, in \u001b[0;36m<cell line: 1>\u001b[0;34m()\u001b[0m\n\u001b[0;32m----> 1\u001b[0m \u001b[38;5;28mint\u001b[39m(\u001b[38;5;124m'\u001b[39m\u001b[38;5;124mword\u001b[39m\u001b[38;5;124m'\u001b[39m)\n",
      "\u001b[0;31mValueError\u001b[0m: invalid literal for int() with base 10: 'word'"
     ]
    }
   ],
   "source": [
    "int('word')"
   ]
  },
  {
   "cell_type": "code",
   "execution_count": 137,
   "metadata": {
    "scrolled": true
   },
   "outputs": [
    {
     "ename": "ValueError",
     "evalue": "math domain error",
     "output_type": "error",
     "traceback": [
      "\u001b[0;31m---------------------------------------------------------------------------\u001b[0m",
      "\u001b[0;31mValueError\u001b[0m                                Traceback (most recent call last)",
      "Input \u001b[0;32mIn [137]\u001b[0m, in \u001b[0;36m<cell line: 1>\u001b[0;34m()\u001b[0m\n\u001b[0;32m----> 1\u001b[0m log10(\u001b[38;5;241m-\u001b[39m\u001b[38;5;241m10\u001b[39m)\n",
      "\u001b[0;31mValueError\u001b[0m: math domain error"
     ]
    }
   ],
   "source": [
    "log10(-10)"
   ]
  },
  {
   "cell_type": "markdown",
   "metadata": {},
   "source": [
    "A **`NameError`** is thrown when an object could not be found:"
   ]
  },
  {
   "cell_type": "code",
   "execution_count": 138,
   "metadata": {},
   "outputs": [
    {
     "ename": "NameError",
     "evalue": "name 'random' is not defined",
     "output_type": "error",
     "traceback": [
      "\u001b[0;31m---------------------------------------------------------------------------\u001b[0m",
      "\u001b[0;31mNameError\u001b[0m                                 Traceback (most recent call last)",
      "Input \u001b[0;32mIn [138]\u001b[0m, in \u001b[0;36m<cell line: 2>\u001b[0;34m()\u001b[0m\n\u001b[1;32m      1\u001b[0m \u001b[38;5;66;03m#import random\u001b[39;00m\n\u001b[0;32m----> 2\u001b[0m a \u001b[38;5;241m=\u001b[39m random\u001b[38;5;241m.\u001b[39mrandom()\n",
      "\u001b[0;31mNameError\u001b[0m: name 'random' is not defined"
     ]
    }
   ],
   "source": [
    "#import random\n",
    "a = random.random()"
   ]
  },
  {
   "cell_type": "code",
   "execution_count": 140,
   "metadata": {},
   "outputs": [
    {
     "ename": "NameError",
     "evalue": "name 'not_defined' is not defined",
     "output_type": "error",
     "traceback": [
      "\u001b[0;31m---------------------------------------------------------------------------\u001b[0m",
      "\u001b[0;31mNameError\u001b[0m                                 Traceback (most recent call last)",
      "Input \u001b[0;32mIn [140]\u001b[0m, in \u001b[0;36m<cell line: 1>\u001b[0;34m()\u001b[0m\n\u001b[0;32m----> 1\u001b[0m \u001b[38;5;28mprint\u001b[39m(not_defined)\n",
      "\u001b[0;31mNameError\u001b[0m: name 'not_defined' is not defined"
     ]
    }
   ],
   "source": [
    "print(not_defined)"
   ]
  },
  {
   "cell_type": "markdown",
   "metadata": {},
   "source": [
    "A **`ZeroDivisionError`** is thrown when the second operator in a division is zero:"
   ]
  },
  {
   "cell_type": "code",
   "execution_count": 141,
   "metadata": {},
   "outputs": [
    {
     "ename": "ZeroDivisionError",
     "evalue": "division by zero",
     "output_type": "error",
     "traceback": [
      "\u001b[0;31m---------------------------------------------------------------------------\u001b[0m",
      "\u001b[0;31mZeroDivisionError\u001b[0m                         Traceback (most recent call last)",
      "Input \u001b[0;32mIn [141]\u001b[0m, in \u001b[0;36m<cell line: 1>\u001b[0;34m()\u001b[0m\n\u001b[0;32m----> 1\u001b[0m x \u001b[38;5;241m=\u001b[39m \u001b[38;5;241m100\u001b[39m\u001b[38;5;241m/\u001b[39m\u001b[38;5;241m0\u001b[39m\n",
      "\u001b[0;31mZeroDivisionError\u001b[0m: division by zero"
     ]
    }
   ],
   "source": [
    "x = 100/0"
   ]
  },
  {
   "cell_type": "markdown",
   "metadata": {},
   "source": [
    "<div id=\"heading--7-2\"/>\n",
    "\n",
    "## 7.2 Some more complicated examples"
   ]
  },
  {
   "cell_type": "code",
   "execution_count": 142,
   "metadata": {},
   "outputs": [],
   "source": [
    "def divide(a,b):\n",
    "    division = a/b\n",
    "    return division"
   ]
  },
  {
   "cell_type": "code",
   "execution_count": 143,
   "metadata": {},
   "outputs": [],
   "source": [
    "def subtract(a,b):\n",
    "    result = a-b\n",
    "    return result"
   ]
  },
  {
   "cell_type": "code",
   "execution_count": 144,
   "metadata": {},
   "outputs": [],
   "source": [
    "def power(a,b):\n",
    "    result = a**b\n",
    "    return result"
   ]
  },
  {
   "cell_type": "code",
   "execution_count": 145,
   "metadata": {},
   "outputs": [
    {
     "ename": "ZeroDivisionError",
     "evalue": "division by zero",
     "output_type": "error",
     "traceback": [
      "\u001b[0;31m---------------------------------------------------------------------------\u001b[0m",
      "\u001b[0;31mZeroDivisionError\u001b[0m                         Traceback (most recent call last)",
      "Input \u001b[0;32mIn [145]\u001b[0m, in \u001b[0;36m<cell line: 3>\u001b[0;34m()\u001b[0m\n\u001b[1;32m      1\u001b[0m n1 \u001b[38;5;241m=\u001b[39m power(\u001b[38;5;241m5\u001b[39m,\u001b[38;5;241m2\u001b[39m)\n\u001b[1;32m      2\u001b[0m n2 \u001b[38;5;241m=\u001b[39m subtract(n1,\u001b[38;5;241m25\u001b[39m)\n\u001b[0;32m----> 3\u001b[0m s \u001b[38;5;241m=\u001b[39m divide(n1,n2)\n\u001b[1;32m      4\u001b[0m \u001b[38;5;28mprint\u001b[39m(s)\n",
      "Input \u001b[0;32mIn [142]\u001b[0m, in \u001b[0;36mdivide\u001b[0;34m(a, b)\u001b[0m\n\u001b[1;32m      1\u001b[0m \u001b[38;5;28;01mdef\u001b[39;00m \u001b[38;5;21mdivide\u001b[39m(a,b):\n\u001b[0;32m----> 2\u001b[0m     division \u001b[38;5;241m=\u001b[39m \u001b[43ma\u001b[49m\u001b[38;5;241;43m/\u001b[39;49m\u001b[43mb\u001b[49m\n\u001b[1;32m      3\u001b[0m     \u001b[38;5;28;01mreturn\u001b[39;00m division\n",
      "\u001b[0;31mZeroDivisionError\u001b[0m: division by zero"
     ]
    }
   ],
   "source": [
    "n1 = power(5,2)\n",
    "n2 = subtract(n1,25)\n",
    "s = divide(n1,n2)\n",
    "print(s)"
   ]
  },
  {
   "cell_type": "code",
   "execution_count": 146,
   "metadata": {},
   "outputs": [
    {
     "ename": "TypeError",
     "evalue": "unsupported operand type(s) for ** or pow(): 'str' and 'int'",
     "output_type": "error",
     "traceback": [
      "\u001b[0;31m---------------------------------------------------------------------------\u001b[0m",
      "\u001b[0;31mTypeError\u001b[0m                                 Traceback (most recent call last)",
      "Input \u001b[0;32mIn [146]\u001b[0m, in \u001b[0;36m<cell line: 10>\u001b[0;34m()\u001b[0m\n\u001b[1;32m      7\u001b[0m     \u001b[38;5;28;01mreturn\u001b[39;00m result\n\u001b[1;32m      9\u001b[0m n1 \u001b[38;5;241m=\u001b[39m power(\u001b[38;5;241m2\u001b[39m,\u001b[38;5;241m5\u001b[39m)\n\u001b[0;32m---> 10\u001b[0m n2 \u001b[38;5;241m=\u001b[39m power(\u001b[38;5;124m'\u001b[39m\u001b[38;5;124ma\u001b[39m\u001b[38;5;124m'\u001b[39m,\u001b[38;5;241m1\u001b[39m)\n\u001b[1;32m     11\u001b[0m s \u001b[38;5;241m=\u001b[39m add(n1,n2)\n\u001b[1;32m     12\u001b[0m \u001b[38;5;28mprint\u001b[39m(s)\n",
      "Input \u001b[0;32mIn [146]\u001b[0m, in \u001b[0;36mpower\u001b[0;34m(a, b)\u001b[0m\n\u001b[1;32m      5\u001b[0m \u001b[38;5;28;01mdef\u001b[39;00m \u001b[38;5;21mpower\u001b[39m(a,b):\n\u001b[0;32m----> 6\u001b[0m     result \u001b[38;5;241m=\u001b[39m \u001b[43ma\u001b[49m\u001b[38;5;241;43m*\u001b[39;49m\u001b[38;5;241;43m*\u001b[39;49m\u001b[43mb\u001b[49m\n\u001b[1;32m      7\u001b[0m     \u001b[38;5;28;01mreturn\u001b[39;00m result\n",
      "\u001b[0;31mTypeError\u001b[0m: unsupported operand type(s) for ** or pow(): 'str' and 'int'"
     ]
    }
   ],
   "source": [
    "def add(a,b):\n",
    "    total = a+b\n",
    "    return total\n",
    "\n",
    "def power(a,b):\n",
    "    result = a**b\n",
    "    return result\n",
    "\n",
    "n1 = power(2,5)\n",
    "n2 = power('a',1)\n",
    "s = add(n1,n2)\n",
    "print(s)"
   ]
  },
  {
   "cell_type": "markdown",
   "metadata": {},
   "source": [
    "<div id=\"heading--7-3\"/>\n",
    "\n",
    "## 7.3 `try` and `except`"
   ]
  },
  {
   "cell_type": "markdown",
   "metadata": {},
   "source": [
    "Until now, we have ignored the fact that things can go wrong. We can have have tried to prevent runtime errors by checking data which may be incorrect before we used it, but we haven’t yet seen how we can handle errors when they do occur – our programs so far have just crashed suddenly whenever they have encountered one.\n",
    "\n",
    "There are some situations in which runtime errors are likely to occur. Whenever we try to read a file or get input from a user, there is a chance that something unexpected will happen (the file may have been moved or deleted, and the user may enter data which is not in the right format). Good programmers should add safeguards to their programs so that common situations like this can be handled gracefully: a program which crashes whenever it encounters an easily forseeable problem is not very pleasant to use!\n",
    "\n",
    "If we know that a particular section of our program is likely to cause an error, we can tell Python what to do if it does happen. Instead of letting the error crash our program we can intercept it, do something about it, and allow the program to continue.\n",
    "\n",
    "All the runtime (and syntax) errors that we have encountered are called exceptions in Python – Python uses them to indicate that something exceptional has occurred, and that your program cannot continue unless it is handled.\n",
    "\n",
    "To handle possible exceptions, we use a `try`-`except` block:"
   ]
  },
  {
   "cell_type": "code",
   "execution_count": 147,
   "metadata": {},
   "outputs": [
    {
     "name": "stdout",
     "output_type": "stream",
     "text": [
      "Please enter your age: seventeen\n",
      "Hey, that wasn't a number!\n"
     ]
    }
   ],
   "source": [
    "try:\n",
    "    age = int(input(\"Please enter your age: \"))\n",
    "    print(\"I see that you are %d years old.\" % age)\n",
    "except ValueError:\n",
    "    print(\"Hey, that wasn't a number!\")"
   ]
  },
  {
   "cell_type": "markdown",
   "metadata": {},
   "source": [
    "Python will try to process all the statements inside the `try` block. If a `ValueError` occurs at any point as it is executing them, the flow of control will immediately pass to the `except` block, and any remaining statements in the `try` block will be skipped.\n",
    "\n",
    "In this example, we know that the error is likely to occur when we try to convert the user’s input to an integer. If the input string is not a number, this line will trigger a `ValueError`, and that's why we specified it as the type of error that we are going to handle."
   ]
  },
  {
   "cell_type": "markdown",
   "metadata": {},
   "source": [
    "It is possible for one `except` clause to handle more than one kind of error: we can provide a tuple of exception types instead of a single type. Also, a `try`-`except` block can also have multiple `except` clauses.\n",
    "\n",
    "**A small exercise**: what types of errors could you expect for the following piece of code? Write a `try`-`except` block to deal with them."
   ]
  },
  {
   "cell_type": "code",
   "execution_count": null,
   "metadata": {},
   "outputs": [],
   "source": [
    "dividend = int(input(\"Please enter the dividend: \"))\n",
    "divisor = int(input(\"Please enter the divisor: \"))\n",
    "print(\"%d / %d = %f\" % (dividend, divisor, dividend/divisor))"
   ]
  },
  {
   "cell_type": "markdown",
   "metadata": {},
   "source": [
    "<div id=\"heading--7-4\"/>\n",
    "\n",
    "## 7.4 Logic errors"
   ]
  },
  {
   "cell_type": "markdown",
   "metadata": {},
   "source": [
    "**Logical errors** are the most difficult to fix. They occur when the program runs without crashing, but produces an incorrect result. The error is caused by a mistake in the program’s logic. In most cases, logical errors will not result in an error message, because no syntax or runtime error has occurred. You will have to find the problem on your own by reviewing all the relevant parts of your code.\n",
    "\n",
    "Here are some examples of mistakes which lead to logical errors:\n",
    "\n",
    "* using the wrong variable name\n",
    "* indenting a block to the wrong level\n",
    "* using integer division instead of floating point division\n",
    "* getting operator precedence wrong\n",
    "* making a mistake in a boolean expression\n",
    "* off-by-one, and other numerical errors\n",
    "\n",
    "If you misspell an identifier name, you may get a runtime error or a logical error, *depending on whether the misspelled name is defined*.\n",
    "\n",
    "A common source of variable name mix-ups and incorrect indentation is frequent copying and pasting of large blocks of code. If you have many duplicate lines with minor differences, it is very easy to miss a necessary change when you are editing your pasted lines. Whenever possible, you should always try to factor out excessive duplication using functions and loops.\n",
    "\n",
    "Let's see some examples! "
   ]
  },
  {
   "cell_type": "code",
   "execution_count": null,
   "metadata": {},
   "outputs": [],
   "source": [
    "a = 1 \n",
    "while a < 10:\n",
    "    print('a is smaller than 10')"
   ]
  },
  {
   "cell_type": "markdown",
   "metadata": {},
   "source": [
    "As we saw in Sect. 3.2.2, this `while` loop will compile and run with no problem, but it will never finish, and may crash Python.\n",
    "\n",
    "Logic errors are only erroneous in the perspective of the programming goal one might have; in many cases Python is working as it was intended, *just not as the user intended*. The above while loop is functioning correctly as Python is intended to, but the exit the condition the user needs is missing. This means that Python will not complain about this piece of code, and will not raise any error, but you will not achieve the goal you had for your program.\n",
    "\n",
    "Sometimes, the outcome is less tragic, but still wrong with respect to what you want to achieve. **Can you spot the logic errors in the following cells?**"
   ]
  },
  {
   "cell_type": "code",
   "execution_count": null,
   "metadata": {},
   "outputs": [],
   "source": [
    "x = int(input('Enter a number: '))\n",
    "y = int(input('Enter another number: '))\n",
    "z = x+y/2\n",
    "print('The average of the two numbers you have entered is:',z)"
   ]
  },
  {
   "cell_type": "code",
   "execution_count": null,
   "metadata": {},
   "outputs": [],
   "source": [
    "sum_squares = 0\n",
    "for i in range(10):\n",
    "    i_sq = i**2\n",
    "sum_squares += i_sq"
   ]
  },
  {
   "cell_type": "code",
   "execution_count": null,
   "metadata": {},
   "outputs": [],
   "source": [
    "nums = 0\n",
    "for num in range(10):\n",
    "    num += num"
   ]
  },
  {
   "cell_type": "code",
   "execution_count": null,
   "metadata": {},
   "outputs": [],
   "source": [
    "product = 0\n",
    "for i in range(10):\n",
    "    product *= i"
   ]
  },
  {
   "cell_type": "markdown",
   "metadata": {},
   "source": [
    "<font color='magenta'>**CAREFUL**: because these errors are hard to catch and could result in a wrong outcome for your program, it is important to accurately test the code!</font>"
   ]
  }
 ],
 "metadata": {
  "kernelspec": {
   "display_name": "Python 3 (ipykernel)",
   "language": "python",
   "name": "python3"
  },
  "language_info": {
   "codemirror_mode": {
    "name": "ipython",
    "version": 3
   },
   "file_extension": ".py",
   "mimetype": "text/x-python",
   "name": "python",
   "nbconvert_exporter": "python",
   "pygments_lexer": "ipython3",
   "version": "3.8.10"
  }
 },
 "nbformat": 4,
 "nbformat_minor": 4
}
